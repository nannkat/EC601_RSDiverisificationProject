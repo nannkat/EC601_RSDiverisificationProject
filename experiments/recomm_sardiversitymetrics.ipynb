{
 "cells": [
  {
   "cell_type": "markdown",
   "id": "e7a1533a-ee80-41f4-896e-6dc8d647ff1e",
   "metadata": {},
   "source": [
    "# SAR\n",
    "https://github.com/microsoft/recommenders/blob/main/examples/02_model_collaborative_filtering/sar_deep_dive.ipynb"
   ]
  },
  {
   "cell_type": "markdown",
   "id": "5c808a32-2fc2-41c1-a4a9-fd9ddbc34090",
   "metadata": {},
   "source": [
    "## Prepare"
   ]
  },
  {
   "cell_type": "code",
   "execution_count": 1,
   "id": "edadbd2a-6828-41b5-ac17-33080afe256b",
   "metadata": {},
   "outputs": [
    {
     "name": "stdout",
     "output_type": "stream",
     "text": [
      "System version: 3.7.0 (default, Oct  9 2018, 10:31:47) \n",
      "[GCC 7.3.0]\n",
      "Pandas version: 1.1.5\n"
     ]
    }
   ],
   "source": [
    "# set the environment path to find Recommenders\n",
    "import sys\n",
    "\n",
    "import itertools\n",
    "import logging\n",
    "import os\n",
    "\n",
    "import numpy as np\n",
    "import pandas as pd\n",
    "import papermill as pm\n",
    "\n",
    "from recommenders.datasets import movielens\n",
    "from recommenders.datasets.python_splitters import python_stratified_split\n",
    "from recommenders.evaluation.python_evaluation import map_at_k, ndcg_at_k, precision_at_k, recall_at_k\n",
    "from recommenders.models.sar.sar_singlenode import SARSingleNode\n",
    "\n",
    "print(\"System version: {}\".format(sys.version))\n",
    "print(\"Pandas version: {}\".format(pd.__version__))"
   ]
  },
  {
   "cell_type": "code",
   "execution_count": 2,
   "id": "8a2398d6-339c-43f8-91b8-7d67ab9f5731",
   "metadata": {},
   "outputs": [],
   "source": [
    "import fun\n",
    "from pyspark.sql.types import StringType, FloatType, IntegerType, LongType, StructType, StructField\n",
    "from recommenders.evaluation.spark_evaluation import SparkRatingEvaluation, SparkRankingEvaluation, SparkDiversityEvaluation"
   ]
  },
  {
   "cell_type": "code",
   "execution_count": 3,
   "id": "7b994938-159e-4a0b-92ae-cbe954aedc4c",
   "metadata": {},
   "outputs": [],
   "source": [
    "# top k items to recommend\n",
    "TOP_K = 10\n",
    "\n",
    "# Select MovieLens data size: 100k, 1m, 10m, or 20m\n",
    "MOVIELENS_DATA_SIZE = '100k'"
   ]
  },
  {
   "cell_type": "markdown",
   "id": "a3c1dc24-eb0b-4c6f-8259-6009cb52fbdc",
   "metadata": {},
   "source": [
    "## Import and prepare data"
   ]
  },
  {
   "cell_type": "code",
   "execution_count": 4,
   "id": "89d34cc6-2ecc-4f76-859f-45019109cb39",
   "metadata": {},
   "outputs": [
    {
     "name": "stderr",
     "output_type": "stream",
     "text": [
      "100%|██████████| 4.81k/4.81k [00:01<00:00, 3.78kKB/s]\n"
     ]
    },
    {
     "name": "stdout",
     "output_type": "stream",
     "text": [
      "Spark df created, info: \n",
      "\n",
      "root\n",
      " |-- UserId: integer (nullable = true)\n",
      " |-- MovieId: integer (nullable = true)\n",
      " |-- Rating: float (nullable = true)\n",
      " |-- Timestamp: long (nullable = true)\n",
      " |-- title: string (nullable = true)\n",
      " |-- genres: string (nullable = true)\n",
      "\n",
      "+------+-------+------+---------+------------+------+\n",
      "|UserId|MovieId|Rating|Timestamp|       title|genres|\n",
      "+------+-------+------+---------+------------+------+\n",
      "|   196|    242|   3.0|881250949|Kolya (1996)|Comedy|\n",
      "|    63|    242|   3.0|875747190|Kolya (1996)|Comedy|\n",
      "|   226|    242|   5.0|883888671|Kolya (1996)|Comedy|\n",
      "|   154|    242|   3.0|879138235|Kolya (1996)|Comedy|\n",
      "|   306|    242|   5.0|876503793|Kolya (1996)|Comedy|\n",
      "+------+-------+------+---------+------------+------+\n",
      "only showing top 5 rows\n",
      "\n"
     ]
    },
    {
     "name": "stderr",
     "output_type": "stream",
     "text": [
      "/usr4/cs542sp/nannkat/.conda/envs/condarec/lib/python3.7/site-packages/pandas/core/indexing.py:1743: SettingWithCopyWarning: \n",
      "A value is trying to be set on a copy of a slice from a DataFrame.\n",
      "Try using .loc[row_indexer,col_indexer] = value instead\n",
      "\n",
      "See the caveats in the documentation: https://pandas.pydata.org/pandas-docs/stable/user_guide/indexing.html#returning-a-view-versus-a-copy\n",
      "  isetter(ilocs[0], value)\n"
     ]
    },
    {
     "data": {
      "text/html": [
       "<div>\n",
       "<style scoped>\n",
       "    .dataframe tbody tr th:only-of-type {\n",
       "        vertical-align: middle;\n",
       "    }\n",
       "\n",
       "    .dataframe tbody tr th {\n",
       "        vertical-align: top;\n",
       "    }\n",
       "\n",
       "    .dataframe thead th {\n",
       "        text-align: right;\n",
       "    }\n",
       "</style>\n",
       "<table border=\"1\" class=\"dataframe\">\n",
       "  <thead>\n",
       "    <tr style=\"text-align: right;\">\n",
       "      <th></th>\n",
       "      <th>UserId</th>\n",
       "      <th>MovieId</th>\n",
       "      <th>Rating</th>\n",
       "      <th>Timestamp</th>\n",
       "      <th>Title</th>\n",
       "    </tr>\n",
       "  </thead>\n",
       "  <tbody>\n",
       "    <tr>\n",
       "      <th>0</th>\n",
       "      <td>196</td>\n",
       "      <td>242</td>\n",
       "      <td>3.0</td>\n",
       "      <td>881250949</td>\n",
       "      <td>Kolya (1996)</td>\n",
       "    </tr>\n",
       "    <tr>\n",
       "      <th>1</th>\n",
       "      <td>63</td>\n",
       "      <td>242</td>\n",
       "      <td>3.0</td>\n",
       "      <td>875747190</td>\n",
       "      <td>Kolya (1996)</td>\n",
       "    </tr>\n",
       "    <tr>\n",
       "      <th>2</th>\n",
       "      <td>226</td>\n",
       "      <td>242</td>\n",
       "      <td>5.0</td>\n",
       "      <td>883888671</td>\n",
       "      <td>Kolya (1996)</td>\n",
       "    </tr>\n",
       "    <tr>\n",
       "      <th>3</th>\n",
       "      <td>154</td>\n",
       "      <td>242</td>\n",
       "      <td>3.0</td>\n",
       "      <td>879138235</td>\n",
       "      <td>Kolya (1996)</td>\n",
       "    </tr>\n",
       "    <tr>\n",
       "      <th>4</th>\n",
       "      <td>306</td>\n",
       "      <td>242</td>\n",
       "      <td>5.0</td>\n",
       "      <td>876503793</td>\n",
       "      <td>Kolya (1996)</td>\n",
       "    </tr>\n",
       "  </tbody>\n",
       "</table>\n",
       "</div>"
      ],
      "text/plain": [
       "   UserId  MovieId  Rating  Timestamp         Title\n",
       "0     196      242     3.0  881250949  Kolya (1996)\n",
       "1      63      242     3.0  875747190  Kolya (1996)\n",
       "2     226      242     5.0  883888671  Kolya (1996)\n",
       "3     154      242     3.0  879138235  Kolya (1996)\n",
       "4     306      242     5.0  876503793  Kolya (1996)"
      ]
     },
     "execution_count": 4,
     "metadata": {},
     "output_type": "execute_result"
    }
   ],
   "source": [
    "data_full = movielens.load_pandas_df(\n",
    "    size=MOVIELENS_DATA_SIZE,\n",
    "    header=['UserId', 'MovieId', 'Rating', 'Timestamp'],\n",
    "    title_col='Title',\n",
    "    genres_col='Genres'\n",
    ")\n",
    "\n",
    "data_full_spark = fun.movielens_to_spark(data_full, schema = fun.get_movielens_schema())\n",
    "\n",
    "data = data_full[['UserId', 'MovieId', 'Rating', 'Timestamp', 'Title']]\n",
    "\n",
    "# Convert the float precision to 32-bit in order to reduce memory consumption \n",
    "data.loc[:, 'Rating'] = data['Rating'].astype(np.float32)\n",
    "\n",
    "data.head()"
   ]
  },
  {
   "cell_type": "code",
   "execution_count": 5,
   "id": "e49ecc85-af80-45c8-a888-1ea04da93563",
   "metadata": {},
   "outputs": [],
   "source": [
    "header = {\n",
    "    \"col_user\": \"UserId\",\n",
    "    \"col_item\": \"MovieId\",\n",
    "    \"col_rating\": \"Rating\",\n",
    "    \"col_timestamp\": \"Timestamp\",\n",
    "    \"col_prediction\": \"Prediction\",\n",
    "}\n",
    "\n",
    "train, test = python_stratified_split(data, ratio=0.75, col_user=header[\"col_user\"], col_item=header[\"col_item\"], seed=42)"
   ]
  },
  {
   "cell_type": "code",
   "execution_count": 6,
   "id": "c8356d8b-ceeb-439b-a829-0ea12711e197",
   "metadata": {},
   "outputs": [],
   "source": [
    "traintestschema = StructType(\n",
    "    (StructField(\"UserId\", IntegerType()),\n",
    "    StructField(\"MovieId\", IntegerType()),\n",
    "    StructField(\"Rating\", FloatType()),\n",
    "    StructField(\"Timestamp\", LongType())))"
   ]
  },
  {
   "cell_type": "code",
   "execution_count": 7,
   "id": "3a30e2a9-9642-4854-9daf-8726eacee485",
   "metadata": {},
   "outputs": [
    {
     "name": "stdout",
     "output_type": "stream",
     "text": [
      "Spark df created, info: \n",
      "\n",
      "root\n",
      " |-- UserId: integer (nullable = true)\n",
      " |-- MovieId: integer (nullable = true)\n",
      " |-- Rating: float (nullable = true)\n",
      " |-- Timestamp: long (nullable = true)\n",
      "\n",
      "+------+-------+------+---------+\n",
      "|UserId|MovieId|Rating|Timestamp|\n",
      "+------+-------+------+---------+\n",
      "|     1|    232|   3.0|878543196|\n",
      "|     1|     66|   4.0|878543030|\n",
      "|     1|    106|   4.0|875241390|\n",
      "|     1|     97|   3.0|875073128|\n",
      "|     1|     73|   3.0|876892774|\n",
      "+------+-------+------+---------+\n",
      "only showing top 5 rows\n",
      "\n",
      "Spark df created, info: \n",
      "\n",
      "root\n",
      " |-- UserId: integer (nullable = true)\n",
      " |-- MovieId: integer (nullable = true)\n",
      " |-- Rating: float (nullable = true)\n",
      " |-- Timestamp: long (nullable = true)\n",
      "\n",
      "+------+-------+------+---------+\n",
      "|UserId|MovieId|Rating|Timestamp|\n",
      "+------+-------+------+---------+\n",
      "|     1|     49|   3.0|878542478|\n",
      "|     1|     69|   3.0|875072262|\n",
      "|     1|    221|   5.0|887431921|\n",
      "|     1|      5|   3.0|889751712|\n",
      "|     1|    139|   3.0|878543216|\n",
      "+------+-------+------+---------+\n",
      "only showing top 5 rows\n",
      "\n"
     ]
    }
   ],
   "source": [
    "train_df_spark = fun.movielens_to_spark(train[[\"UserId\", \"MovieId\", \"Rating\",\"Timestamp\"]], schema = traintestschema)\n",
    "test_df_spark = fun.movielens_to_spark(test[[\"UserId\", \"MovieId\", \"Rating\",\"Timestamp\"]], schema = traintestschema)"
   ]
  },
  {
   "cell_type": "code",
   "execution_count": 7,
   "id": "7eba3d35-b0d7-482e-bfcf-e35628f84cfd",
   "metadata": {},
   "outputs": [],
   "source": [
    "feature_data = fun.create_feature_data(data_full_spark)"
   ]
  },
  {
   "cell_type": "markdown",
   "id": "ebc87278-1315-495b-838b-72721fe9cc20",
   "metadata": {},
   "source": [
    "## Train and predict SAR "
   ]
  },
  {
   "cell_type": "code",
   "execution_count": 8,
   "id": "6951b328-5d09-4316-aadb-fd140e55b162",
   "metadata": {},
   "outputs": [],
   "source": [
    "model = SARSingleNode(\n",
    "    similarity_type=\"jaccard\", \n",
    "    time_decay_coefficient=30, \n",
    "    time_now=None, \n",
    "    timedecay_formula=True, \n",
    "    **header\n",
    ")"
   ]
  },
  {
   "cell_type": "code",
   "execution_count": 9,
   "id": "f26716ef-6dfd-4df5-afd4-2725c90fe68f",
   "metadata": {},
   "outputs": [],
   "source": [
    "model.fit(train)"
   ]
  },
  {
   "cell_type": "code",
   "execution_count": 10,
   "id": "4de24a4e-a87f-43d0-aac5-a1c73a5943ec",
   "metadata": {},
   "outputs": [],
   "source": [
    "top_k = model.recommend_k_items(test, remove_seen=True, top_k = TOP_K)"
   ]
  },
  {
   "cell_type": "markdown",
   "id": "ddd02960-470f-4008-a9c0-fc3b8f3e8292",
   "metadata": {},
   "source": [
    "## Make topk reco with examples"
   ]
  },
  {
   "cell_type": "code",
   "execution_count": 11,
   "id": "5c6540da-8c19-4472-9a66-463620701ade",
   "metadata": {
    "tags": []
   },
   "outputs": [
    {
     "data": {
      "text/html": [
       "<div>\n",
       "<style scoped>\n",
       "    .dataframe tbody tr th:only-of-type {\n",
       "        vertical-align: middle;\n",
       "    }\n",
       "\n",
       "    .dataframe tbody tr th {\n",
       "        vertical-align: top;\n",
       "    }\n",
       "\n",
       "    .dataframe thead th {\n",
       "        text-align: right;\n",
       "    }\n",
       "</style>\n",
       "<table border=\"1\" class=\"dataframe\">\n",
       "  <thead>\n",
       "    <tr style=\"text-align: right;\">\n",
       "      <th></th>\n",
       "      <th>UserId</th>\n",
       "      <th>MovieId</th>\n",
       "      <th>Prediction</th>\n",
       "      <th>Title</th>\n",
       "      <th>Genres</th>\n",
       "    </tr>\n",
       "  </thead>\n",
       "  <tbody>\n",
       "    <tr>\n",
       "      <th>9420</th>\n",
       "      <td>943</td>\n",
       "      <td>82</td>\n",
       "      <td>21.313228</td>\n",
       "      <td>Jurassic Park (1993)</td>\n",
       "      <td>Action|Adventure|Sci-Fi</td>\n",
       "    </tr>\n",
       "    <tr>\n",
       "      <th>9421</th>\n",
       "      <td>943</td>\n",
       "      <td>403</td>\n",
       "      <td>21.158839</td>\n",
       "      <td>Batman (1989)</td>\n",
       "      <td>Action|Adventure|Crime|Drama</td>\n",
       "    </tr>\n",
       "    <tr>\n",
       "      <th>9422</th>\n",
       "      <td>943</td>\n",
       "      <td>568</td>\n",
       "      <td>20.962922</td>\n",
       "      <td>Speed (1994)</td>\n",
       "      <td>Action|Romance|Thriller</td>\n",
       "    </tr>\n",
       "    <tr>\n",
       "      <th>9423</th>\n",
       "      <td>943</td>\n",
       "      <td>423</td>\n",
       "      <td>20.162170</td>\n",
       "      <td>E.T. the Extra-Terrestrial (1982)</td>\n",
       "      <td>Children's|Drama|Fantasy|Sci-Fi</td>\n",
       "    </tr>\n",
       "    <tr>\n",
       "      <th>9424</th>\n",
       "      <td>943</td>\n",
       "      <td>89</td>\n",
       "      <td>19.890513</td>\n",
       "      <td>Blade Runner (1982)</td>\n",
       "      <td>Film-Noir|Sci-Fi</td>\n",
       "    </tr>\n",
       "    <tr>\n",
       "      <th>9425</th>\n",
       "      <td>943</td>\n",
       "      <td>393</td>\n",
       "      <td>19.832944</td>\n",
       "      <td>Mrs. Doubtfire (1993)</td>\n",
       "      <td>Comedy</td>\n",
       "    </tr>\n",
       "    <tr>\n",
       "      <th>9426</th>\n",
       "      <td>943</td>\n",
       "      <td>11</td>\n",
       "      <td>19.570244</td>\n",
       "      <td>Seven (Se7en) (1995)</td>\n",
       "      <td>Crime|Thriller</td>\n",
       "    </tr>\n",
       "    <tr>\n",
       "      <th>9427</th>\n",
       "      <td>943</td>\n",
       "      <td>71</td>\n",
       "      <td>19.553877</td>\n",
       "      <td>Lion King, The (1994)</td>\n",
       "      <td>Animation|Children's|Musical</td>\n",
       "    </tr>\n",
       "    <tr>\n",
       "      <th>9428</th>\n",
       "      <td>943</td>\n",
       "      <td>202</td>\n",
       "      <td>19.422129</td>\n",
       "      <td>Groundhog Day (1993)</td>\n",
       "      <td>Comedy|Romance</td>\n",
       "    </tr>\n",
       "    <tr>\n",
       "      <th>9429</th>\n",
       "      <td>943</td>\n",
       "      <td>238</td>\n",
       "      <td>19.115604</td>\n",
       "      <td>Raising Arizona (1987)</td>\n",
       "      <td>Comedy</td>\n",
       "    </tr>\n",
       "    <tr>\n",
       "      <th>9410</th>\n",
       "      <td>942</td>\n",
       "      <td>69</td>\n",
       "      <td>27.805326</td>\n",
       "      <td>Forrest Gump (1994)</td>\n",
       "      <td>Comedy|Romance|War</td>\n",
       "    </tr>\n",
       "    <tr>\n",
       "      <th>9411</th>\n",
       "      <td>942</td>\n",
       "      <td>172</td>\n",
       "      <td>27.233967</td>\n",
       "      <td>Empire Strikes Back, The (1980)</td>\n",
       "      <td>Action|Adventure|Drama|Romance|Sci-Fi|War</td>\n",
       "    </tr>\n",
       "    <tr>\n",
       "      <th>9412</th>\n",
       "      <td>942</td>\n",
       "      <td>79</td>\n",
       "      <td>26.349829</td>\n",
       "      <td>Fugitive, The (1993)</td>\n",
       "      <td>Action|Thriller</td>\n",
       "    </tr>\n",
       "    <tr>\n",
       "      <th>9413</th>\n",
       "      <td>942</td>\n",
       "      <td>204</td>\n",
       "      <td>26.332959</td>\n",
       "      <td>Back to the Future (1985)</td>\n",
       "      <td>Comedy|Sci-Fi</td>\n",
       "    </tr>\n",
       "    <tr>\n",
       "      <th>9414</th>\n",
       "      <td>942</td>\n",
       "      <td>483</td>\n",
       "      <td>26.276915</td>\n",
       "      <td>Casablanca (1942)</td>\n",
       "      <td>Drama|Romance|War</td>\n",
       "    </tr>\n",
       "    <tr>\n",
       "      <th>9415</th>\n",
       "      <td>942</td>\n",
       "      <td>196</td>\n",
       "      <td>25.939156</td>\n",
       "      <td>Dead Poets Society (1989)</td>\n",
       "      <td>Drama</td>\n",
       "    </tr>\n",
       "    <tr>\n",
       "      <th>9416</th>\n",
       "      <td>942</td>\n",
       "      <td>64</td>\n",
       "      <td>25.907648</td>\n",
       "      <td>Shawshank Redemption, The (1994)</td>\n",
       "      <td>Drama</td>\n",
       "    </tr>\n",
       "    <tr>\n",
       "      <th>9417</th>\n",
       "      <td>942</td>\n",
       "      <td>238</td>\n",
       "      <td>25.768587</td>\n",
       "      <td>Raising Arizona (1987)</td>\n",
       "      <td>Comedy</td>\n",
       "    </tr>\n",
       "    <tr>\n",
       "      <th>9418</th>\n",
       "      <td>942</td>\n",
       "      <td>496</td>\n",
       "      <td>25.628238</td>\n",
       "      <td>It's a Wonderful Life (1946)</td>\n",
       "      <td>Drama</td>\n",
       "    </tr>\n",
       "    <tr>\n",
       "      <th>9419</th>\n",
       "      <td>942</td>\n",
       "      <td>195</td>\n",
       "      <td>25.626165</td>\n",
       "      <td>Terminator, The (1984)</td>\n",
       "      <td>Action|Sci-Fi|Thriller</td>\n",
       "    </tr>\n",
       "    <tr>\n",
       "      <th>9400</th>\n",
       "      <td>941</td>\n",
       "      <td>50</td>\n",
       "      <td>0.113209</td>\n",
       "      <td>Star Wars (1977)</td>\n",
       "      <td>Action|Adventure|Romance|Sci-Fi|War</td>\n",
       "    </tr>\n",
       "    <tr>\n",
       "      <th>9401</th>\n",
       "      <td>941</td>\n",
       "      <td>121</td>\n",
       "      <td>0.112227</td>\n",
       "      <td>Independence Day (ID4) (1996)</td>\n",
       "      <td>Action|Sci-Fi|War</td>\n",
       "    </tr>\n",
       "    <tr>\n",
       "      <th>9402</th>\n",
       "      <td>941</td>\n",
       "      <td>117</td>\n",
       "      <td>0.110164</td>\n",
       "      <td>Rock, The (1996)</td>\n",
       "      <td>Action|Adventure|Thriller</td>\n",
       "    </tr>\n",
       "    <tr>\n",
       "      <th>9403</th>\n",
       "      <td>941</td>\n",
       "      <td>546</td>\n",
       "      <td>0.105812</td>\n",
       "      <td>Broken Arrow (1996)</td>\n",
       "      <td>Action|Thriller</td>\n",
       "    </tr>\n",
       "    <tr>\n",
       "      <th>9404</th>\n",
       "      <td>941</td>\n",
       "      <td>118</td>\n",
       "      <td>0.105404</td>\n",
       "      <td>Twister (1996)</td>\n",
       "      <td>Action|Adventure|Thriller</td>\n",
       "    </tr>\n",
       "    <tr>\n",
       "      <th>9405</th>\n",
       "      <td>941</td>\n",
       "      <td>405</td>\n",
       "      <td>0.102680</td>\n",
       "      <td>Mission: Impossible (1996)</td>\n",
       "      <td>Action|Adventure|Mystery</td>\n",
       "    </tr>\n",
       "    <tr>\n",
       "      <th>9406</th>\n",
       "      <td>941</td>\n",
       "      <td>151</td>\n",
       "      <td>0.099866</td>\n",
       "      <td>Willy Wonka and the Chocolate Factory (1971)</td>\n",
       "      <td>Adventure|Children's|Comedy</td>\n",
       "    </tr>\n",
       "    <tr>\n",
       "      <th>9407</th>\n",
       "      <td>941</td>\n",
       "      <td>237</td>\n",
       "      <td>0.099482</td>\n",
       "      <td>Jerry Maguire (1996)</td>\n",
       "      <td>Drama|Romance</td>\n",
       "    </tr>\n",
       "    <tr>\n",
       "      <th>9408</th>\n",
       "      <td>941</td>\n",
       "      <td>25</td>\n",
       "      <td>0.098765</td>\n",
       "      <td>Birdcage, The (1996)</td>\n",
       "      <td>Comedy</td>\n",
       "    </tr>\n",
       "    <tr>\n",
       "      <th>9409</th>\n",
       "      <td>941</td>\n",
       "      <td>100</td>\n",
       "      <td>0.098464</td>\n",
       "      <td>Fargo (1996)</td>\n",
       "      <td>Crime|Drama|Thriller</td>\n",
       "    </tr>\n",
       "  </tbody>\n",
       "</table>\n",
       "</div>"
      ],
      "text/plain": [
       "      UserId  MovieId  Prediction  \\\n",
       "9420     943       82   21.313228   \n",
       "9421     943      403   21.158839   \n",
       "9422     943      568   20.962922   \n",
       "9423     943      423   20.162170   \n",
       "9424     943       89   19.890513   \n",
       "9425     943      393   19.832944   \n",
       "9426     943       11   19.570244   \n",
       "9427     943       71   19.553877   \n",
       "9428     943      202   19.422129   \n",
       "9429     943      238   19.115604   \n",
       "9410     942       69   27.805326   \n",
       "9411     942      172   27.233967   \n",
       "9412     942       79   26.349829   \n",
       "9413     942      204   26.332959   \n",
       "9414     942      483   26.276915   \n",
       "9415     942      196   25.939156   \n",
       "9416     942       64   25.907648   \n",
       "9417     942      238   25.768587   \n",
       "9418     942      496   25.628238   \n",
       "9419     942      195   25.626165   \n",
       "9400     941       50    0.113209   \n",
       "9401     941      121    0.112227   \n",
       "9402     941      117    0.110164   \n",
       "9403     941      546    0.105812   \n",
       "9404     941      118    0.105404   \n",
       "9405     941      405    0.102680   \n",
       "9406     941      151    0.099866   \n",
       "9407     941      237    0.099482   \n",
       "9408     941       25    0.098765   \n",
       "9409     941      100    0.098464   \n",
       "\n",
       "                                             Title  \\\n",
       "9420                          Jurassic Park (1993)   \n",
       "9421                                 Batman (1989)   \n",
       "9422                                  Speed (1994)   \n",
       "9423             E.T. the Extra-Terrestrial (1982)   \n",
       "9424                           Blade Runner (1982)   \n",
       "9425                         Mrs. Doubtfire (1993)   \n",
       "9426                          Seven (Se7en) (1995)   \n",
       "9427                         Lion King, The (1994)   \n",
       "9428                          Groundhog Day (1993)   \n",
       "9429                        Raising Arizona (1987)   \n",
       "9410                           Forrest Gump (1994)   \n",
       "9411               Empire Strikes Back, The (1980)   \n",
       "9412                          Fugitive, The (1993)   \n",
       "9413                     Back to the Future (1985)   \n",
       "9414                             Casablanca (1942)   \n",
       "9415                     Dead Poets Society (1989)   \n",
       "9416              Shawshank Redemption, The (1994)   \n",
       "9417                        Raising Arizona (1987)   \n",
       "9418                  It's a Wonderful Life (1946)   \n",
       "9419                        Terminator, The (1984)   \n",
       "9400                              Star Wars (1977)   \n",
       "9401                 Independence Day (ID4) (1996)   \n",
       "9402                              Rock, The (1996)   \n",
       "9403                           Broken Arrow (1996)   \n",
       "9404                                Twister (1996)   \n",
       "9405                    Mission: Impossible (1996)   \n",
       "9406  Willy Wonka and the Chocolate Factory (1971)   \n",
       "9407                          Jerry Maguire (1996)   \n",
       "9408                          Birdcage, The (1996)   \n",
       "9409                                  Fargo (1996)   \n",
       "\n",
       "                                         Genres  \n",
       "9420                    Action|Adventure|Sci-Fi  \n",
       "9421               Action|Adventure|Crime|Drama  \n",
       "9422                    Action|Romance|Thriller  \n",
       "9423            Children's|Drama|Fantasy|Sci-Fi  \n",
       "9424                           Film-Noir|Sci-Fi  \n",
       "9425                                     Comedy  \n",
       "9426                             Crime|Thriller  \n",
       "9427               Animation|Children's|Musical  \n",
       "9428                             Comedy|Romance  \n",
       "9429                                     Comedy  \n",
       "9410                         Comedy|Romance|War  \n",
       "9411  Action|Adventure|Drama|Romance|Sci-Fi|War  \n",
       "9412                            Action|Thriller  \n",
       "9413                              Comedy|Sci-Fi  \n",
       "9414                          Drama|Romance|War  \n",
       "9415                                      Drama  \n",
       "9416                                      Drama  \n",
       "9417                                     Comedy  \n",
       "9418                                      Drama  \n",
       "9419                     Action|Sci-Fi|Thriller  \n",
       "9400        Action|Adventure|Romance|Sci-Fi|War  \n",
       "9401                          Action|Sci-Fi|War  \n",
       "9402                  Action|Adventure|Thriller  \n",
       "9403                            Action|Thriller  \n",
       "9404                  Action|Adventure|Thriller  \n",
       "9405                   Action|Adventure|Mystery  \n",
       "9406                Adventure|Children's|Comedy  \n",
       "9407                              Drama|Romance  \n",
       "9408                                     Comedy  \n",
       "9409                       Crime|Drama|Thriller  "
      ]
     },
     "metadata": {},
     "output_type": "display_data"
    }
   ],
   "source": [
    "top_k_with_info = (top_k.join(data_full[['MovieId', 'Title', 'Genres']].drop_duplicates().set_index('MovieId'), \n",
    "                                on='MovieId', \n",
    "                                how='inner').sort_values(by=['UserId', 'Prediction'], ascending=False))\n",
    "display(top_k_with_info.head(30))"
   ]
  },
  {
   "cell_type": "code",
   "execution_count": 12,
   "id": "1cdaeca5-e1c8-40b5-8e1b-abf3016680c0",
   "metadata": {},
   "outputs": [],
   "source": [
    "top_k_with_info.to_csv(\"sar_topk_visual_results.csv\", index = False)"
   ]
  },
  {
   "cell_type": "markdown",
   "id": "7d1561d5-9612-44b9-bf52-f689ba5c6c5c",
   "metadata": {},
   "source": [
    "## Evaluate"
   ]
  },
  {
   "cell_type": "markdown",
   "id": "d002142a-3512-4238-b5c5-3bc14bedbd35",
   "metadata": {},
   "source": [
    "### Use recommenders example approach for precision and recall"
   ]
  },
  {
   "cell_type": "code",
   "execution_count": 13,
   "id": "129b2289-f1f4-40fc-bdfc-598ace7fb42a",
   "metadata": {},
   "outputs": [],
   "source": [
    "# all ranking metrics have the same arguments\n",
    "args = [test, top_k]\n",
    "kwargs = dict(col_user='UserId', \n",
    "              col_item='MovieId', \n",
    "              col_rating='Rating', \n",
    "              col_prediction='Prediction', \n",
    "              relevancy_method='top_k', \n",
    "              k=TOP_K)\n",
    "\n",
    "eval_precision = precision_at_k(*args, **kwargs)\n",
    "eval_recall = recall_at_k(*args, **kwargs)"
   ]
  },
  {
   "cell_type": "code",
   "execution_count": 14,
   "id": "6c6cde1b-c3c2-47ad-afa7-ba034016ac1e",
   "metadata": {},
   "outputs": [
    {
     "name": "stdout",
     "output_type": "stream",
     "text": [
      "Model:\n",
      "Top K:\t\t 20\n",
      "Precision@K:\t 0.247826\n",
      "Recall@K:\t 0.253035\n"
     ]
    }
   ],
   "source": [
    "print(f\"Model:\",\n",
    "      f\"Top K:\\t\\t {TOP_K}\",\n",
    "      f\"Precision@K:\\t {eval_precision:f}\",\n",
    "      f\"Recall@K:\\t {eval_recall:f}\", sep='\\n')"
   ]
  },
  {
   "cell_type": "markdown",
   "id": "91958e04-bc6e-46bd-ba9c-9b7872828641",
   "metadata": {},
   "source": [
    "### Use our methods for diversity metrics,leave ratings as NA"
   ]
  },
  {
   "cell_type": "code",
   "execution_count": 15,
   "id": "3e510f59-9629-42dd-b5be-ab6d175be404",
   "metadata": {},
   "outputs": [
    {
     "name": "stdout",
     "output_type": "stream",
     "text": [
      "Spark df created, info: \n",
      "\n",
      "root\n",
      " |-- UserId: integer (nullable = true)\n",
      " |-- MovieId: integer (nullable = true)\n",
      " |-- prediction: float (nullable = true)\n",
      "\n",
      "+------+-------+----------+\n",
      "|UserId|MovieId|prediction|\n",
      "+------+-------+----------+\n",
      "|     1|    238| 3.2744997|\n",
      "|     1|     69| 3.2352996|\n",
      "|     1|    423| 3.1427104|\n",
      "|     1|    204| 3.1217399|\n",
      "|     1|     56|  3.116177|\n",
      "+------+-------+----------+\n",
      "only showing top 5 rows\n",
      "\n"
     ]
    }
   ],
   "source": [
    "topk_spark = fun.movielens_to_spark(top_k, schema = fun.get_predictions_schema())"
   ]
  },
  {
   "cell_type": "code",
   "execution_count": 16,
   "id": "7b2eaf79-c572-4dcb-b80f-ea2b4a7ef3cd",
   "metadata": {},
   "outputs": [],
   "source": [
    "def get_diversity_results(diversity_eval):\n",
    "    metrics = {\n",
    "        \"catalog_coverage\":diversity_eval.catalog_coverage(),\n",
    "        \"distributional_coverage\":diversity_eval.distributional_coverage(), \n",
    "        \"novelty\": diversity_eval.novelty(), \n",
    "        \"diversity\": diversity_eval.diversity(), \n",
    "        \"serendipity\": diversity_eval.serendipity()\n",
    "    }\n",
    "    return metrics"
   ]
  },
  {
   "cell_type": "code",
   "execution_count": 17,
   "id": "62e3675c-029d-4d30-b429-f51920c896f0",
   "metadata": {},
   "outputs": [],
   "source": [
    "collaborative_diversity_eval = SparkDiversityEvaluation(\n",
    "        train_df = train_df_spark, \n",
    "        reco_df = topk_spark,\n",
    "        col_user = \"UserId\", \n",
    "        col_item = \"MovieId\"\n",
    "    )\n",
    "diversity_collaborative = get_diversity_results(collaborative_diversity_eval)"
   ]
  },
  {
   "cell_type": "code",
   "execution_count": 18,
   "id": "e918ce87-8176-49d7-9d11-8acf69562630",
   "metadata": {
    "tags": []
   },
   "outputs": [
    {
     "name": "stdout",
     "output_type": "stream",
     "text": [
      "Collaborative diversity:\t0.571075\n",
      "Collaborative serendipity:\t0.697473\n",
      "Collaborative novelty:\t8.483059\n"
     ]
    }
   ],
   "source": [
    "print(\"Collaborative diversity:\\t%f\" % diversity_collaborative['diversity'],\n",
    "      \"Collaborative serendipity:\\t%f\" % diversity_collaborative['serendipity'], \n",
    "     \"Collaborative novelty:\\t%f\" % diversity_collaborative['novelty'], sep='\\n')"
   ]
  },
  {
   "cell_type": "markdown",
   "id": "d4794c22-2eaf-43a4-9fe3-fe17409d81b1",
   "metadata": {},
   "source": [
    "Content based"
   ]
  },
  {
   "cell_type": "code",
   "execution_count": 19,
   "id": "3fe71748-af68-4883-9160-5dce5547595a",
   "metadata": {},
   "outputs": [],
   "source": [
    "content_diversity_eval = SparkDiversityEvaluation(\n",
    "        train_df = train_df_spark, \n",
    "        reco_df = topk_spark,\n",
    "        item_feature_df = feature_data, \n",
    "        item_sim_measure=\"item_feature_vector\",\n",
    "        col_user = \"UserId\", \n",
    "        col_item = \"MovieId\"\n",
    "    )\n",
    "diversity_content = get_diversity_results(content_diversity_eval)"
   ]
  },
  {
   "cell_type": "code",
   "execution_count": 20,
   "id": "888fa0ac-c06c-4117-963b-585511910eb0",
   "metadata": {},
   "outputs": [
    {
     "name": "stdout",
     "output_type": "stream",
     "text": [
      "Content diversity:\t0.858798\n",
      "Content serendipity:\t0.869371\n",
      "Content novelty:\t8.483059\n"
     ]
    }
   ],
   "source": [
    "print(\"Content diversity:\\t%f\" % diversity_content['diversity'],\n",
    "      \"Content serendipity:\\t%f\" % diversity_content['serendipity'], \n",
    "     \"Content novelty:\\t%f\" % diversity_content['novelty'], sep='\\n')"
   ]
  },
  {
   "cell_type": "code",
   "execution_count": null,
   "id": "ce825c4b-b724-4154-b187-d1796ea6a128",
   "metadata": {},
   "outputs": [],
   "source": []
  }
 ],
 "metadata": {
  "kernelspec": {
   "display_name": "condarec",
   "language": "python",
   "name": "condarec"
  },
  "language_info": {
   "codemirror_mode": {
    "name": "ipython",
    "version": 3
   },
   "file_extension": ".py",
   "mimetype": "text/x-python",
   "name": "python",
   "nbconvert_exporter": "python",
   "pygments_lexer": "ipython3",
   "version": "3.7.0"
  }
 },
 "nbformat": 4,
 "nbformat_minor": 5
}
