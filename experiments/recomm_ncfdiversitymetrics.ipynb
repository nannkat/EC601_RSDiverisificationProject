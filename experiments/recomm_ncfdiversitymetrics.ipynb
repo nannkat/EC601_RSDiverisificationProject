{
 "cells": [
  {
   "cell_type": "markdown",
   "id": "b6934110-e2a1-4a8e-96a3-2d836804ec01",
   "metadata": {},
   "source": [
    "# NCF\n",
    "https://github.com/microsoft/recommenders/blob/main/examples/00_quick_start/ncf_movielens.ipynb"
   ]
  },
  {
   "cell_type": "markdown",
   "id": "ec644d8c-8abd-45b8-aece-1c7e358830b5",
   "metadata": {
    "tags": []
   },
   "source": [
    "## Prepare"
   ]
  },
  {
   "cell_type": "code",
   "execution_count": 1,
   "id": "5598edf5-d909-422d-a01a-6369ff90d3ff",
   "metadata": {
    "tags": []
   },
   "outputs": [
    {
     "name": "stdout",
     "output_type": "stream",
     "text": [
      "System version: 3.7.0 (default, Oct  9 2018, 10:31:47) \n",
      "[GCC 7.3.0]\n",
      "Pandas version: 1.1.5\n",
      "Tensorflow version: 1.15.5\n"
     ]
    }
   ],
   "source": [
    "%load_ext autoreload\n",
    "%autoreload 2\n",
    "\n",
    "import sys\n",
    "import pandas as pd\n",
    "import tensorflow as tf\n",
    "tf.get_logger().setLevel('ERROR') # only show error messages\n",
    "\n",
    "from recommenders.utils.timer import Timer\n",
    "from recommenders.models.ncf.ncf_singlenode import NCF\n",
    "from recommenders.models.ncf.dataset import Dataset as NCFDataset\n",
    "from recommenders.datasets import movielens\n",
    "from recommenders.utils.notebook_utils import is_jupyter\n",
    "from recommenders.datasets.python_splitters import python_chrono_split\n",
    "from recommenders.evaluation.python_evaluation import (rmse, mae, rsquared, exp_var, map_at_k, ndcg_at_k, precision_at_k, \n",
    "                                                     recall_at_k, get_top_k_items)\n",
    "\n",
    "print(\"System version: {}\".format(sys.version))\n",
    "print(\"Pandas version: {}\".format(pd.__version__))\n",
    "print(\"Tensorflow version: {}\".format(tf.__version__))"
   ]
  },
  {
   "cell_type": "code",
   "execution_count": 2,
   "id": "96509b06-00e1-4efb-9864-2147e270c1cb",
   "metadata": {},
   "outputs": [],
   "source": [
    "import fun"
   ]
  },
  {
   "cell_type": "markdown",
   "id": "143a7c3f-9a6f-4243-98ac-e8678bb2df26",
   "metadata": {},
   "source": [
    "## Set default parameters"
   ]
  },
  {
   "cell_type": "code",
   "execution_count": 3,
   "id": "09498da0-b8f3-454c-bff5-609eac78ccee",
   "metadata": {},
   "outputs": [],
   "source": [
    "# top k items to recommend\n",
    "TOP_K = 20\n",
    "\n",
    "# Select MovieLens data size: 100k, 1m, 10m, or 20m\n",
    "MOVIELENS_DATA_SIZE = '100k'\n",
    "\n",
    "# Model parameters\n",
    "EPOCHS = 50\n",
    "BATCH_SIZE = 256\n",
    "\n",
    "SEED = 42"
   ]
  },
  {
   "cell_type": "markdown",
   "id": "5228978f-7f20-45e3-baeb-0732c3174344",
   "metadata": {},
   "source": [
    "## Load all Data"
   ]
  },
  {
   "cell_type": "code",
   "execution_count": 4,
   "id": "f8fd22f7-1509-49c6-a2be-25e3b4019700",
   "metadata": {
    "tags": []
   },
   "outputs": [
    {
     "name": "stderr",
     "output_type": "stream",
     "text": [
      "100%|██████████| 4.81k/4.81k [00:03<00:00, 1.27kKB/s]\n"
     ]
    },
    {
     "name": "stdout",
     "output_type": "stream",
     "text": [
      "Spark df created, info: \n",
      "\n",
      "root\n",
      " |-- UserId: integer (nullable = true)\n",
      " |-- MovieId: integer (nullable = true)\n",
      " |-- Rating: float (nullable = true)\n",
      " |-- Timestamp: long (nullable = true)\n",
      " |-- title: string (nullable = true)\n",
      " |-- genres: string (nullable = true)\n",
      "\n",
      "+------+-------+------+---------+------------+------+\n",
      "|UserId|MovieId|Rating|Timestamp|       title|genres|\n",
      "+------+-------+------+---------+------------+------+\n",
      "|   196|    242|   3.0|881250949|Kolya (1996)|Comedy|\n",
      "|    63|    242|   3.0|875747190|Kolya (1996)|Comedy|\n",
      "|   226|    242|   5.0|883888671|Kolya (1996)|Comedy|\n",
      "|   154|    242|   3.0|879138235|Kolya (1996)|Comedy|\n",
      "|   306|    242|   5.0|876503793|Kolya (1996)|Comedy|\n",
      "+------+-------+------+---------+------------+------+\n",
      "only showing top 5 rows\n",
      "\n"
     ]
    }
   ],
   "source": [
    "data_full = movielens.load_pandas_df(\n",
    "    size=MOVIELENS_DATA_SIZE,\n",
    "    header=['UserId', 'MovieId', 'Rating', 'Timestamp'],\n",
    "    title_col='title',\n",
    "    genres_col='genres'\n",
    ")\n",
    "\n",
    "data_full_spark = fun.movielens_to_spark(data_full, schema = fun.get_movielens_schema())\n",
    "feature_data = fun.create_feature_data(data_full_spark)\n",
    "data = data_full[['UserId', 'MovieId', 'Rating','Timestamp']]\n",
    "train_df_spark, test_df_spark, user_item = fun.split_spark(data_full_spark)\n",
    "user_item_pd = fun.movielens_to_pandas(user_item)"
   ]
  },
  {
   "cell_type": "markdown",
   "id": "9156df32-7d79-4fc8-88f2-1f216efd3b70",
   "metadata": {},
   "source": [
    "## Train NCFD model"
   ]
  },
  {
   "cell_type": "code",
   "execution_count": 5,
   "id": "ee504bdb-74da-411d-b3d4-67d4cc46f2b2",
   "metadata": {
    "tags": []
   },
   "outputs": [],
   "source": [
    "train, test = python_chrono_split(data, 0.75, col_user = \"UserId\", col_item = \"MovieId\", col_timestamp = \"Timestamp\")\n",
    "\n",
    "data_ncf = NCFDataset(train=train, test=test, seed=SEED, col_user=\"UserId\",\n",
    "        col_item=\"MovieId\",\n",
    "        col_rating=\"Rating\",\n",
    "        col_timestamp=\"Timestamp\")\n",
    "\n",
    "ncf = NCF (\n",
    "    n_users=data_ncf.n_users, \n",
    "    n_items=data_ncf.n_items,\n",
    "    model_type=\"NeuMF\",\n",
    "    n_factors=4,\n",
    "    layer_sizes=[16,8,4],\n",
    "    n_epochs=EPOCHS,\n",
    "    batch_size=BATCH_SIZE,\n",
    "    learning_rate=1e-3,\n",
    "    verbose=10,\n",
    "    seed=SEED\n",
    ")"
   ]
  },
  {
   "cell_type": "code",
   "execution_count": 6,
   "id": "85edaf3f-64f5-4e43-a4f8-6d20af7e3728",
   "metadata": {},
   "outputs": [
    {
     "name": "stdout",
     "output_type": "stream",
     "text": [
      "Took 240.1703 seconds for training.\n"
     ]
    }
   ],
   "source": [
    "with Timer() as train_time:\n",
    "    ncf.fit(data_ncf)\n",
    "\n",
    "print(\"Took {} seconds for training.\".format(train_time))"
   ]
  },
  {
   "cell_type": "markdown",
   "id": "398f931b-3441-4571-aabe-baa5e25411d8",
   "metadata": {},
   "source": [
    "## Predict old-way -NOT USED"
   ]
  },
  {
   "cell_type": "code",
   "execution_count": 13,
   "id": "6345e2dd-c5e9-4a25-a634-6cb8e48b1261",
   "metadata": {},
   "outputs": [
    {
     "name": "stdout",
     "output_type": "stream",
     "text": [
      "Took 2.7722 seconds for prediction.\n",
      "<class 'pandas.core.frame.DataFrame'>\n"
     ]
    }
   ],
   "source": [
    "with Timer() as test_time:\n",
    "    users, items, preds = [], [], []\n",
    "    item = list(train.MovieId.unique())\n",
    "    for user in train.UserId.unique():\n",
    "        user = [user] * len(item) \n",
    "        users.extend(user)\n",
    "        items.extend(item)\n",
    "        preds.extend(list(ncf.predict(user, item, is_list=True)))\n",
    "\n",
    "    all_predictions = pd.DataFrame(data={\"UserId\": users, \"MovieId\":items, \"prediction\":preds})\n",
    "\n",
    "    merged = pd.merge(train, all_predictions, on=[\"UserId\", \"MovieId\"], how=\"outer\")\n",
    "    all_predictions = merged[merged.Rating.isnull()].drop('Rating', axis=1)\n",
    "\n",
    "print(\"Took {} seconds for prediction.\".format(test_time))\n",
    "\n",
    "print(type(all_predictions))"
   ]
  },
  {
   "cell_type": "code",
   "execution_count": 15,
   "id": "1faf088e-10ba-4a51-89c5-79c06b16c1ec",
   "metadata": {},
   "outputs": [
    {
     "data": {
      "text/html": [
       "<div>\n",
       "<style scoped>\n",
       "    .dataframe tbody tr th:only-of-type {\n",
       "        vertical-align: middle;\n",
       "    }\n",
       "\n",
       "    .dataframe tbody tr th {\n",
       "        vertical-align: top;\n",
       "    }\n",
       "\n",
       "    .dataframe thead th {\n",
       "        text-align: right;\n",
       "    }\n",
       "</style>\n",
       "<table border=\"1\" class=\"dataframe\">\n",
       "  <thead>\n",
       "    <tr style=\"text-align: right;\">\n",
       "      <th></th>\n",
       "      <th>UserId</th>\n",
       "      <th>MovieId</th>\n",
       "      <th>prediction</th>\n",
       "    </tr>\n",
       "  </thead>\n",
       "  <tbody>\n",
       "    <tr>\n",
       "      <th>904251</th>\n",
       "      <td>549</td>\n",
       "      <td>117</td>\n",
       "      <td>0.998169</td>\n",
       "    </tr>\n",
       "    <tr>\n",
       "      <th>809225</th>\n",
       "      <td>486</td>\n",
       "      <td>100</td>\n",
       "      <td>0.997878</td>\n",
       "    </tr>\n",
       "    <tr>\n",
       "      <th>1156102</th>\n",
       "      <td>714</td>\n",
       "      <td>121</td>\n",
       "      <td>0.997813</td>\n",
       "    </tr>\n",
       "    <tr>\n",
       "      <th>1234399</th>\n",
       "      <td>765</td>\n",
       "      <td>100</td>\n",
       "      <td>0.997769</td>\n",
       "    </tr>\n",
       "    <tr>\n",
       "      <th>337729</th>\n",
       "      <td>173</td>\n",
       "      <td>288</td>\n",
       "      <td>0.997684</td>\n",
       "    </tr>\n",
       "  </tbody>\n",
       "</table>\n",
       "</div>"
      ],
      "text/plain": [
       "         UserId  MovieId  prediction\n",
       "904251      549      117    0.998169\n",
       "809225      486      100    0.997878\n",
       "1156102     714      121    0.997813\n",
       "1234399     765      100    0.997769\n",
       "337729      173      288    0.997684"
      ]
     },
     "execution_count": 15,
     "metadata": {},
     "output_type": "execute_result"
    }
   ],
   "source": [
    "all_predictions = all_predictions[['UserId', 'MovieId', 'prediction']]\n",
    "all_predictions.sort_values(by=['prediction'], ascending = False).head()"
   ]
  },
  {
   "cell_type": "markdown",
   "id": "71525744-8fc0-49c9-8691-1f230c639782",
   "metadata": {},
   "source": [
    "## Predict new way -USED"
   ]
  },
  {
   "cell_type": "code",
   "execution_count": 7,
   "id": "47192ff8-0d32-4e15-89d2-9c9a052ea266",
   "metadata": {
    "tags": []
   },
   "outputs": [],
   "source": [
    "users = user_item_pd['UserId'].tolist()\n",
    "items = user_item_pd['MovieId'].tolist()\n",
    "preds = []"
   ]
  },
  {
   "cell_type": "code",
   "execution_count": 8,
   "id": "2c582255-1510-4cc3-9aa7-9ec73211828e",
   "metadata": {},
   "outputs": [],
   "source": [
    "for i in range(len(users)):\n",
    "    pred = ncf.predict(users[i], items[i])\n",
    "    preds.append(pred)\n",
    "    \n",
    "predictions = pd.DataFrame(data={\"UserId\": users, \"MovieId\":items, \"prediction\":preds})"
   ]
  },
  {
   "cell_type": "code",
   "execution_count": 9,
   "id": "6f213714-d369-43ad-96b6-afbef8e8eec7",
   "metadata": {},
   "outputs": [
    {
     "name": "stdout",
     "output_type": "stream",
     "text": [
      "Spark df created, info: \n",
      "\n",
      "root\n",
      " |-- UserId: integer (nullable = true)\n",
      " |-- MovieId: integer (nullable = true)\n",
      " |-- prediction: float (nullable = true)\n",
      "\n",
      "+------+-------+-----------+\n",
      "|UserId|MovieId| prediction|\n",
      "+------+-------+-----------+\n",
      "|   148|    496|  0.9423152|\n",
      "|   148|    471| 0.19843729|\n",
      "|   148|    463| 0.21158259|\n",
      "|   148|    148|0.076068595|\n",
      "|   148|   1342|3.901091E-6|\n",
      "+------+-------+-----------+\n",
      "only showing top 5 rows\n",
      "\n"
     ]
    }
   ],
   "source": [
    "pred_spark = fun.movielens_to_spark(predictions, schema = fun.get_predictions_schema())"
   ]
  },
  {
   "cell_type": "markdown",
   "id": "1d421d85-c26d-4914-bc06-6323613bca28",
   "metadata": {},
   "source": [
    "## Get top K"
   ]
  },
  {
   "cell_type": "code",
   "execution_count": 10,
   "id": "6e2aa289-901b-4870-91d6-11978df607bf",
   "metadata": {},
   "outputs": [
    {
     "name": "stdout",
     "output_type": "stream",
     "text": [
      "+------+-------+----------+\n",
      "|UserId|MovieId|prediction|\n",
      "+------+-------+----------+\n",
      "|   148|    496| 0.9423152|\n",
      "|   148|     69| 0.9419968|\n",
      "|   148|    132|0.92173594|\n",
      "|   148|    216|0.92139715|\n",
      "|   148|    143|0.91003084|\n",
      "|   148|    423|0.90460455|\n",
      "|   148|    186| 0.8999268|\n",
      "|   148|     28|  0.899551|\n",
      "|   148|    211| 0.8938162|\n",
      "|   148|    210|0.88862014|\n",
      "|   148|    202| 0.8843819|\n",
      "|   148|    197| 0.8829703|\n",
      "|   148|     97| 0.8820187|\n",
      "|   148|    208|0.86807096|\n",
      "|   148|    483| 0.8656971|\n",
      "|   148|     79| 0.8640293|\n",
      "|   148|    435|0.85855025|\n",
      "|   148|    655|0.85649014|\n",
      "|   148|    153| 0.8561597|\n",
      "|   148|    427| 0.8498135|\n",
      "+------+-------+----------+\n",
      "only showing top 20 rows\n",
      "\n"
     ]
    }
   ],
   "source": [
    "top_k, top_all = fun.create_topk_topall(pred_df_spark = pred_spark , train_df_spark = train_df_spark, top_k = TOP_K )\n",
    "top_k.show()"
   ]
  },
  {
   "cell_type": "markdown",
   "id": "66bbcc44-7971-41cc-a3bd-1651c93a9df0",
   "metadata": {},
   "source": [
    "## Evaluate"
   ]
  },
  {
   "cell_type": "code",
   "execution_count": 16,
   "id": "4ca4d448-2eea-4490-bdd4-af4e49a7bac9",
   "metadata": {},
   "outputs": [
    {
     "name": "stdout",
     "output_type": "stream",
     "text": [
      "<class 'pandas.core.frame.DataFrame'>\n"
     ]
    }
   ],
   "source": [
    "print(type(train))"
   ]
  },
  {
   "cell_type": "code",
   "execution_count": 11,
   "id": "74bbe223-46ba-4ef8-b29f-d4476612922d",
   "metadata": {
    "tags": []
   },
   "outputs": [],
   "source": [
    "diversity_collaborative, diversity_content, ranking, rating = fun.get_metrics(train_df_spark, test_df_spark, top_k, top_all, feature_data, top_k = TOP_K)"
   ]
  },
  {
   "cell_type": "code",
   "execution_count": 12,
   "id": "668ba6a2-5c98-4492-93e8-56b8fceb511e",
   "metadata": {},
   "outputs": [
    {
     "data": {
      "text/html": [
       "<div>\n",
       "<style scoped>\n",
       "    .dataframe tbody tr th:only-of-type {\n",
       "        vertical-align: middle;\n",
       "    }\n",
       "\n",
       "    .dataframe tbody tr th {\n",
       "        vertical-align: top;\n",
       "    }\n",
       "\n",
       "    .dataframe thead th {\n",
       "        text-align: right;\n",
       "    }\n",
       "</style>\n",
       "<table border=\"1\" class=\"dataframe\">\n",
       "  <thead>\n",
       "    <tr style=\"text-align: right;\">\n",
       "      <th></th>\n",
       "      <th>Metric</th>\n",
       "      <th>Score</th>\n",
       "      <th>Range</th>\n",
       "      <th>Criteria</th>\n",
       "    </tr>\n",
       "  </thead>\n",
       "  <tbody>\n",
       "    <tr>\n",
       "      <th>0</th>\n",
       "      <td>Collaborative Diversity</td>\n",
       "      <td>0.674940</td>\n",
       "      <td>[0,1]</td>\n",
       "      <td>The closer to 1 the better</td>\n",
       "    </tr>\n",
       "    <tr>\n",
       "      <th>1</th>\n",
       "      <td>Collaborative Serendipity</td>\n",
       "      <td>0.732897</td>\n",
       "      <td>[0,1]</td>\n",
       "      <td>The closer to 1 the better</td>\n",
       "    </tr>\n",
       "    <tr>\n",
       "      <th>2</th>\n",
       "      <td>Collaborative Novelty</td>\n",
       "      <td>8.842217</td>\n",
       "      <td>&gt;=0</td>\n",
       "      <td>Inverse popularity. The higher the better</td>\n",
       "    </tr>\n",
       "    <tr>\n",
       "      <th>3</th>\n",
       "      <td>Content Diversity</td>\n",
       "      <td>0.845880</td>\n",
       "      <td>[0,1]</td>\n",
       "      <td>The closer to 1 the better</td>\n",
       "    </tr>\n",
       "    <tr>\n",
       "      <th>4</th>\n",
       "      <td>Content Serendipity</td>\n",
       "      <td>0.862206</td>\n",
       "      <td>[0,1]</td>\n",
       "      <td>The closer to 1 the better</td>\n",
       "    </tr>\n",
       "    <tr>\n",
       "      <th>5</th>\n",
       "      <td>Content Novelty</td>\n",
       "      <td>8.842217</td>\n",
       "      <td>&gt;=0</td>\n",
       "      <td>Inverse popularity. The higher the better</td>\n",
       "    </tr>\n",
       "    <tr>\n",
       "      <th>6</th>\n",
       "      <td>RMSE</td>\n",
       "      <td>3.157404</td>\n",
       "      <td>&gt;0</td>\n",
       "      <td>The smaller the better</td>\n",
       "    </tr>\n",
       "    <tr>\n",
       "      <th>7</th>\n",
       "      <td>MAE</td>\n",
       "      <td>2.960488</td>\n",
       "      <td>&gt;=0</td>\n",
       "      <td>The smaller the better</td>\n",
       "    </tr>\n",
       "    <tr>\n",
       "      <th>8</th>\n",
       "      <td>R Squared</td>\n",
       "      <td>-6.935766</td>\n",
       "      <td>&lt;=1</td>\n",
       "      <td>The closer to 1 the better</td>\n",
       "    </tr>\n",
       "    <tr>\n",
       "      <th>9</th>\n",
       "      <td>Precision@k</td>\n",
       "      <td>0.328959</td>\n",
       "      <td>[0,1]</td>\n",
       "      <td>The closer to 1 the better. Grows with k</td>\n",
       "    </tr>\n",
       "    <tr>\n",
       "      <th>10</th>\n",
       "      <td>Recall@k</td>\n",
       "      <td>0.341700</td>\n",
       "      <td>[0,1]</td>\n",
       "      <td>The closer to 1 the better. Grows with k</td>\n",
       "    </tr>\n",
       "  </tbody>\n",
       "</table>\n",
       "</div>"
      ],
      "text/plain": [
       "                       Metric     Score  Range  \\\n",
       "0     Collaborative Diversity  0.674940  [0,1]   \n",
       "1   Collaborative Serendipity  0.732897  [0,1]   \n",
       "2       Collaborative Novelty  8.842217    >=0   \n",
       "3           Content Diversity  0.845880  [0,1]   \n",
       "4         Content Serendipity  0.862206  [0,1]   \n",
       "5             Content Novelty  8.842217    >=0   \n",
       "6                        RMSE  3.157404     >0   \n",
       "7                         MAE  2.960488    >=0   \n",
       "8                   R Squared -6.935766    <=1   \n",
       "9                 Precision@k  0.328959  [0,1]   \n",
       "10                   Recall@k  0.341700  [0,1]   \n",
       "\n",
       "                                     Criteria  \n",
       "0                  The closer to 1 the better  \n",
       "1                  The closer to 1 the better  \n",
       "2   Inverse popularity. The higher the better  \n",
       "3                  The closer to 1 the better  \n",
       "4                  The closer to 1 the better  \n",
       "5   Inverse popularity. The higher the better  \n",
       "6                      The smaller the better  \n",
       "7                      The smaller the better  \n",
       "8                  The closer to 1 the better  \n",
       "9    The closer to 1 the better. Grows with k  \n",
       "10   The closer to 1 the better. Grows with k  "
      ]
     },
     "execution_count": 12,
     "metadata": {},
     "output_type": "execute_result"
    }
   ],
   "source": [
    "met_res = fun.display_metrics(diversity_collaborative, diversity_content, ranking, rating)\n",
    "met_res"
   ]
  },
  {
   "cell_type": "markdown",
   "id": "92eb5a09-ae59-45db-8eee-f09814dca878",
   "metadata": {},
   "source": [
    "## Save metrics"
   ]
  },
  {
   "cell_type": "code",
   "execution_count": 17,
   "id": "f1bd3e29-e278-4057-80f6-4ddc0a0ea70b",
   "metadata": {},
   "outputs": [],
   "source": [
    "met_res.to_csv(\"ncf_20k_results.csv\", index = False)"
   ]
  },
  {
   "cell_type": "code",
   "execution_count": null,
   "id": "49d4f4bd-51f4-4f69-855b-1ecda695b12b",
   "metadata": {},
   "outputs": [],
   "source": []
  }
 ],
 "metadata": {
  "kernelspec": {
   "display_name": "condarec",
   "language": "python",
   "name": "condarec"
  },
  "language_info": {
   "codemirror_mode": {
    "name": "ipython",
    "version": 3
   },
   "file_extension": ".py",
   "mimetype": "text/x-python",
   "name": "python",
   "nbconvert_exporter": "python",
   "pygments_lexer": "ipython3",
   "version": "3.7.0"
  }
 },
 "nbformat": 4,
 "nbformat_minor": 5
}
