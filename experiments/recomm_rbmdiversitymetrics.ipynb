{
 "cells": [
  {
   "cell_type": "markdown",
   "id": "da035adb-0b45-4c3f-928f-90f2f006c1c8",
   "metadata": {},
   "source": [
    "# RBM\n",
    "https://github.com/microsoft/recommenders/blob/main/examples/02_model_collaborative_filtering/rbm_deep_dive.ipynb"
   ]
  },
  {
   "cell_type": "markdown",
   "id": "b427b43b-9b30-4cbe-88da-29ab1e871d88",
   "metadata": {
    "tags": []
   },
   "source": [
    "## Prepare"
   ]
  },
  {
   "cell_type": "code",
   "execution_count": 1,
   "id": "b70afb94-3465-417d-a026-97b015d2ceae",
   "metadata": {},
   "outputs": [
    {
     "name": "stdout",
     "output_type": "stream",
     "text": [
      "System version: 3.7.0 (default, Oct  9 2018, 10:31:47) \n",
      "[GCC 7.3.0]\n",
      "Pandas version: 1.1.5\n"
     ]
    }
   ],
   "source": [
    "from __future__ import print_function\n",
    "from __future__ import absolute_import\n",
    "from __future__ import division\n",
    "\n",
    "# set the environment path to find Recommenders\n",
    "import sys\n",
    "\n",
    "import os\n",
    "import numpy as np\n",
    "import pandas as pd\n",
    "import matplotlib.pyplot as plt\n",
    "%matplotlib inline\n",
    "\n",
    "import papermill \n",
    "\n",
    "#RBM \n",
    "from recommenders.models.rbm.rbm import RBM\n",
    "from recommenders.datasets.python_splitters import numpy_stratified_split\n",
    "from recommenders.datasets.sparse import AffinityMatrix\n",
    "\n",
    "#Evaluation libraries\n",
    "from recommenders.datasets import movielens \n",
    "\n",
    "from recommenders.evaluation.python_evaluation import (\n",
    "    map_at_k,\n",
    "    ndcg_at_k,\n",
    "    precision_at_k,\n",
    "    recall_at_k,\n",
    ")\n",
    "\n",
    "from recommenders.tuning.parameter_sweep import generate_param_grid\n",
    "#For interactive mode only\n",
    "%load_ext autoreload\n",
    "%autoreload 2\n",
    "\n",
    "print(\"System version: {}\".format(sys.version))\n",
    "print(\"Pandas version: {}\".format(pd.__version__))"
   ]
  },
  {
   "cell_type": "code",
   "execution_count": 2,
   "id": "fa0ed31f-d1a4-4926-b05d-ede98a3c0995",
   "metadata": {},
   "outputs": [],
   "source": [
    "import fun\n",
    "from pyspark.sql.types import StringType, FloatType, IntegerType, LongType, StructType, StructField\n",
    "from recommenders.evaluation.spark_evaluation import SparkRatingEvaluation, SparkRankingEvaluation, SparkDiversityEvaluation"
   ]
  },
  {
   "cell_type": "markdown",
   "id": "4a9266aa-b8f2-47ae-9a3f-e0b2e93f17f6",
   "metadata": {},
   "source": [
    "## Setup Data"
   ]
  },
  {
   "cell_type": "code",
   "execution_count": 3,
   "id": "74a7cbec-a80d-4a85-840d-80a10bfa6aab",
   "metadata": {},
   "outputs": [],
   "source": [
    "# top k items to recommend\n",
    "TOP_K = 20\n",
    "\n",
    "# Select MovieLens data size: 100k, 1m, 10m, or 20m\n",
    "MOVIELENS_DATA_SIZE = '100k'"
   ]
  },
  {
   "cell_type": "code",
   "execution_count": 4,
   "id": "64fef5e8-7aef-440d-8f49-9e168c2aa476",
   "metadata": {
    "tags": []
   },
   "outputs": [
    {
     "name": "stderr",
     "output_type": "stream",
     "text": [
      "100%|██████████| 4.81k/4.81k [00:00<00:00, 12.9kKB/s]\n"
     ]
    },
    {
     "name": "stdout",
     "output_type": "stream",
     "text": [
      "Spark df created, info: \n",
      "\n",
      "root\n",
      " |-- UserId: integer (nullable = true)\n",
      " |-- MovieId: integer (nullable = true)\n",
      " |-- Rating: float (nullable = true)\n",
      " |-- Timestamp: long (nullable = true)\n",
      " |-- title: string (nullable = true)\n",
      " |-- genres: string (nullable = true)\n",
      "\n",
      "+------+-------+------+---------+------------+------+\n",
      "|UserId|MovieId|Rating|Timestamp|       title|genres|\n",
      "+------+-------+------+---------+------------+------+\n",
      "|   196|    242|   3.0|881250949|Kolya (1996)|Comedy|\n",
      "|    63|    242|   3.0|875747190|Kolya (1996)|Comedy|\n",
      "|   226|    242|   5.0|883888671|Kolya (1996)|Comedy|\n",
      "|   154|    242|   3.0|879138235|Kolya (1996)|Comedy|\n",
      "|   306|    242|   5.0|876503793|Kolya (1996)|Comedy|\n",
      "+------+-------+------+---------+------------+------+\n",
      "only showing top 5 rows\n",
      "\n"
     ]
    },
    {
     "data": {
      "text/html": [
       "<div>\n",
       "<style scoped>\n",
       "    .dataframe tbody tr th:only-of-type {\n",
       "        vertical-align: middle;\n",
       "    }\n",
       "\n",
       "    .dataframe tbody tr th {\n",
       "        vertical-align: top;\n",
       "    }\n",
       "\n",
       "    .dataframe thead th {\n",
       "        text-align: right;\n",
       "    }\n",
       "</style>\n",
       "<table border=\"1\" class=\"dataframe\">\n",
       "  <thead>\n",
       "    <tr style=\"text-align: right;\">\n",
       "      <th></th>\n",
       "      <th>userID</th>\n",
       "      <th>movieID</th>\n",
       "      <th>rating</th>\n",
       "      <th>timestamp</th>\n",
       "      <th>title</th>\n",
       "      <th>genres</th>\n",
       "    </tr>\n",
       "  </thead>\n",
       "  <tbody>\n",
       "    <tr>\n",
       "      <th>0</th>\n",
       "      <td>196</td>\n",
       "      <td>242</td>\n",
       "      <td>3</td>\n",
       "      <td>881250949</td>\n",
       "      <td>Kolya (1996)</td>\n",
       "      <td>Comedy</td>\n",
       "    </tr>\n",
       "    <tr>\n",
       "      <th>1</th>\n",
       "      <td>63</td>\n",
       "      <td>242</td>\n",
       "      <td>3</td>\n",
       "      <td>875747190</td>\n",
       "      <td>Kolya (1996)</td>\n",
       "      <td>Comedy</td>\n",
       "    </tr>\n",
       "    <tr>\n",
       "      <th>2</th>\n",
       "      <td>226</td>\n",
       "      <td>242</td>\n",
       "      <td>5</td>\n",
       "      <td>883888671</td>\n",
       "      <td>Kolya (1996)</td>\n",
       "      <td>Comedy</td>\n",
       "    </tr>\n",
       "    <tr>\n",
       "      <th>3</th>\n",
       "      <td>154</td>\n",
       "      <td>242</td>\n",
       "      <td>3</td>\n",
       "      <td>879138235</td>\n",
       "      <td>Kolya (1996)</td>\n",
       "      <td>Comedy</td>\n",
       "    </tr>\n",
       "    <tr>\n",
       "      <th>4</th>\n",
       "      <td>306</td>\n",
       "      <td>242</td>\n",
       "      <td>5</td>\n",
       "      <td>876503793</td>\n",
       "      <td>Kolya (1996)</td>\n",
       "      <td>Comedy</td>\n",
       "    </tr>\n",
       "  </tbody>\n",
       "</table>\n",
       "</div>"
      ],
      "text/plain": [
       "   userID  movieID  rating  timestamp         title  genres\n",
       "0     196      242       3  881250949  Kolya (1996)  Comedy\n",
       "1      63      242       3  875747190  Kolya (1996)  Comedy\n",
       "2     226      242       5  883888671  Kolya (1996)  Comedy\n",
       "3     154      242       3  879138235  Kolya (1996)  Comedy\n",
       "4     306      242       5  876503793  Kolya (1996)  Comedy"
      ]
     },
     "execution_count": 4,
     "metadata": {},
     "output_type": "execute_result"
    }
   ],
   "source": [
    "mldf_100k_full = movielens.load_pandas_df(\n",
    "    size=MOVIELENS_DATA_SIZE,\n",
    "    header=['userID','movieID','rating','timestamp'],\n",
    "    title_col='title',\n",
    "    genres_col='genres'\n",
    ")\n",
    "\n",
    "data_full_spark = fun.movielens_to_spark(mldf_100k_full, schema = fun.get_movielens_schema())\n",
    "\n",
    "# Convert the float precision to 32-bit in order to reduce memory consumption \n",
    "mldf_100k_full.loc[:, 'rating'] = mldf_100k_full['rating'].astype(np.int32) \n",
    "\n",
    "mldf_100k_full.head()"
   ]
  },
  {
   "cell_type": "code",
   "execution_count": 35,
   "id": "4c0fdd92-2b93-4358-ab08-8043b0668f51",
   "metadata": {},
   "outputs": [
    {
     "data": {
      "text/html": [
       "<div>\n",
       "<style scoped>\n",
       "    .dataframe tbody tr th:only-of-type {\n",
       "        vertical-align: middle;\n",
       "    }\n",
       "\n",
       "    .dataframe tbody tr th {\n",
       "        vertical-align: top;\n",
       "    }\n",
       "\n",
       "    .dataframe thead th {\n",
       "        text-align: right;\n",
       "    }\n",
       "</style>\n",
       "<table border=\"1\" class=\"dataframe\">\n",
       "  <thead>\n",
       "    <tr style=\"text-align: right;\">\n",
       "      <th></th>\n",
       "      <th>userID</th>\n",
       "      <th>movieID</th>\n",
       "      <th>rating</th>\n",
       "      <th>timestamp</th>\n",
       "    </tr>\n",
       "  </thead>\n",
       "  <tbody>\n",
       "    <tr>\n",
       "      <th>0</th>\n",
       "      <td>196</td>\n",
       "      <td>242</td>\n",
       "      <td>3</td>\n",
       "      <td>881250949</td>\n",
       "    </tr>\n",
       "    <tr>\n",
       "      <th>1</th>\n",
       "      <td>63</td>\n",
       "      <td>242</td>\n",
       "      <td>3</td>\n",
       "      <td>875747190</td>\n",
       "    </tr>\n",
       "    <tr>\n",
       "      <th>2</th>\n",
       "      <td>226</td>\n",
       "      <td>242</td>\n",
       "      <td>5</td>\n",
       "      <td>883888671</td>\n",
       "    </tr>\n",
       "    <tr>\n",
       "      <th>3</th>\n",
       "      <td>154</td>\n",
       "      <td>242</td>\n",
       "      <td>3</td>\n",
       "      <td>879138235</td>\n",
       "    </tr>\n",
       "    <tr>\n",
       "      <th>4</th>\n",
       "      <td>306</td>\n",
       "      <td>242</td>\n",
       "      <td>5</td>\n",
       "      <td>876503793</td>\n",
       "    </tr>\n",
       "  </tbody>\n",
       "</table>\n",
       "</div>"
      ],
      "text/plain": [
       "   userID  movieID  rating  timestamp\n",
       "0     196      242       3  881250949\n",
       "1      63      242       3  875747190\n",
       "2     226      242       5  883888671\n",
       "3     154      242       3  879138235\n",
       "4     306      242       5  876503793"
      ]
     },
     "execution_count": 35,
     "metadata": {},
     "output_type": "execute_result"
    }
   ],
   "source": [
    "mldf_100k = mldf_100k_full[['userID','movieID','rating','timestamp']]\n",
    "mldf_100k.head()"
   ]
  },
  {
   "cell_type": "code",
   "execution_count": 6,
   "id": "3aa97139-b1e0-4801-8abf-9e81b072823f",
   "metadata": {},
   "outputs": [],
   "source": [
    "feature_data = fun.create_feature_data(data_full_spark)"
   ]
  },
  {
   "cell_type": "code",
   "execution_count": 36,
   "id": "ccefecba-7c9a-4fe1-8ac8-624fc178a6ff",
   "metadata": {},
   "outputs": [],
   "source": [
    "#to use standard names across the analysis \n",
    "header = {\n",
    "        \"col_user\": \"userID\",\n",
    "        \"col_item\": \"movieID\",\n",
    "        \"col_rating\": \"rating\",\n",
    "    }\n",
    "\n",
    "#100k\n",
    "am100k = AffinityMatrix(df = mldf_100k, **header)\n",
    "\n",
    "X100k, users100k, items100k = am100k.gen_affinity_matrix()\n",
    "#print(type(X100k))\n",
    "Xtr_100k, Xtst_100k = numpy_stratified_split(X100k)\n",
    "#print(type(Xtr_100k))"
   ]
  },
  {
   "cell_type": "code",
   "execution_count": 14,
   "id": "cca000c3-c12f-4159-85b0-5da877baced5",
   "metadata": {},
   "outputs": [
    {
     "data": {
      "text/html": [
       "<div>\n",
       "<style scoped>\n",
       "    .dataframe tbody tr th:only-of-type {\n",
       "        vertical-align: middle;\n",
       "    }\n",
       "\n",
       "    .dataframe tbody tr th {\n",
       "        vertical-align: top;\n",
       "    }\n",
       "\n",
       "    .dataframe thead th {\n",
       "        text-align: right;\n",
       "    }\n",
       "</style>\n",
       "<table border=\"1\" class=\"dataframe\">\n",
       "  <thead>\n",
       "    <tr style=\"text-align: right;\">\n",
       "      <th></th>\n",
       "      <th>userID</th>\n",
       "      <th>movieID</th>\n",
       "      <th>rating</th>\n",
       "    </tr>\n",
       "  </thead>\n",
       "  <tbody>\n",
       "    <tr>\n",
       "      <th>0</th>\n",
       "      <td>1</td>\n",
       "      <td>12</td>\n",
       "      <td>5</td>\n",
       "    </tr>\n",
       "    <tr>\n",
       "      <th>1</th>\n",
       "      <td>1</td>\n",
       "      <td>254</td>\n",
       "      <td>1</td>\n",
       "    </tr>\n",
       "    <tr>\n",
       "      <th>2</th>\n",
       "      <td>1</td>\n",
       "      <td>189</td>\n",
       "      <td>3</td>\n",
       "    </tr>\n",
       "    <tr>\n",
       "      <th>3</th>\n",
       "      <td>1</td>\n",
       "      <td>87</td>\n",
       "      <td>5</td>\n",
       "    </tr>\n",
       "    <tr>\n",
       "      <th>4</th>\n",
       "      <td>1</td>\n",
       "      <td>187</td>\n",
       "      <td>4</td>\n",
       "    </tr>\n",
       "  </tbody>\n",
       "</table>\n",
       "</div>"
      ],
      "text/plain": [
       "   userID  movieID  rating\n",
       "0       1       12       5\n",
       "1       1      254       1\n",
       "2       1      189       3\n",
       "3       1       87       5\n",
       "4       1      187       4"
      ]
     },
     "execution_count": 14,
     "metadata": {},
     "output_type": "execute_result"
    }
   ],
   "source": [
    "train_pandas = am100k.map_back_sparse(Xtr_100k, kind = 'ratings')\n",
    "train_pandas.head()"
   ]
  },
  {
   "cell_type": "code",
   "execution_count": 18,
   "id": "32389cb8-a96e-4cf5-9ed8-1c19f541f299",
   "metadata": {},
   "outputs": [],
   "source": [
    "traintestschema = StructType(\n",
    "    (StructField(\"UserId\", IntegerType()),\n",
    "    StructField(\"MovieId\", IntegerType()),\n",
    "    StructField(\"Rating\", FloatType())))"
   ]
  },
  {
   "cell_type": "code",
   "execution_count": 21,
   "id": "5909db6f-65bb-400a-b938-e833907e604e",
   "metadata": {},
   "outputs": [
    {
     "name": "stdout",
     "output_type": "stream",
     "text": [
      "Spark df created, info: \n",
      "\n",
      "root\n",
      " |-- UserId: integer (nullable = true)\n",
      " |-- MovieId: integer (nullable = true)\n",
      " |-- Rating: float (nullable = true)\n",
      "\n",
      "+------+-------+------+\n",
      "|UserId|MovieId|Rating|\n",
      "+------+-------+------+\n",
      "|     1|     12|   5.0|\n",
      "|     1|    254|   1.0|\n",
      "|     1|    189|   3.0|\n",
      "|     1|     87|   5.0|\n",
      "|     1|    187|   4.0|\n",
      "+------+-------+------+\n",
      "only showing top 5 rows\n",
      "\n"
     ]
    }
   ],
   "source": [
    "train_pandas['rating'] = train_pandas['rating'].astype(float)\n",
    "train_df_spark = fun.movielens_to_spark(train_pandas, schema = traintestschema)"
   ]
  },
  {
   "cell_type": "markdown",
   "id": "1ee22e8b-7d1a-4d71-a9bd-336a8ab532bb",
   "metadata": {},
   "source": [
    "## Train and predict rbm like in notebook"
   ]
  },
  {
   "cell_type": "code",
   "execution_count": 37,
   "id": "c09422e0-95b9-4ec8-b8aa-53ad6c674436",
   "metadata": {
    "tags": []
   },
   "outputs": [],
   "source": [
    "#100k\n",
    "model_100k = RBM(hidden_units= 600, training_epoch = 30, minibatch_size= 60,keep_prob= 0.9, with_metrics = True)"
   ]
  },
  {
   "cell_type": "code",
   "execution_count": 38,
   "id": "6afd2e08-64dd-4efd-a223-d3e2e1ceb625",
   "metadata": {},
   "outputs": [
    {
     "name": "stdout",
     "output_type": "stream",
     "text": [
      "Device mapping:\n",
      "/job:localhost/replica:0/task:0/device:XLA_CPU:0 -> device: XLA_CPU device\n",
      "\n"
     ]
    },
    {
     "data": {
      "image/png": "[encoded data removed]",
      "text/plain": [
       "<Figure size 432x288 with 1 Axes>"
      ]
     },
     "metadata": {
      "needs_background": "light"
     },
     "output_type": "display_data"
    }
   ],
   "source": [
    "train_time = model_100k.fit(Xtr_100k, Xtst_100k)"
   ]
  },
  {
   "cell_type": "code",
   "execution_count": 39,
   "id": "ef3e5a7a-dae5-40cf-8330-549c5ae359bd",
   "metadata": {},
   "outputs": [
    {
     "data": {
      "text/html": [
       "<div>\n",
       "<style scoped>\n",
       "    .dataframe tbody tr th:only-of-type {\n",
       "        vertical-align: middle;\n",
       "    }\n",
       "\n",
       "    .dataframe tbody tr th {\n",
       "        vertical-align: top;\n",
       "    }\n",
       "\n",
       "    .dataframe thead th {\n",
       "        text-align: right;\n",
       "    }\n",
       "</style>\n",
       "<table border=\"1\" class=\"dataframe\">\n",
       "  <thead>\n",
       "    <tr style=\"text-align: right;\">\n",
       "      <th></th>\n",
       "      <th>userID</th>\n",
       "      <th>movieID</th>\n",
       "      <th>prediction</th>\n",
       "    </tr>\n",
       "  </thead>\n",
       "  <tbody>\n",
       "    <tr>\n",
       "      <th>0</th>\n",
       "      <td>1</td>\n",
       "      <td>50</td>\n",
       "      <td>4.535751</td>\n",
       "    </tr>\n",
       "    <tr>\n",
       "      <th>1</th>\n",
       "      <td>1</td>\n",
       "      <td>114</td>\n",
       "      <td>4.796649</td>\n",
       "    </tr>\n",
       "    <tr>\n",
       "      <th>2</th>\n",
       "      <td>1</td>\n",
       "      <td>134</td>\n",
       "      <td>4.694949</td>\n",
       "    </tr>\n",
       "    <tr>\n",
       "      <th>3</th>\n",
       "      <td>1</td>\n",
       "      <td>33</td>\n",
       "      <td>4.597161</td>\n",
       "    </tr>\n",
       "    <tr>\n",
       "      <th>4</th>\n",
       "      <td>1</td>\n",
       "      <td>1</td>\n",
       "      <td>4.543678</td>\n",
       "    </tr>\n",
       "  </tbody>\n",
       "</table>\n",
       "</div>"
      ],
      "text/plain": [
       "   userID  movieID  prediction\n",
       "0       1       50    4.535751\n",
       "1       1      114    4.796649\n",
       "2       1      134    4.694949\n",
       "3       1       33    4.597161\n",
       "4       1        1    4.543678"
      ]
     },
     "execution_count": 39,
     "metadata": {},
     "output_type": "execute_result"
    }
   ],
   "source": [
    "#Model prediction on the test set Xtst. \n",
    "top_k_100k, test_time =  model_100k.recommend_k_items(Xtst_100k, top_k = TOP_K)\n",
    "\n",
    "#to df\n",
    "top_k_df_100k = am100k.map_back_sparse(top_k_100k, kind = 'prediction')\n",
    "test_df_100k = am100k.map_back_sparse(Xtst_100k, kind = 'ratings')\n",
    "top_k_df_100k.head()"
   ]
  },
  {
   "cell_type": "markdown",
   "id": "4f55c760-c55c-49cb-a208-3f9db120f8e1",
   "metadata": {},
   "source": [
    "## Evaluate"
   ]
  },
  {
   "cell_type": "markdown",
   "id": "1ee84add-1e00-42d1-8536-7152a30a26ff",
   "metadata": {},
   "source": [
    "### Use recommenders example approach for precision and recall"
   ]
  },
  {
   "cell_type": "code",
   "execution_count": 26,
   "id": "9eb4a57e-c46c-487b-9a2f-dd4ac01c573e",
   "metadata": {},
   "outputs": [],
   "source": [
    "#collection of evaluation metrics for later use\n",
    "def ranking_metrics(\n",
    "    data_size,\n",
    "    data_true,\n",
    "    data_pred,\n",
    "    time_train,\n",
    "    time_test,\n",
    "    K\n",
    "):\n",
    "\n",
    "    eval_map = map_at_k(data_true, data_pred, col_user=\"userID\", col_item=\"movieID\", \n",
    "                    col_rating=\"rating\", col_prediction=\"prediction\", \n",
    "                    relevancy_method=\"top_k\", k= K)\n",
    "\n",
    "    eval_ndcg = ndcg_at_k(data_true, data_pred, col_user=\"userID\", col_item=\"movieID\", \n",
    "                      col_rating=\"rating\", col_prediction=\"prediction\", \n",
    "                      relevancy_method=\"top_k\", k= K)\n",
    "\n",
    "    eval_precision = precision_at_k(data_true, data_pred, col_user=\"userID\", col_item=\"movieID\", \n",
    "                               col_rating=\"rating\", col_prediction=\"prediction\", \n",
    "                               relevancy_method=\"top_k\", k= K)\n",
    "\n",
    "    eval_recall = recall_at_k(data_true, data_pred, col_user=\"userID\", col_item=\"movieID\", \n",
    "                          col_rating=\"rating\", col_prediction=\"prediction\", \n",
    "                          relevancy_method=\"top_k\", k= K)\n",
    "\n",
    "    \n",
    "    df_result = pd.DataFrame(\n",
    "        {   \"Dataset\": data_size,\n",
    "            \"K\": K,\n",
    "            \"MAP\": eval_map,\n",
    "            \"nDCG@k\": eval_ndcg,\n",
    "            \"Precision@k\": eval_precision,\n",
    "            \"Recall@k\": eval_recall,\n",
    "            \"Train time (s)\": time_train,\n",
    "            \"Test time (s)\": time_test\n",
    "        }, \n",
    "        index=[0]\n",
    "    )\n",
    "    \n",
    "    return df_result"
   ]
  },
  {
   "cell_type": "code",
   "execution_count": 40,
   "id": "9d65e43d-579a-4c5a-ad17-5c01d360ed15",
   "metadata": {},
   "outputs": [
    {
     "data": {
      "text/html": [
       "<div>\n",
       "<style scoped>\n",
       "    .dataframe tbody tr th:only-of-type {\n",
       "        vertical-align: middle;\n",
       "    }\n",
       "\n",
       "    .dataframe tbody tr th {\n",
       "        vertical-align: top;\n",
       "    }\n",
       "\n",
       "    .dataframe thead th {\n",
       "        text-align: right;\n",
       "    }\n",
       "</style>\n",
       "<table border=\"1\" class=\"dataframe\">\n",
       "  <thead>\n",
       "    <tr style=\"text-align: right;\">\n",
       "      <th></th>\n",
       "      <th>Dataset</th>\n",
       "      <th>K</th>\n",
       "      <th>MAP</th>\n",
       "      <th>nDCG@k</th>\n",
       "      <th>Precision@k</th>\n",
       "      <th>Recall@k</th>\n",
       "      <th>Train time (s)</th>\n",
       "      <th>Test time (s)</th>\n",
       "    </tr>\n",
       "  </thead>\n",
       "  <tbody>\n",
       "    <tr>\n",
       "      <th>0</th>\n",
       "      <td>mv 100k</td>\n",
       "      <td>20</td>\n",
       "      <td>0.162418</td>\n",
       "      <td>0.389492</td>\n",
       "      <td>0.25684</td>\n",
       "      <td>0.296584</td>\n",
       "      <td>2.984583</td>\n",
       "      <td>0.209163</td>\n",
       "    </tr>\n",
       "  </tbody>\n",
       "</table>\n",
       "</div>"
      ],
      "text/plain": [
       "   Dataset   K       MAP    nDCG@k  Precision@k  Recall@k  Train time (s)  \\\n",
       "0  mv 100k  20  0.162418  0.389492      0.25684  0.296584        2.984583   \n",
       "\n",
       "   Test time (s)  \n",
       "0       0.209163  "
      ]
     },
     "execution_count": 40,
     "metadata": {},
     "output_type": "execute_result"
    }
   ],
   "source": [
    "eval_100k= ranking_metrics(\n",
    "    data_size = \"mv 100k\",\n",
    "    data_true =test_df_100k,\n",
    "    data_pred =top_k_df_100k,\n",
    "    time_train=train_time,\n",
    "    time_test =test_time,\n",
    "    K=20) \n",
    "\n",
    "eval_100k"
   ]
  },
  {
   "cell_type": "markdown",
   "id": "6fcd5254-2319-403c-9002-59b55cef45d7",
   "metadata": {
    "tags": []
   },
   "source": [
    "### Use our methods for diversity metrics,leave ratings as NA"
   ]
  },
  {
   "cell_type": "code",
   "execution_count": 29,
   "id": "255cdc9c-a677-4a01-86d3-649a9a30660f",
   "metadata": {},
   "outputs": [
    {
     "name": "stdout",
     "output_type": "stream",
     "text": [
      "Spark df created, info: \n",
      "\n",
      "root\n",
      " |-- UserId: integer (nullable = true)\n",
      " |-- MovieId: integer (nullable = true)\n",
      " |-- prediction: float (nullable = true)\n",
      "\n",
      "+------+-------+----------+\n",
      "|UserId|MovieId|prediction|\n",
      "+------+-------+----------+\n",
      "|     1|     50| 4.8622932|\n",
      "|     1|    114| 4.6985645|\n",
      "|     1|     32|  4.717861|\n",
      "|     1|    134|  4.829855|\n",
      "|     1|     33| 4.7297573|\n",
      "+------+-------+----------+\n",
      "only showing top 5 rows\n",
      "\n"
     ]
    }
   ],
   "source": [
    "topk_spark = fun.movielens_to_spark(top_k_df_100k, schema = fun.get_predictions_schema())"
   ]
  },
  {
   "cell_type": "code",
   "execution_count": 30,
   "id": "4e4e91c1-6884-4d07-be49-e6c965c7916d",
   "metadata": {
    "tags": []
   },
   "outputs": [],
   "source": [
    "def get_diversity_results(diversity_eval):\n",
    "    metrics = {\n",
    "        \"catalog_coverage\":diversity_eval.catalog_coverage(),\n",
    "        \"distributional_coverage\":diversity_eval.distributional_coverage(), \n",
    "        \"novelty\": diversity_eval.novelty(), \n",
    "        \"diversity\": diversity_eval.diversity(), \n",
    "        \"serendipity\": diversity_eval.serendipity()\n",
    "    }\n",
    "    return metrics"
   ]
  },
  {
   "cell_type": "markdown",
   "id": "d17d2a5d-2a6c-40a9-a49d-06295d9d88a7",
   "metadata": {},
   "source": [
    "Collaborative"
   ]
  },
  {
   "cell_type": "code",
   "execution_count": 31,
   "id": "b7564209-b7a7-441f-a56c-82cc8eb4404e",
   "metadata": {},
   "outputs": [],
   "source": [
    "collaborative_diversity_eval = SparkDiversityEvaluation(\n",
    "        train_df = train_df_spark, \n",
    "        reco_df = topk_spark,\n",
    "        col_user = \"UserId\", \n",
    "        col_item = \"MovieId\"\n",
    "    )\n",
    "diversity_collaborative = get_diversity_results(collaborative_diversity_eval)"
   ]
  },
  {
   "cell_type": "code",
   "execution_count": 32,
   "id": "352591b4-a44a-4510-9cfe-3dbce19a4f05",
   "metadata": {
    "tags": []
   },
   "outputs": [
    {
     "name": "stdout",
     "output_type": "stream",
     "text": [
      "Collaborative diversity:\t0.958215\n",
      "Collaborative serendipity:\t0.920970\n",
      "Collaborative novelty:\t11.310526\n"
     ]
    }
   ],
   "source": [
    "print(\"Collaborative diversity:\\t%f\" % diversity_collaborative['diversity'],\n",
    "      \"Collaborative serendipity:\\t%f\" % diversity_collaborative['serendipity'], \n",
    "     \"Collaborative novelty:\\t%f\" % diversity_collaborative['novelty'], sep='\\n')"
   ]
  },
  {
   "cell_type": "markdown",
   "id": "afbcbefa-20d3-4736-be31-5747ef680817",
   "metadata": {},
   "source": [
    "Content"
   ]
  },
  {
   "cell_type": "code",
   "execution_count": 33,
   "id": "6aeab2f2-23b2-4ef6-8792-8ed0a1334927",
   "metadata": {},
   "outputs": [],
   "source": [
    "content_diversity_eval = SparkDiversityEvaluation(\n",
    "        train_df = train_df_spark, \n",
    "        reco_df = topk_spark,\n",
    "        item_feature_df = feature_data, \n",
    "        item_sim_measure=\"item_feature_vector\",\n",
    "        col_user = \"UserId\", \n",
    "        col_item = \"MovieId\"\n",
    "    )\n",
    "diversity_content = get_diversity_results(content_diversity_eval)"
   ]
  },
  {
   "cell_type": "code",
   "execution_count": 34,
   "id": "e5c7ca58-12c4-4a6d-9bf5-0400fa1c9111",
   "metadata": {},
   "outputs": [
    {
     "name": "stdout",
     "output_type": "stream",
     "text": [
      "Content diversity:\t0.879836\n",
      "Content serendipity:\t0.885715\n",
      "Content novelty:\t11.310526\n"
     ]
    }
   ],
   "source": [
    "print(\"Content diversity:\\t%f\" % diversity_content['diversity'],\n",
    "      \"Content serendipity:\\t%f\" % diversity_content['serendipity'], \n",
    "     \"Content novelty:\\t%f\" % diversity_content['novelty'], sep='\\n')"
   ]
  },
  {
   "cell_type": "code",
   "execution_count": null,
   "id": "09ae52d0-4b7a-4c70-85af-89f2b0479fee",
   "metadata": {},
   "outputs": [],
   "source": []
  }
 ],
 "metadata": {
  "kernelspec": {
   "display_name": "condarec",
   "language": "python",
   "name": "condarec"
  },
  "language_info": {
   "codemirror_mode": {
    "name": "ipython",
    "version": 3
   },
   "file_extension": ".py",
   "mimetype": "text/x-python",
   "name": "python",
   "nbconvert_exporter": "python",
   "pygments_lexer": "ipython3",
   "version": "3.7.0"
  }
 },
 "nbformat": 4,
 "nbformat_minor": 5
}
