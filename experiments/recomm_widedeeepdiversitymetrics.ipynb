{
 "cells": [
  {
   "cell_type": "markdown",
   "id": "380c6fdd-0644-4bfe-86a3-1a2cad33e2d8",
   "metadata": {},
   "source": [
    "# Wide and Deep Hybrid!\n",
    "https://github.com/microsoft/recommenders/blob/main/examples/00_quick_start/wide_deep_movielens.ipynb"
   ]
  },
  {
   "cell_type": "markdown",
   "id": "334da577-4687-4d8d-9242-e8afa7376ffb",
   "metadata": {},
   "source": [
    "## Prepare"
   ]
  },
  {
   "cell_type": "code",
   "execution_count": null,
   "id": "1be1d3c8-4c21-454c-9dd2-ae27e158224f",
   "metadata": {},
   "outputs": [],
   "source": [
    "conda install numpy=1.20"
   ]
  },
  {
   "cell_type": "code",
   "execution_count": 1,
   "id": "3e1c57db-4fa2-43c9-81b3-277b1d386852",
   "metadata": {},
   "outputs": [
    {
     "name": "stdout",
     "output_type": "stream",
     "text": [
      "Tensorflow Version: 1.15.5\n",
      "GPUs:\n",
      " [{'device_name': 'Tesla V100-SXM2-16GB', 'total_memory': 16160.5, 'free_memory': 15854.0}]\n"
     ]
    }
   ],
   "source": [
    "%reload_ext autoreload\n",
    "%autoreload 2\n",
    "%matplotlib inline\n",
    "\n",
    "import itertools\n",
    "import math\n",
    "import os\n",
    "from tempfile import TemporaryDirectory\n",
    "\n",
    "import numpy as np\n",
    "import scrapbook as sb\n",
    "import pandas as pd\n",
    "import sklearn.preprocessing\n",
    "import tensorflow as tf\n",
    "tf.get_logger().setLevel('ERROR') # only show error messages\n",
    "\n",
    "from recommenders.utils.constants import (\n",
    "    DEFAULT_USER_COL as USER_COL,\n",
    "    DEFAULT_ITEM_COL as ITEM_COL,\n",
    "    DEFAULT_RATING_COL as RATING_COL,\n",
    "    DEFAULT_PREDICTION_COL as PREDICT_COL,\n",
    "    SEED\n",
    ")\n",
    "from recommenders.utils import tf_utils, gpu_utils, plot\n",
    "from recommenders.datasets import movielens\n",
    "from recommenders.datasets.pandas_df_utils import user_item_pairs\n",
    "from recommenders.datasets.python_splitters import python_random_split\n",
    "import recommenders.evaluation.python_evaluation as evaluator\n",
    "import recommenders.models.wide_deep.wide_deep_utils as wide_deep\n",
    "\n",
    "print(\"Tensorflow Version:\", tf.VERSION)\n",
    "print(\"GPUs:\\n\", gpu_utils.get_gpu_info())"
   ]
  },
  {
   "cell_type": "code",
   "execution_count": 2,
   "id": "3dd34faa-1205-4e15-8bfc-73ace92b0926",
   "metadata": {},
   "outputs": [],
   "source": [
    "import fun\n",
    "import pyspark\n",
    "from pyspark.ml.recommendation import ALS\n",
    "import pyspark.sql.functions as F\n",
    "from pyspark.sql import SparkSession\n",
    "from pyspark.sql.types import StringType, FloatType, IntegerType, LongType, StructType, StructField\n",
    "from pyspark.ml.feature import Tokenizer, RegexTokenizer, StopWordsRemover\n",
    "from pyspark.ml.feature import HashingTF, CountVectorizer, VectorAssembler\n",
    "from pyspark.sql.window import Window\n",
    "import pyspark.sql.functions as F"
   ]
  },
  {
   "cell_type": "code",
   "execution_count": 3,
   "id": "1a4a61f9-e8e9-4cb5-bead-a20379bdb522",
   "metadata": {
    "tags": []
   },
   "outputs": [],
   "source": [
    "\"\"\"Parameters (papermill)\"\"\"\n",
    "\n",
    "# Recommend top k items\n",
    "TOP_K = 10\n",
    "# Select MovieLens data size: 100k, 1m, 10m, or 20m\n",
    "MOVIELENS_DATA_SIZE = '100k'\n",
    "# Metrics to use for evaluation\n",
    "RANKING_METRICS = [\n",
    "    evaluator.ndcg_at_k.__name__,\n",
    "    evaluator.precision_at_k.__name__,\n",
    "    evaluator.recall_at_k.__name__\n",
    "]\n",
    "RATING_METRICS = [\n",
    "    evaluator.rmse.__name__,\n",
    "    evaluator.mae.__name__,\n",
    "]\n",
    "# Use session hook to evaluate model while training\n",
    "EVALUATE_WHILE_TRAINING = True\n",
    "# Item feature column name\n",
    "ITEM_FEAT_COL = 'genres'\n",
    "\n",
    "RANDOM_SEED = SEED  # Set seed for deterministic result\n",
    "\n",
    "# Train and test set pickle file paths. If provided, use them. Otherwise, download the MovieLens dataset.\n",
    "DATA_DIR = None\n",
    "TRAIN_PICKLE_PATH = None\n",
    "TEST_PICKLE_PATH = None\n",
    "EXPORT_DIR_BASE = './outputs/model'\n",
    "# Model checkpoints directory. If None, use temp-dir.\n",
    "MODEL_DIR = None\n",
    "\n",
    "#### Hyperparameters\n",
    "MODEL_TYPE = 'wide_deep'\n",
    "STEPS = 50000  # Number of batches to train\n",
    "BATCH_SIZE = 32\n",
    "# Wide (linear) model hyperparameters\n",
    "LINEAR_OPTIMIZER = 'adagrad'\n",
    "LINEAR_OPTIMIZER_LR = 0.0621  # Learning rate\n",
    "LINEAR_L1_REG = 0.0           # Regularization rate for FtrlOptimizer\n",
    "LINEAR_L2_REG = 0.0\n",
    "LINEAR_MOMENTUM = 0.0         # Momentum for MomentumOptimizer or RMSPropOptimizer\n",
    "# DNN model hyperparameters\n",
    "DNN_OPTIMIZER = 'adadelta'\n",
    "DNN_OPTIMIZER_LR = 0.1\n",
    "DNN_L1_REG = 0.0           # Regularization rate for FtrlOptimizer\n",
    "DNN_L2_REG = 0.0\n",
    "DNN_MOMENTUM = 0.0         # Momentum for MomentumOptimizer or RMSPropOptimizer\n",
    "# Layer dimensions. Defined as follows to make this notebook runnable from Hyperparameter tuning services like AzureML Hyperdrive\n",
    "DNN_HIDDEN_LAYER_1 = 0     # Set 0 to not use this layer\n",
    "DNN_HIDDEN_LAYER_2 = 64    # Set 0 to not use this layer\n",
    "DNN_HIDDEN_LAYER_3 = 128   # Set 0 to not use this layer\n",
    "DNN_HIDDEN_LAYER_4 = 512   # Note, at least one layer should have nodes.\n",
    "DNN_HIDDEN_UNITS = [h for h in [DNN_HIDDEN_LAYER_1, DNN_HIDDEN_LAYER_2, DNN_HIDDEN_LAYER_3, DNN_HIDDEN_LAYER_4] if h > 0]\n",
    "DNN_USER_DIM = 32          # User embedding feature dimension\n",
    "DNN_ITEM_DIM = 16          # Item embedding feature dimension\n",
    "DNN_DROPOUT = 0.8\n",
    "DNN_BATCH_NORM = 1         # 1 to use batch normalization, 0 if not."
   ]
  },
  {
   "cell_type": "code",
   "execution_count": 4,
   "id": "868d9efe-1744-4614-843d-004ad65197a0",
   "metadata": {},
   "outputs": [],
   "source": [
    "if MODEL_DIR is None:\n",
    "    TMP_DIR = TemporaryDirectory()\n",
    "    model_dir = TMP_DIR.name\n",
    "else:\n",
    "    if os.path.exists(MODEL_DIR) and os.listdir(MODEL_DIR):\n",
    "        raise ValueError(\n",
    "            \"Model exists in {}. Use different directory name or \"\n",
    "            \"remove the existing checkpoint files first\".format(MODEL_DIR)\n",
    "        )\n",
    "    TMP_DIR = None\n",
    "    model_dir = MODEL_DIR"
   ]
  },
  {
   "cell_type": "markdown",
   "id": "78de3b73-52d9-44c6-9e42-f891ced32697",
   "metadata": {},
   "source": [
    "## Import and prepare data"
   ]
  },
  {
   "cell_type": "code",
   "execution_count": 5,
   "id": "da7ed06b-b7d3-43b9-8578-bc2bcb9112a9",
   "metadata": {
    "tags": []
   },
   "outputs": [
    {
     "name": "stderr",
     "output_type": "stream",
     "text": [
      "100%|██████████| 4.81k/4.81k [00:01<00:00, 3.77kKB/s]\n"
     ]
    },
    {
     "data": {
      "text/html": [
       "<div>\n",
       "<style scoped>\n",
       "    .dataframe tbody tr th:only-of-type {\n",
       "        vertical-align: middle;\n",
       "    }\n",
       "\n",
       "    .dataframe tbody tr th {\n",
       "        vertical-align: top;\n",
       "    }\n",
       "\n",
       "    .dataframe thead th {\n",
       "        text-align: right;\n",
       "    }\n",
       "</style>\n",
       "<table border=\"1\" class=\"dataframe\">\n",
       "  <thead>\n",
       "    <tr style=\"text-align: right;\">\n",
       "      <th></th>\n",
       "      <th>userID</th>\n",
       "      <th>itemID</th>\n",
       "      <th>rating</th>\n",
       "      <th>timestamp</th>\n",
       "      <th>title</th>\n",
       "      <th>genres</th>\n",
       "    </tr>\n",
       "  </thead>\n",
       "  <tbody>\n",
       "    <tr>\n",
       "      <th>0</th>\n",
       "      <td>196</td>\n",
       "      <td>242</td>\n",
       "      <td>3.0</td>\n",
       "      <td>881250949</td>\n",
       "      <td>Kolya (1996)</td>\n",
       "      <td>Comedy</td>\n",
       "    </tr>\n",
       "    <tr>\n",
       "      <th>1</th>\n",
       "      <td>63</td>\n",
       "      <td>242</td>\n",
       "      <td>3.0</td>\n",
       "      <td>875747190</td>\n",
       "      <td>Kolya (1996)</td>\n",
       "      <td>Comedy</td>\n",
       "    </tr>\n",
       "    <tr>\n",
       "      <th>2</th>\n",
       "      <td>226</td>\n",
       "      <td>242</td>\n",
       "      <td>5.0</td>\n",
       "      <td>883888671</td>\n",
       "      <td>Kolya (1996)</td>\n",
       "      <td>Comedy</td>\n",
       "    </tr>\n",
       "    <tr>\n",
       "      <th>3</th>\n",
       "      <td>154</td>\n",
       "      <td>242</td>\n",
       "      <td>3.0</td>\n",
       "      <td>879138235</td>\n",
       "      <td>Kolya (1996)</td>\n",
       "      <td>Comedy</td>\n",
       "    </tr>\n",
       "    <tr>\n",
       "      <th>4</th>\n",
       "      <td>306</td>\n",
       "      <td>242</td>\n",
       "      <td>5.0</td>\n",
       "      <td>876503793</td>\n",
       "      <td>Kolya (1996)</td>\n",
       "      <td>Comedy</td>\n",
       "    </tr>\n",
       "  </tbody>\n",
       "</table>\n",
       "</div>"
      ],
      "text/plain": [
       "   userID  itemID  rating  timestamp         title  genres\n",
       "0     196     242     3.0  881250949  Kolya (1996)  Comedy\n",
       "1      63     242     3.0  875747190  Kolya (1996)  Comedy\n",
       "2     226     242     5.0  883888671  Kolya (1996)  Comedy\n",
       "3     154     242     3.0  879138235  Kolya (1996)  Comedy\n",
       "4     306     242     5.0  876503793  Kolya (1996)  Comedy"
      ]
     },
     "metadata": {},
     "output_type": "display_data"
    }
   ],
   "source": [
    "use_preset = (TRAIN_PICKLE_PATH is not None and TEST_PICKLE_PATH is not None)\n",
    "if not use_preset:\n",
    "    # The genres of each movie are returned as '|' separated string, e.g. \"Animation|Children's|Comedy\".\n",
    "    data_full = movielens.load_pandas_df(\n",
    "        size=MOVIELENS_DATA_SIZE,\n",
    "        header=[USER_COL, ITEM_COL, RATING_COL, 'timestamp'],\n",
    "        genres_col=ITEM_FEAT_COL,\n",
    "        title_col='title'\n",
    "    )\n",
    "    display(data_full.head())"
   ]
  },
  {
   "cell_type": "code",
   "execution_count": 6,
   "id": "964df483-a6a8-4f25-959f-052605202c88",
   "metadata": {},
   "outputs": [],
   "source": [
    "data = data_full[[USER_COL, ITEM_COL, RATING_COL,ITEM_FEAT_COL]]"
   ]
  },
  {
   "cell_type": "markdown",
   "id": "326d68fd-8b9a-42e3-ba67-fb92865fd1cf",
   "metadata": {},
   "source": [
    "Encode genres col"
   ]
  },
  {
   "cell_type": "code",
   "execution_count": 7,
   "id": "abfe05fb-1c8e-4aba-9d97-ff9344ce5731",
   "metadata": {},
   "outputs": [
    {
     "name": "stdout",
     "output_type": "stream",
     "text": [
      "Genres: ['Action' 'Adventure' 'Animation' \"Children's\" 'Comedy' 'Crime'\n",
      " 'Documentary' 'Drama' 'Fantasy' 'Film-Noir' 'Horror' 'Musical' 'Mystery'\n",
      " 'Romance' 'Sci-Fi' 'Thriller' 'War' 'Western' 'unknown']\n"
     ]
    },
    {
     "name": "stderr",
     "output_type": "stream",
     "text": [
      "/usr4/cs542sp/nannkat/.conda/envs/condarec/lib/python3.7/site-packages/ipykernel_launcher.py:5: SettingWithCopyWarning: \n",
      "A value is trying to be set on a copy of a slice from a DataFrame.\n",
      "Try using .loc[row_indexer,col_indexer] = value instead\n",
      "\n",
      "See the caveats in the documentation: https://pandas.pydata.org/pandas-docs/stable/user_guide/indexing.html#returning-a-view-versus-a-copy\n",
      "  \"\"\"\n"
     ]
    },
    {
     "data": {
      "text/html": [
       "<div>\n",
       "<style scoped>\n",
       "    .dataframe tbody tr th:only-of-type {\n",
       "        vertical-align: middle;\n",
       "    }\n",
       "\n",
       "    .dataframe tbody tr th {\n",
       "        vertical-align: top;\n",
       "    }\n",
       "\n",
       "    .dataframe thead th {\n",
       "        text-align: right;\n",
       "    }\n",
       "</style>\n",
       "<table border=\"1\" class=\"dataframe\">\n",
       "  <thead>\n",
       "    <tr style=\"text-align: right;\">\n",
       "      <th></th>\n",
       "      <th>userID</th>\n",
       "      <th>itemID</th>\n",
       "      <th>rating</th>\n",
       "      <th>genres</th>\n",
       "    </tr>\n",
       "  </thead>\n",
       "  <tbody>\n",
       "    <tr>\n",
       "      <th>0</th>\n",
       "      <td>196</td>\n",
       "      <td>242</td>\n",
       "      <td>3.0</td>\n",
       "      <td>[0, 0, 0, 0, 1, 0, 0, 0, 0, 0, 0, 0, 0, 0, 0, ...</td>\n",
       "    </tr>\n",
       "    <tr>\n",
       "      <th>1</th>\n",
       "      <td>63</td>\n",
       "      <td>242</td>\n",
       "      <td>3.0</td>\n",
       "      <td>[0, 0, 0, 0, 1, 0, 0, 0, 0, 0, 0, 0, 0, 0, 0, ...</td>\n",
       "    </tr>\n",
       "    <tr>\n",
       "      <th>2</th>\n",
       "      <td>226</td>\n",
       "      <td>242</td>\n",
       "      <td>5.0</td>\n",
       "      <td>[0, 0, 0, 0, 1, 0, 0, 0, 0, 0, 0, 0, 0, 0, 0, ...</td>\n",
       "    </tr>\n",
       "    <tr>\n",
       "      <th>3</th>\n",
       "      <td>154</td>\n",
       "      <td>242</td>\n",
       "      <td>3.0</td>\n",
       "      <td>[0, 0, 0, 0, 1, 0, 0, 0, 0, 0, 0, 0, 0, 0, 0, ...</td>\n",
       "    </tr>\n",
       "    <tr>\n",
       "      <th>4</th>\n",
       "      <td>306</td>\n",
       "      <td>242</td>\n",
       "      <td>5.0</td>\n",
       "      <td>[0, 0, 0, 0, 1, 0, 0, 0, 0, 0, 0, 0, 0, 0, 0, ...</td>\n",
       "    </tr>\n",
       "  </tbody>\n",
       "</table>\n",
       "</div>"
      ],
      "text/plain": [
       "   userID  itemID  rating                                             genres\n",
       "0     196     242     3.0  [0, 0, 0, 0, 1, 0, 0, 0, 0, 0, 0, 0, 0, 0, 0, ...\n",
       "1      63     242     3.0  [0, 0, 0, 0, 1, 0, 0, 0, 0, 0, 0, 0, 0, 0, 0, ...\n",
       "2     226     242     5.0  [0, 0, 0, 0, 1, 0, 0, 0, 0, 0, 0, 0, 0, 0, 0, ...\n",
       "3     154     242     3.0  [0, 0, 0, 0, 1, 0, 0, 0, 0, 0, 0, 0, 0, 0, 0, ...\n",
       "4     306     242     5.0  [0, 0, 0, 0, 1, 0, 0, 0, 0, 0, 0, 0, 0, 0, 0, ..."
      ]
     },
     "metadata": {},
     "output_type": "display_data"
    }
   ],
   "source": [
    "if not use_preset and ITEM_FEAT_COL is not None:\n",
    "    # Encode 'genres' into int array (multi-hot representation) to use as item features\n",
    "    genres_encoder = sklearn.preprocessing.MultiLabelBinarizer()\n",
    "    data[ITEM_FEAT_COL] = genres_encoder.fit_transform(\n",
    "        data[ITEM_FEAT_COL].apply(lambda s: s.split(\"|\"))\n",
    "    ).tolist()\n",
    "    print(\"Genres:\", genres_encoder.classes_)\n",
    "    display(data.head())"
   ]
  },
  {
   "cell_type": "markdown",
   "id": "af6f5659-2a26-4500-a1d7-6dcb4cd51cd4",
   "metadata": {},
   "source": [
    "Train and test split + get user item pairs"
   ]
  },
  {
   "cell_type": "code",
   "execution_count": 8,
   "id": "67ab88bc-d009-4944-a7e4-7bccf43e6b70",
   "metadata": {
    "tags": []
   },
   "outputs": [
    {
     "name": "stdout",
     "output_type": "stream",
     "text": [
      "75000 train samples and 25000 test samples\n"
     ]
    }
   ],
   "source": [
    "if not use_preset:\n",
    "    train, test = python_random_split(data, ratio=0.75, seed=RANDOM_SEED)\n",
    "else:\n",
    "    train = pd.read_pickle(path=TRAIN_PICKLE_PATH if DATA_DIR is None else os.path.join(DATA_DIR, TRAIN_PICKLE_PATH))\n",
    "    test = pd.read_pickle(path=TEST_PICKLE_PATH if DATA_DIR is None else os.path.join(DATA_DIR, TEST_PICKLE_PATH))\n",
    "    data = pd.concat([train, test])\n",
    "\n",
    "print(\"{} train samples and {} test samples\".format(len(train), len(test)))"
   ]
  },
  {
   "cell_type": "markdown",
   "id": "661a6919-a541-4377-bb82-87e11f52ad0c",
   "metadata": {},
   "source": [
    "Spark datasets"
   ]
  },
  {
   "cell_type": "code",
   "execution_count": 9,
   "id": "1e415e1d-17a7-4078-a6de-9712b917ce72",
   "metadata": {},
   "outputs": [
    {
     "name": "stdout",
     "output_type": "stream",
     "text": [
      "Spark df created, info: \n",
      "\n",
      "root\n",
      " |-- UserId: integer (nullable = true)\n",
      " |-- MovieId: integer (nullable = true)\n",
      " |-- Rating: float (nullable = true)\n",
      " |-- Timestamp: long (nullable = true)\n",
      " |-- title: string (nullable = true)\n",
      " |-- genres: string (nullable = true)\n",
      "\n",
      "+------+-------+------+---------+------------+------+\n",
      "|UserId|MovieId|Rating|Timestamp|       title|genres|\n",
      "+------+-------+------+---------+------------+------+\n",
      "|   196|    242|   3.0|881250949|Kolya (1996)|Comedy|\n",
      "|    63|    242|   3.0|875747190|Kolya (1996)|Comedy|\n",
      "|   226|    242|   5.0|883888671|Kolya (1996)|Comedy|\n",
      "|   154|    242|   3.0|879138235|Kolya (1996)|Comedy|\n",
      "|   306|    242|   5.0|876503793|Kolya (1996)|Comedy|\n",
      "+------+-------+------+---------+------------+------+\n",
      "only showing top 5 rows\n",
      "\n",
      "Spark df created, info: \n",
      "\n",
      "root\n",
      " |-- UserId: integer (nullable = true)\n",
      " |-- MovieId: integer (nullable = true)\n",
      " |-- Rating: float (nullable = true)\n",
      "\n",
      "+------+-------+------+\n",
      "|UserId|MovieId|Rating|\n",
      "+------+-------+------+\n",
      "|   405|   1305|   1.0|\n",
      "|   314|    105|   4.0|\n",
      "|   397|    288|   4.0|\n",
      "|   521|   1012|   3.0|\n",
      "|   796|    795|   3.0|\n",
      "+------+-------+------+\n",
      "only showing top 5 rows\n",
      "\n",
      "Spark df created, info: \n",
      "\n",
      "root\n",
      " |-- UserId: integer (nullable = true)\n",
      " |-- MovieId: integer (nullable = true)\n",
      " |-- Rating: float (nullable = true)\n",
      "\n",
      "+------+-------+------+\n",
      "|UserId|MovieId|Rating|\n",
      "+------+-------+------+\n",
      "|   498|    693|   3.0|\n",
      "|   642|    542|   5.0|\n",
      "|    58|    135|   4.0|\n",
      "|   495|    674|   3.0|\n",
      "|   618|    735|   3.0|\n",
      "+------+-------+------+\n",
      "only showing top 5 rows\n",
      "\n"
     ]
    }
   ],
   "source": [
    "data_full_spark = fun.movielens_to_spark(data_full, schema = fun.get_movielens_schema())\n",
    "\n",
    "traintestschema = StructType(\n",
    "    (StructField(\"UserId\", IntegerType()),\n",
    "    StructField(\"MovieId\", IntegerType()),\n",
    "    StructField(\"Rating\", FloatType())))\n",
    "\n",
    "train_df_spark = fun.movielens_to_spark(train[[USER_COL, ITEM_COL, RATING_COL]], schema = traintestschema)\n",
    "test_df_spark = fun.movielens_to_spark(test[[USER_COL, ITEM_COL, RATING_COL]], schema = traintestschema)\n"
   ]
  },
  {
   "cell_type": "code",
   "execution_count": 10,
   "id": "27eacfb9-aa71-418e-8b23-7ae27a9305b1",
   "metadata": {},
   "outputs": [],
   "source": [
    "feature_data = fun.create_feature_data(data_full_spark)"
   ]
  },
  {
   "cell_type": "markdown",
   "id": "bee0891b-e4c8-496d-8645-be5a51528066",
   "metadata": {},
   "source": [
    "User-item pairs in the dataset"
   ]
  },
  {
   "cell_type": "code",
   "execution_count": 11,
   "id": "147c85c8-bda0-4849-95c9-394a0acc692a",
   "metadata": {
    "tags": []
   },
   "outputs": [
    {
     "name": "stdout",
     "output_type": "stream",
     "text": [
      "Total 1682 items and 943 users in the dataset\n"
     ]
    }
   ],
   "source": [
    "# Unique items in the dataset\n",
    "if ITEM_FEAT_COL is None:\n",
    "    items = data.drop_duplicates(ITEM_COL)[[ITEM_COL]].reset_index(drop=True)\n",
    "    item_feat_shape = None\n",
    "else:\n",
    "    items = data.drop_duplicates(ITEM_COL)[[ITEM_COL, ITEM_FEAT_COL]].reset_index(drop=True)\n",
    "    item_feat_shape = len(items[ITEM_FEAT_COL][0])\n",
    "# Unique users in the dataset\n",
    "users = data.drop_duplicates(USER_COL)[[USER_COL]].reset_index(drop=True)\n",
    "\n",
    "print(\"Total {} items and {} users in the dataset\".format(len(items), len(users)))"
   ]
  },
  {
   "cell_type": "markdown",
   "id": "e3ad9667-eb61-472a-ab97-2855d115b283",
   "metadata": {},
   "source": [
    "## Train and predict WIDE DEEP"
   ]
  },
  {
   "cell_type": "markdown",
   "id": "6503049e-86a7-406b-983b-d21065c6c26b",
   "metadata": {},
   "source": [
    "Build"
   ]
  },
  {
   "cell_type": "code",
   "execution_count": 12,
   "id": "abf5aee0-1815-4598-a93c-7b8b32332e2c",
   "metadata": {
    "tags": []
   },
   "outputs": [],
   "source": [
    "# Create model checkpoint every n steps. We store the model 5 times.\n",
    "save_checkpoints_steps = max(1, STEPS // 5)"
   ]
  },
  {
   "cell_type": "code",
   "execution_count": 13,
   "id": "0d00ebc6-a8d9-40d0-8420-8c8438b6e197",
   "metadata": {
    "tags": []
   },
   "outputs": [
    {
     "name": "stdout",
     "output_type": "stream",
     "text": [
      "Wide feature specs:\n",
      "\t VocabularyListCategoricalColumn(key='userID', vocabulary_list=(196, 63, 226, 154, 306, 296, 34, 271, ...\n",
      "\t VocabularyListCategoricalColumn(key='itemID', vocabulary_list=(242, 302, 377, 51, 346, 474, 265, 465 ...\n",
      "\t CrossedColumn(keys=(VocabularyListCategoricalColumn(key='userID', vocabulary_list=(196, 63, 226, 154 ...\n",
      "Deep feature specs:\n",
      "\t EmbeddingColumn(categorical_column=VocabularyListCategoricalColumn(key='userID', vocabulary_list=(19 ...\n",
      "\t EmbeddingColumn(categorical_column=VocabularyListCategoricalColumn(key='itemID', vocabulary_list=(24 ...\n",
      "\t NumericColumn(key='genres', shape=(19,), default_value=None, dtype=tf.float32, normalizer_fn=None) ...\n"
     ]
    }
   ],
   "source": [
    "# Define wide (linear) and deep (dnn) features\n",
    "wide_columns, deep_columns = wide_deep.build_feature_columns(\n",
    "    users=users[USER_COL].values,\n",
    "    items=items[ITEM_COL].values,\n",
    "    user_col=USER_COL,\n",
    "    item_col=ITEM_COL,\n",
    "    item_feat_col=ITEM_FEAT_COL,\n",
    "    crossed_feat_dim=1000,\n",
    "    user_dim=DNN_USER_DIM,\n",
    "    item_dim=DNN_ITEM_DIM,\n",
    "    item_feat_shape=item_feat_shape,\n",
    "    model_type=MODEL_TYPE,\n",
    ")\n",
    "\n",
    "print(\"Wide feature specs:\")\n",
    "for c in wide_columns:\n",
    "    print(\"\\t\", str(c)[:100], \"...\")\n",
    "print(\"Deep feature specs:\")\n",
    "for c in deep_columns:\n",
    "    print(\"\\t\", str(c)[:100], \"...\")"
   ]
  },
  {
   "cell_type": "code",
   "execution_count": 14,
   "id": "244966d2-bac9-4c79-bba5-62ebed8441b5",
   "metadata": {
    "tags": []
   },
   "outputs": [],
   "source": [
    "# Build a model based on the parameters\n",
    "model = wide_deep.build_model(\n",
    "    model_dir=model_dir,\n",
    "    wide_columns=wide_columns,\n",
    "    deep_columns=deep_columns,\n",
    "    linear_optimizer=tf_utils.build_optimizer(LINEAR_OPTIMIZER, LINEAR_OPTIMIZER_LR, **{\n",
    "        'l1_regularization_strength': LINEAR_L1_REG,\n",
    "        'l2_regularization_strength': LINEAR_L2_REG,\n",
    "        'momentum': LINEAR_MOMENTUM,\n",
    "    }),\n",
    "    dnn_optimizer=tf_utils.build_optimizer(DNN_OPTIMIZER, DNN_OPTIMIZER_LR, **{\n",
    "        'l1_regularization_strength': DNN_L1_REG,\n",
    "        'l2_regularization_strength': DNN_L2_REG,\n",
    "        'momentum': DNN_MOMENTUM,  \n",
    "    }),\n",
    "    dnn_hidden_units=DNN_HIDDEN_UNITS,\n",
    "    dnn_dropout=DNN_DROPOUT,\n",
    "    dnn_batch_norm=(DNN_BATCH_NORM==1),\n",
    "    log_every_n_iter=max(1, STEPS//10),  # log 10 times\n",
    "    save_checkpoints_steps=save_checkpoints_steps,\n",
    "    seed=RANDOM_SEED\n",
    ")"
   ]
  },
  {
   "cell_type": "markdown",
   "id": "665ca6d1-2ffc-4feb-b7eb-c928c03f139a",
   "metadata": {},
   "source": [
    "user-item df"
   ]
  },
  {
   "cell_type": "code",
   "execution_count": 15,
   "id": "6aedcd22-cdff-4f97-bd0e-5a5380acb7d2",
   "metadata": {
    "tags": []
   },
   "outputs": [
    {
     "name": "stdout",
     "output_type": "stream",
     "text": [
      "1511126\n"
     ]
    }
   ],
   "source": [
    "cols = {\n",
    "    'col_user': USER_COL,\n",
    "    'col_item': ITEM_COL,\n",
    "    'col_rating': RATING_COL,\n",
    "    'col_prediction': PREDICT_COL,\n",
    "}\n",
    "\n",
    "# Prepare ranking evaluation set, i.e. get the cross join of all user-item pairs\n",
    "ranking_pool = user_item_pairs(\n",
    "    user_df=users,\n",
    "    item_df=items,\n",
    "    user_col=USER_COL,\n",
    "    item_col=ITEM_COL,\n",
    "    user_item_filter_df=train,  # Remove seen items\n",
    "    shuffle=True,\n",
    "    seed=RANDOM_SEED\n",
    ")\n",
    "\n",
    "print(ranking_pool.shape[0])"
   ]
  },
  {
   "cell_type": "markdown",
   "id": "a7511610-2268-472b-a8f1-bdddb223dcb6",
   "metadata": {},
   "source": [
    "train"
   ]
  },
  {
   "cell_type": "code",
   "execution_count": 16,
   "id": "196c7d6f-df78-49a6-be26-f7dd2653a6e7",
   "metadata": {
    "tags": []
   },
   "outputs": [],
   "source": [
    "# Define training hooks to track performance while training\n",
    "hooks = []\n",
    "if EVALUATE_WHILE_TRAINING:\n",
    "    evaluation_logger = tf_utils.MetricsLogger()\n",
    "    for metrics in (RANKING_METRICS, RATING_METRICS):\n",
    "        if len(metrics) > 0:\n",
    "            hooks.append(\n",
    "                tf_utils.evaluation_log_hook(\n",
    "                    model,\n",
    "                    logger=evaluation_logger,\n",
    "                    true_df=test,\n",
    "                    y_col=RATING_COL,\n",
    "                    eval_df=ranking_pool if metrics==RANKING_METRICS else test.drop(RATING_COL, axis=1),\n",
    "                    every_n_iter=save_checkpoints_steps,\n",
    "                    model_dir=model_dir,\n",
    "                    eval_fns=[evaluator.metrics[m] for m in metrics],\n",
    "                    **({**cols, 'k': TOP_K} if metrics==RANKING_METRICS else cols)\n",
    "                )\n",
    "            )\n",
    "\n",
    "# Define training input (sample feeding) function\n",
    "train_fn = tf_utils.pandas_input_fn(\n",
    "    df=train,\n",
    "    y_col=RATING_COL,\n",
    "    batch_size=BATCH_SIZE,\n",
    "    num_epochs=None,  # We use steps=TRAIN_STEPS instead.\n",
    "    shuffle=True,\n",
    "    seed=RANDOM_SEED,\n",
    ")"
   ]
  },
  {
   "cell_type": "code",
   "execution_count": 17,
   "id": "23cd18ff-4deb-43e1-9f81-1bd407e49b5a",
   "metadata": {
    "tags": []
   },
   "outputs": [
    {
     "name": "stdout",
     "output_type": "stream",
     "text": [
      "Training steps = 50000, Batch size = 32 (num epochs = 21)\n",
      "WARNING:tensorflow:From /usr4/cs542sp/nannkat/.conda/envs/condarec/lib/python3.7/site-packages/tensorflow_core/python/training/training_util.py:236: Variable.initialized_value (from tensorflow.python.ops.variables) is deprecated and will be removed in a future version.\n",
      "Instructions for updating:\n",
      "Use Variable.read_value. Variables in 2.X are initialized automatically both in eager and graph (inside tf.defun) contexts.\n",
      "WARNING:tensorflow:From /usr4/cs542sp/nannkat/.conda/envs/condarec/lib/python3.7/site-packages/tensorflow_core/python/data/util/random_seed.py:58: where (from tensorflow.python.ops.array_ops) is deprecated and will be removed in a future version.\n",
      "Instructions for updating:\n",
      "Use tf.where in 2.0, which has the same broadcast rule as np.where\n",
      "INFO:tensorflow:Calling model_fn.\n",
      "WARNING:tensorflow:From /usr4/cs542sp/nannkat/.conda/envs/condarec/lib/python3.7/site-packages/tensorflow_core/python/feature_column/feature_column_v2.py:3079: VocabularyListCategoricalColumn._num_buckets (from tensorflow.python.feature_column.feature_column_v2) is deprecated and will be removed in a future version.\n",
      "Instructions for updating:\n",
      "The old _FeatureColumn APIs are being deprecated. Please use the new FeatureColumn APIs instead.\n",
      "WARNING:tensorflow:From /usr4/cs542sp/nannkat/.conda/envs/condarec/lib/python3.7/site-packages/tensorflow_core/python/feature_column/feature_column_v2.py:305: Layer.add_variable (from tensorflow.python.keras.engine.base_layer) is deprecated and will be removed in a future version.\n",
      "Instructions for updating:\n",
      "Please use `layer.add_weight` method instead.\n",
      "WARNING:tensorflow:From /usr4/cs542sp/nannkat/.conda/envs/condarec/lib/python3.7/site-packages/tensorflow_core/python/ops/resource_variable_ops.py:1630: calling BaseResourceVariable.__init__ (from tensorflow.python.ops.resource_variable_ops) with constraint is deprecated and will be removed in a future version.\n",
      "Instructions for updating:\n",
      "If using Keras pass *_constraint arguments to layers.\n",
      "WARNING:tensorflow:Large dropout rate: 0.8 (>0.5). In TensorFlow 2.x, dropout() uses dropout rate instead of keep_prob. Please ensure that this is intended.\n",
      "WARNING:tensorflow:Large dropout rate: 0.8 (>0.5). In TensorFlow 2.x, dropout() uses dropout rate instead of keep_prob. Please ensure that this is intended.\n",
      "WARNING:tensorflow:Large dropout rate: 0.8 (>0.5). In TensorFlow 2.x, dropout() uses dropout rate instead of keep_prob. Please ensure that this is intended.\n",
      "WARNING:tensorflow:From /usr4/cs542sp/nannkat/.conda/envs/condarec/lib/python3.7/site-packages/tensorflow_estimator/python/estimator/canned/linear.py:308: to_float (from tensorflow.python.ops.math_ops) is deprecated and will be removed in a future version.\n",
      "Instructions for updating:\n",
      "Use `tf.cast` instead.\n",
      "WARNING:tensorflow:From /usr4/cs542sp/nannkat/.conda/envs/condarec/lib/python3.7/site-packages/tensorflow_core/python/training/adagrad.py:76: calling Constant.__init__ (from tensorflow.python.ops.init_ops) with dtype is deprecated and will be removed in a future version.\n",
      "Instructions for updating:\n",
      "Call initializer instance with the dtype argument instead of passing it to the constructor\n",
      "INFO:tensorflow:Done calling model_fn.\n",
      "INFO:tensorflow:Create CheckpointSaverHook.\n",
      "WARNING:tensorflow:From /usr4/cs542sp/nannkat/.conda/envs/condarec/lib/python3.7/site-packages/recommenders/utils/tf_utils.py:279: The name tf.summary.FileWriterCache is deprecated. Please use tf.compat.v1.summary.FileWriterCache instead.\n",
      "\n",
      "WARNING:tensorflow:From /usr4/cs542sp/nannkat/.conda/envs/condarec/lib/python3.7/site-packages/recommenders/utils/tf_utils.py:280: The name tf.train.get_or_create_global_step is deprecated. Please use tf.compat.v1.train.get_or_create_global_step instead.\n",
      "\n",
      "INFO:tensorflow:Graph was finalized.\n",
      "INFO:tensorflow:Running local_init_op.\n",
      "INFO:tensorflow:Done running local_init_op.\n",
      "INFO:tensorflow:Saving checkpoints for 0 into /scratch/1295843.1.academic-gpu/tmp0pzda23g/model.ckpt.\n",
      "WARNING:tensorflow:From /usr4/cs542sp/nannkat/.conda/envs/condarec/lib/python3.7/site-packages/recommenders/utils/tf_utils.py:287: The name tf.train.SessionRunArgs is deprecated. Please use tf.estimator.SessionRunArgs instead.\n",
      "\n",
      "WARNING:tensorflow:From /usr4/cs542sp/nannkat/.conda/envs/condarec/lib/python3.7/site-packages/recommenders/utils/tf_utils.py:298: The name tf.logging.get_verbosity is deprecated. Please use tf.compat.v1.logging.get_verbosity instead.\n",
      "\n",
      "WARNING:tensorflow:From /usr4/cs542sp/nannkat/.conda/envs/condarec/lib/python3.7/site-packages/recommenders/utils/tf_utils.py:299: The name tf.logging.ERROR is deprecated. Please use tf.compat.v1.logging.ERROR instead.\n",
      "\n",
      "INFO:tensorflow:loss = 497.0287, step = 0\n",
      "INFO:tensorflow:global_step/sec: 82.1139\n",
      "INFO:tensorflow:loss = 51.71328, step = 5000 (31.038 sec)\n",
      "INFO:tensorflow:Saving checkpoints for 10000 into /scratch/1295843.1.academic-gpu/tmp0pzda23g/model.ckpt.\n",
      "INFO:tensorflow:global_step/sec: 162.859\n",
      "INFO:tensorflow:loss = 20.449024, step = 10000 (60.251 sec)\n",
      "INFO:tensorflow:global_step/sec: 83.2784\n",
      "INFO:tensorflow:loss = 33.666553, step = 15000 (30.490 sec)\n",
      "INFO:tensorflow:Saving checkpoints for 20000 into /scratch/1295843.1.academic-gpu/tmp0pzda23g/model.ckpt.\n",
      "INFO:tensorflow:global_step/sec: 162.61\n",
      "INFO:tensorflow:loss = 29.407022, step = 20000 (60.688 sec)\n",
      "INFO:tensorflow:global_step/sec: 83.1376\n",
      "INFO:tensorflow:loss = 17.03922, step = 25000 (30.202 sec)\n",
      "INFO:tensorflow:Saving checkpoints for 30000 into /scratch/1295843.1.academic-gpu/tmp0pzda23g/model.ckpt.\n",
      "INFO:tensorflow:global_step/sec: 163.728\n",
      "INFO:tensorflow:loss = 23.310055, step = 30000 (60.311 sec)\n",
      "INFO:tensorflow:global_step/sec: 83.3022\n",
      "INFO:tensorflow:loss = 30.05245, step = 35000 (30.250 sec)\n",
      "INFO:tensorflow:Saving checkpoints for 40000 into /scratch/1295843.1.academic-gpu/tmp0pzda23g/model.ckpt.\n",
      "INFO:tensorflow:global_step/sec: 164.184\n",
      "INFO:tensorflow:loss = 16.537855, step = 40000 (60.333 sec)\n",
      "INFO:tensorflow:global_step/sec: 82.8778\n",
      "INFO:tensorflow:loss = 29.46437, step = 45000 (30.450 sec)\n",
      "INFO:tensorflow:Saving checkpoints for 50000 into /scratch/1295843.1.academic-gpu/tmp0pzda23g/model.ckpt.\n",
      "WARNING:tensorflow:From /usr4/cs542sp/nannkat/.conda/envs/condarec/lib/python3.7/site-packages/tensorflow_core/python/training/saver.py:963: remove_checkpoint (from tensorflow.python.training.checkpoint_management) is deprecated and will be removed in a future version.\n",
      "Instructions for updating:\n",
      "Use standard file APIs to delete files with this prefix.\n",
      "INFO:tensorflow:Loss for final step: 27.873924.\n"
     ]
    }
   ],
   "source": [
    "print(\n",
    "    \"Training steps = {}, Batch size = {} (num epochs = {})\"\n",
    "    .format(STEPS, BATCH_SIZE, (STEPS*BATCH_SIZE)//len(train))\n",
    ")\n",
    "tf.logging.set_verbosity(tf.logging.INFO)\n",
    "\n",
    "try:\n",
    "    model.train(\n",
    "        input_fn=train_fn,\n",
    "        hooks=hooks,\n",
    "        steps=STEPS\n",
    "    )\n",
    "except tf.train.NanLossDuringTrainingError:\n",
    "    import warnings\n",
    "    warnings.warn(\n",
    "        \"Training stopped with NanLossDuringTrainingError. \"\n",
    "        \"Try other optimizers, smaller batch size and/or smaller learning rate.\"\n",
    "    )"
   ]
  },
  {
   "cell_type": "code",
   "execution_count": 18,
   "id": "118fb3ac-3a70-4799-8bd2-80e3b7a2301f",
   "metadata": {
    "tags": []
   },
   "outputs": [
    {
     "data": {
      "application/scrapbook.scrap.json+json": {
       "data": [
        0.02893501717787128,
        0.14309604893734126,
        0.11557407855593815,
        0.09971282798134247,
        0.09210770284112468
       ],
       "encoder": "json",
       "name": "eval_ndcg_at_k",
       "version": 1
      }
     },
     "metadata": {
      "scrapbook": {
       "data": true,
       "display": false,
       "name": "eval_ndcg_at_k"
      }
     },
     "output_type": "display_data"
    },
    {
     "data": {
      "application/scrapbook.scrap.json+json": {
       "data": [
        0.02852598091198304,
        0.13191940615058326,
        0.1091198303287381,
        0.0973488865323436,
        0.09109225874867445
       ],
       "encoder": "json",
       "name": "eval_precision_at_k",
       "version": 1
      }
     },
     "metadata": {
      "scrapbook": {
       "data": true,
       "display": false,
       "name": "eval_precision_at_k"
      }
     },
     "output_type": "display_data"
    },
    {
     "data": {
      "application/scrapbook.scrap.json+json": {
       "data": [
        0.011341664692052276,
        0.04992887254749111,
        0.04023445007991447,
        0.03386133791273428,
        0.03166709587171283
       ],
       "encoder": "json",
       "name": "eval_recall_at_k",
       "version": 1
      }
     },
     "metadata": {
      "scrapbook": {
       "data": true,
       "display": false,
       "name": "eval_recall_at_k"
      }
     },
     "output_type": "display_data"
    },
    {
     "data": {
      "application/scrapbook.scrap.json+json": {
       "data": [
        3.705409107458662,
        0.968033325841749,
        0.957494114606735,
        0.9540699810519696,
        0.9531235376337477
       ],
       "encoder": "json",
       "name": "eval_rmse",
       "version": 1
      }
     },
     "metadata": {
      "scrapbook": {
       "data": true,
       "display": false,
       "name": "eval_rmse"
      }
     },
     "output_type": "display_data"
    },
    {
     "data": {
      "application/scrapbook.scrap.json+json": {
       "data": [
        3.528826264880678,
        0.7750227193307877,
        0.7637095749163627,
        0.7595069872939587,
        0.7583537115859985
       ],
       "encoder": "json",
       "name": "eval_mae",
       "version": 1
      }
     },
     "metadata": {
      "scrapbook": {
       "data": true,
       "display": false,
       "name": "eval_mae"
      }
     },
     "output_type": "display_data"
    },
    {
     "data": {
      "image/png": "[encoded data removed]",
      "text/plain": [
       "<Figure size 720x1080 with 5 Axes>"
      ]
     },
     "metadata": {
      "needs_background": "light"
     },
     "output_type": "display_data"
    }
   ],
   "source": [
    "if EVALUATE_WHILE_TRAINING:\n",
    "    logs = evaluation_logger.get_log()\n",
    "    for i, (m, v) in enumerate(logs.items(), 1):\n",
    "        sb.glue(\"eval_{}\".format(m), v)\n",
    "        x = [save_checkpoints_steps*i for i in range(1, len(v)+1)]\n",
    "        plot.line_graph(\n",
    "            values=list(zip(v, x)),\n",
    "            labels=m,\n",
    "            x_name=\"steps\",\n",
    "            y_name=m,\n",
    "            subplot=(math.ceil(len(logs)/2), 2, i),\n",
    "        )"
   ]
  },
  {
   "cell_type": "markdown",
   "id": "054d8b31-4a4a-4169-985e-fe4b8e4b3f38",
   "metadata": {},
   "source": [
    "Create top k"
   ]
  },
  {
   "cell_type": "code",
   "execution_count": null,
   "id": "c457eddd-3e85-4e7a-bacf-f76f3cdc0741",
   "metadata": {
    "tags": []
   },
   "outputs": [],
   "source": [
    "if len(RANKING_METRICS) > 0:\n",
    "    predictions = list(model.predict(input_fn=tf_utils.pandas_input_fn(df=ranking_pool)))\n",
    "    prediction_df = ranking_pool.copy()\n",
    "    prediction_df[PREDICT_COL] = [p['predictions'][0] for p in predictions]"
   ]
  },
  {
   "cell_type": "markdown",
   "id": "e48b8090-55bc-4fc6-8cdb-c02df636ec72",
   "metadata": {},
   "source": [
    "## Evaluate"
   ]
  },
  {
   "cell_type": "markdown",
   "id": "3d204f85-c111-42e7-b1df-25d5240c1b7d",
   "metadata": {},
   "source": [
    "### Create top k"
   ]
  },
  {
   "cell_type": "code",
   "execution_count": 19,
   "id": "ed3224f4-6404-409a-8f88-976b3d2c7fd0",
   "metadata": {
    "tags": []
   },
   "outputs": [
    {
     "name": "stdout",
     "output_type": "stream",
     "text": [
      "INFO:tensorflow:Calling model_fn.\n",
      "INFO:tensorflow:Done calling model_fn.\n",
      "INFO:tensorflow:Graph was finalized.\n",
      "INFO:tensorflow:Restoring parameters from /scratch/1295843.1.academic-gpu/tmp0pzda23g/model.ckpt-50000\n",
      "INFO:tensorflow:Running local_init_op.\n",
      "INFO:tensorflow:Done running local_init_op.\n"
     ]
    }
   ],
   "source": [
    "predictions = list(model.predict(input_fn=tf_utils.pandas_input_fn(df=ranking_pool)))\n",
    "prediction_df = ranking_pool.copy()\n",
    "prediction_df[PREDICT_COL] = [p['predictions'][0] for p in predictions]"
   ]
  },
  {
   "cell_type": "code",
   "execution_count": 20,
   "id": "1b7ef585-ace5-4cfb-aec8-dcb5c1231ef8",
   "metadata": {
    "tags": []
   },
   "outputs": [
    {
     "data": {
      "text/html": [
       "<div>\n",
       "<style scoped>\n",
       "    .dataframe tbody tr th:only-of-type {\n",
       "        vertical-align: middle;\n",
       "    }\n",
       "\n",
       "    .dataframe tbody tr th {\n",
       "        vertical-align: top;\n",
       "    }\n",
       "\n",
       "    .dataframe thead th {\n",
       "        text-align: right;\n",
       "    }\n",
       "</style>\n",
       "<table border=\"1\" class=\"dataframe\">\n",
       "  <thead>\n",
       "    <tr style=\"text-align: right;\">\n",
       "      <th></th>\n",
       "      <th>userID</th>\n",
       "      <th>itemID</th>\n",
       "      <th>genres</th>\n",
       "      <th>prediction</th>\n",
       "    </tr>\n",
       "  </thead>\n",
       "  <tbody>\n",
       "    <tr>\n",
       "      <th>0</th>\n",
       "      <td>626</td>\n",
       "      <td>1422</td>\n",
       "      <td>[0, 0, 0, 0, 0, 0, 0, 0, 0, 1, 0, 0, 0, 0, 0, ...</td>\n",
       "      <td>2.124280</td>\n",
       "    </tr>\n",
       "    <tr>\n",
       "      <th>1</th>\n",
       "      <td>818</td>\n",
       "      <td>219</td>\n",
       "      <td>[0, 0, 0, 0, 0, 0, 0, 0, 0, 0, 1, 0, 0, 0, 0, ...</td>\n",
       "      <td>3.148307</td>\n",
       "    </tr>\n",
       "    <tr>\n",
       "      <th>2</th>\n",
       "      <td>75</td>\n",
       "      <td>1639</td>\n",
       "      <td>[0, 0, 0, 0, 0, 0, 0, 1, 0, 0, 0, 0, 0, 0, 0, ...</td>\n",
       "      <td>3.647772</td>\n",
       "    </tr>\n",
       "    <tr>\n",
       "      <th>3</th>\n",
       "      <td>352</td>\n",
       "      <td>1491</td>\n",
       "      <td>[1, 0, 0, 0, 0, 0, 0, 1, 0, 0, 0, 0, 0, 0, 0, ...</td>\n",
       "      <td>2.611854</td>\n",
       "    </tr>\n",
       "    <tr>\n",
       "      <th>4</th>\n",
       "      <td>68</td>\n",
       "      <td>1639</td>\n",
       "      <td>[0, 0, 0, 0, 0, 0, 0, 1, 0, 0, 0, 0, 0, 0, 0, ...</td>\n",
       "      <td>3.440133</td>\n",
       "    </tr>\n",
       "  </tbody>\n",
       "</table>\n",
       "</div>"
      ],
      "text/plain": [
       "   userID  itemID                                             genres  \\\n",
       "0     626    1422  [0, 0, 0, 0, 0, 0, 0, 0, 0, 1, 0, 0, 0, 0, 0, ...   \n",
       "1     818     219  [0, 0, 0, 0, 0, 0, 0, 0, 0, 0, 1, 0, 0, 0, 0, ...   \n",
       "2      75    1639  [0, 0, 0, 0, 0, 0, 0, 1, 0, 0, 0, 0, 0, 0, 0, ...   \n",
       "3     352    1491  [1, 0, 0, 0, 0, 0, 0, 1, 0, 0, 0, 0, 0, 0, 0, ...   \n",
       "4      68    1639  [0, 0, 0, 0, 0, 0, 0, 1, 0, 0, 0, 0, 0, 0, 0, ...   \n",
       "\n",
       "   prediction  \n",
       "0    2.124280  \n",
       "1    3.148307  \n",
       "2    3.647772  \n",
       "3    2.611854  \n",
       "4    3.440133  "
      ]
     },
     "execution_count": 20,
     "metadata": {},
     "output_type": "execute_result"
    }
   ],
   "source": [
    "prediction_df.head()"
   ]
  },
  {
   "cell_type": "code",
   "execution_count": 21,
   "id": "d3fc1917-5aae-4c86-b43f-3b186c1838ec",
   "metadata": {},
   "outputs": [
    {
     "name": "stdout",
     "output_type": "stream",
     "text": [
      "Spark df created, info: \n",
      "\n",
      "root\n",
      " |-- UserId: integer (nullable = true)\n",
      " |-- MovieId: integer (nullable = true)\n",
      " |-- prediction: float (nullable = true)\n",
      "\n",
      "+------+-------+----------+\n",
      "|UserId|MovieId|prediction|\n",
      "+------+-------+----------+\n",
      "|   626|   1422| 2.1242802|\n",
      "|   818|    219|  3.148307|\n",
      "|    75|   1639|  3.647772|\n",
      "|   352|   1491|  2.611854|\n",
      "|    68|   1639|  3.440133|\n",
      "+------+-------+----------+\n",
      "only showing top 5 rows\n",
      "\n"
     ]
    }
   ],
   "source": [
    "schema = StructType(\n",
    "    (StructField(\"UserId\", IntegerType()),\n",
    "    StructField(\"MovieId\", IntegerType()),\n",
    "    StructField(\"Rating\", FloatType())))\n",
    "\n",
    "top_all = fun.movielens_to_spark(prediction_df[['userID', 'itemID', 'prediction']], schema = fun.get_predictions_schema())"
   ]
  },
  {
   "cell_type": "code",
   "execution_count": 22,
   "id": "598d421e-5c14-4b4b-a4b9-e5174c1d049d",
   "metadata": {
    "tags": []
   },
   "outputs": [],
   "source": [
    "window = Window.partitionBy('UserId').orderBy(F.col(\"prediction\").desc())\n",
    "top_k_reco = top_all.select(\"*\", F.row_number().over(window).alias(\"rank\")).filter(F.col(\"rank\") <= TOP_K).drop(\"rank\")"
   ]
  },
  {
   "cell_type": "code",
   "execution_count": 23,
   "id": "e8e41fd0-f8e2-460e-8be9-8e495ed07e3f",
   "metadata": {},
   "outputs": [
    {
     "name": "stdout",
     "output_type": "stream",
     "text": [
      "+------+-------+----------+\n",
      "|UserId|MovieId|prediction|\n",
      "+------+-------+----------+\n",
      "|   148|    318| 4.7889366|\n",
      "|   148|    285| 4.5706253|\n",
      "|   148|    603|  4.530361|\n",
      "|   148|     64|  4.508941|\n",
      "|   148|    513|  4.487127|\n",
      "|   148|    114| 4.4849634|\n",
      "|   148|    479|  4.476581|\n",
      "|   148|    657|  4.453797|\n",
      "|   148|    963|  4.429183|\n",
      "|   148|    199|  4.425315|\n",
      "|   463|    483| 3.9573576|\n",
      "|   463|    408| 3.9274223|\n",
      "|   463|    318| 3.8789165|\n",
      "|   463|     12| 3.8376253|\n",
      "|   463|    169|  3.809069|\n",
      "|   463|    479| 3.7828517|\n",
      "|   463|     98| 3.7819278|\n",
      "|   463|    114| 3.7510061|\n",
      "|   463|     64| 3.7303421|\n",
      "|   463|    178| 3.7297487|\n",
      "+------+-------+----------+\n",
      "only showing top 20 rows\n",
      "\n"
     ]
    }
   ],
   "source": [
    "top_k_reco.show()"
   ]
  },
  {
   "cell_type": "markdown",
   "id": "94b47dd1-d1e5-4d94-b984-e5530e15b126",
   "metadata": {},
   "source": [
    "## Make topk reco with examples"
   ]
  },
  {
   "cell_type": "code",
   "execution_count": 24,
   "id": "1a7f08ce-a51e-4cc4-8ccd-9e2729a8693c",
   "metadata": {},
   "outputs": [
    {
     "data": {
      "text/html": [
       "<div>\n",
       "<style scoped>\n",
       "    .dataframe tbody tr th:only-of-type {\n",
       "        vertical-align: middle;\n",
       "    }\n",
       "\n",
       "    .dataframe tbody tr th {\n",
       "        vertical-align: top;\n",
       "    }\n",
       "\n",
       "    .dataframe thead th {\n",
       "        text-align: right;\n",
       "    }\n",
       "</style>\n",
       "<table border=\"1\" class=\"dataframe\">\n",
       "  <thead>\n",
       "    <tr style=\"text-align: right;\">\n",
       "      <th></th>\n",
       "      <th>UserId</th>\n",
       "      <th>MovieId</th>\n",
       "      <th>prediction</th>\n",
       "    </tr>\n",
       "  </thead>\n",
       "  <tbody>\n",
       "    <tr>\n",
       "      <th>0</th>\n",
       "      <td>148</td>\n",
       "      <td>318</td>\n",
       "      <td>4.788937</td>\n",
       "    </tr>\n",
       "    <tr>\n",
       "      <th>1</th>\n",
       "      <td>148</td>\n",
       "      <td>285</td>\n",
       "      <td>4.570625</td>\n",
       "    </tr>\n",
       "    <tr>\n",
       "      <th>2</th>\n",
       "      <td>148</td>\n",
       "      <td>603</td>\n",
       "      <td>4.530361</td>\n",
       "    </tr>\n",
       "    <tr>\n",
       "      <th>3</th>\n",
       "      <td>148</td>\n",
       "      <td>64</td>\n",
       "      <td>4.508941</td>\n",
       "    </tr>\n",
       "    <tr>\n",
       "      <th>4</th>\n",
       "      <td>148</td>\n",
       "      <td>513</td>\n",
       "      <td>4.487127</td>\n",
       "    </tr>\n",
       "  </tbody>\n",
       "</table>\n",
       "</div>"
      ],
      "text/plain": [
       "   UserId  MovieId  prediction\n",
       "0     148      318    4.788937\n",
       "1     148      285    4.570625\n",
       "2     148      603    4.530361\n",
       "3     148       64    4.508941\n",
       "4     148      513    4.487127"
      ]
     },
     "execution_count": 24,
     "metadata": {},
     "output_type": "execute_result"
    }
   ],
   "source": [
    "top_k_pd = fun.movielens_to_pandas(top_k_reco)\n",
    "top_k_pd.head()"
   ]
  },
  {
   "cell_type": "code",
   "execution_count": 28,
   "id": "cfc01391-5da7-41dd-967b-7cffcd3d622a",
   "metadata": {},
   "outputs": [
    {
     "data": {
      "text/html": [
       "<div>\n",
       "<style scoped>\n",
       "    .dataframe tbody tr th:only-of-type {\n",
       "        vertical-align: middle;\n",
       "    }\n",
       "\n",
       "    .dataframe tbody tr th {\n",
       "        vertical-align: top;\n",
       "    }\n",
       "\n",
       "    .dataframe thead th {\n",
       "        text-align: right;\n",
       "    }\n",
       "</style>\n",
       "<table border=\"1\" class=\"dataframe\">\n",
       "  <thead>\n",
       "    <tr style=\"text-align: right;\">\n",
       "      <th></th>\n",
       "      <th>UserId</th>\n",
       "      <th>MovieId</th>\n",
       "      <th>rating</th>\n",
       "      <th>timestamp</th>\n",
       "      <th>title</th>\n",
       "      <th>genres</th>\n",
       "    </tr>\n",
       "  </thead>\n",
       "  <tbody>\n",
       "    <tr>\n",
       "      <th>0</th>\n",
       "      <td>196</td>\n",
       "      <td>242</td>\n",
       "      <td>3.0</td>\n",
       "      <td>881250949</td>\n",
       "      <td>Kolya (1996)</td>\n",
       "      <td>Comedy</td>\n",
       "    </tr>\n",
       "    <tr>\n",
       "      <th>1</th>\n",
       "      <td>63</td>\n",
       "      <td>242</td>\n",
       "      <td>3.0</td>\n",
       "      <td>875747190</td>\n",
       "      <td>Kolya (1996)</td>\n",
       "      <td>Comedy</td>\n",
       "    </tr>\n",
       "    <tr>\n",
       "      <th>2</th>\n",
       "      <td>226</td>\n",
       "      <td>242</td>\n",
       "      <td>5.0</td>\n",
       "      <td>883888671</td>\n",
       "      <td>Kolya (1996)</td>\n",
       "      <td>Comedy</td>\n",
       "    </tr>\n",
       "    <tr>\n",
       "      <th>3</th>\n",
       "      <td>154</td>\n",
       "      <td>242</td>\n",
       "      <td>3.0</td>\n",
       "      <td>879138235</td>\n",
       "      <td>Kolya (1996)</td>\n",
       "      <td>Comedy</td>\n",
       "    </tr>\n",
       "    <tr>\n",
       "      <th>4</th>\n",
       "      <td>306</td>\n",
       "      <td>242</td>\n",
       "      <td>5.0</td>\n",
       "      <td>876503793</td>\n",
       "      <td>Kolya (1996)</td>\n",
       "      <td>Comedy</td>\n",
       "    </tr>\n",
       "  </tbody>\n",
       "</table>\n",
       "</div>"
      ],
      "text/plain": [
       "   UserId  MovieId  rating  timestamp         title  genres\n",
       "0     196      242     3.0  881250949  Kolya (1996)  Comedy\n",
       "1      63      242     3.0  875747190  Kolya (1996)  Comedy\n",
       "2     226      242     5.0  883888671  Kolya (1996)  Comedy\n",
       "3     154      242     3.0  879138235  Kolya (1996)  Comedy\n",
       "4     306      242     5.0  876503793  Kolya (1996)  Comedy"
      ]
     },
     "execution_count": 28,
     "metadata": {},
     "output_type": "execute_result"
    }
   ],
   "source": [
    "data_full_new = data_full.rename(columns={\"userID\": \"UserId\", \"itemID\": \"MovieId\"})\n",
    "data_full_new.head()"
   ]
  },
  {
   "cell_type": "code",
   "execution_count": 29,
   "id": "643e4f8a-914c-4963-a0b9-7a533eb50dac",
   "metadata": {},
   "outputs": [
    {
     "data": {
      "text/html": [
       "<div>\n",
       "<style scoped>\n",
       "    .dataframe tbody tr th:only-of-type {\n",
       "        vertical-align: middle;\n",
       "    }\n",
       "\n",
       "    .dataframe tbody tr th {\n",
       "        vertical-align: top;\n",
       "    }\n",
       "\n",
       "    .dataframe thead th {\n",
       "        text-align: right;\n",
       "    }\n",
       "</style>\n",
       "<table border=\"1\" class=\"dataframe\">\n",
       "  <thead>\n",
       "    <tr style=\"text-align: right;\">\n",
       "      <th></th>\n",
       "      <th>UserId</th>\n",
       "      <th>MovieId</th>\n",
       "      <th>prediction</th>\n",
       "      <th>title</th>\n",
       "      <th>genres</th>\n",
       "    </tr>\n",
       "  </thead>\n",
       "  <tbody>\n",
       "    <tr>\n",
       "      <th>7310</th>\n",
       "      <td>943</td>\n",
       "      <td>483</td>\n",
       "      <td>4.478840</td>\n",
       "      <td>Casablanca (1942)</td>\n",
       "      <td>Drama|Romance|War</td>\n",
       "    </tr>\n",
       "    <tr>\n",
       "      <th>7311</th>\n",
       "      <td>943</td>\n",
       "      <td>169</td>\n",
       "      <td>4.464947</td>\n",
       "      <td>Wrong Trousers, The (1993)</td>\n",
       "      <td>Animation|Comedy</td>\n",
       "    </tr>\n",
       "    <tr>\n",
       "      <th>7312</th>\n",
       "      <td>943</td>\n",
       "      <td>408</td>\n",
       "      <td>4.417659</td>\n",
       "      <td>Close Shave, A (1995)</td>\n",
       "      <td>Animation|Comedy|Thriller</td>\n",
       "    </tr>\n",
       "    <tr>\n",
       "      <th>7313</th>\n",
       "      <td>943</td>\n",
       "      <td>134</td>\n",
       "      <td>4.373812</td>\n",
       "      <td>Citizen Kane (1941)</td>\n",
       "      <td>Drama</td>\n",
       "    </tr>\n",
       "    <tr>\n",
       "      <th>7314</th>\n",
       "      <td>943</td>\n",
       "      <td>114</td>\n",
       "      <td>4.345226</td>\n",
       "      <td>Wallace &amp; Gromit: The Best of Aardman Animatio...</td>\n",
       "      <td>Animation</td>\n",
       "    </tr>\n",
       "    <tr>\n",
       "      <th>7315</th>\n",
       "      <td>943</td>\n",
       "      <td>479</td>\n",
       "      <td>4.297452</td>\n",
       "      <td>Vertigo (1958)</td>\n",
       "      <td>Mystery|Thriller</td>\n",
       "    </tr>\n",
       "    <tr>\n",
       "      <th>7316</th>\n",
       "      <td>943</td>\n",
       "      <td>480</td>\n",
       "      <td>4.256416</td>\n",
       "      <td>North by Northwest (1959)</td>\n",
       "      <td>Comedy|Thriller</td>\n",
       "    </tr>\n",
       "    <tr>\n",
       "      <th>7317</th>\n",
       "      <td>943</td>\n",
       "      <td>272</td>\n",
       "      <td>4.250051</td>\n",
       "      <td>Good Will Hunting (1997)</td>\n",
       "      <td>Drama</td>\n",
       "    </tr>\n",
       "    <tr>\n",
       "      <th>7318</th>\n",
       "      <td>943</td>\n",
       "      <td>603</td>\n",
       "      <td>4.217871</td>\n",
       "      <td>Rear Window (1954)</td>\n",
       "      <td>Mystery|Thriller</td>\n",
       "    </tr>\n",
       "    <tr>\n",
       "      <th>7319</th>\n",
       "      <td>943</td>\n",
       "      <td>651</td>\n",
       "      <td>4.203549</td>\n",
       "      <td>Glory (1989)</td>\n",
       "      <td>Action|Drama|War</td>\n",
       "    </tr>\n",
       "    <tr>\n",
       "      <th>8640</th>\n",
       "      <td>942</td>\n",
       "      <td>483</td>\n",
       "      <td>4.960640</td>\n",
       "      <td>Casablanca (1942)</td>\n",
       "      <td>Drama|Romance|War</td>\n",
       "    </tr>\n",
       "    <tr>\n",
       "      <th>8641</th>\n",
       "      <td>942</td>\n",
       "      <td>169</td>\n",
       "      <td>4.951046</td>\n",
       "      <td>Wrong Trousers, The (1993)</td>\n",
       "      <td>Animation|Comedy</td>\n",
       "    </tr>\n",
       "    <tr>\n",
       "      <th>8642</th>\n",
       "      <td>942</td>\n",
       "      <td>603</td>\n",
       "      <td>4.936332</td>\n",
       "      <td>Rear Window (1954)</td>\n",
       "      <td>Mystery|Thriller</td>\n",
       "    </tr>\n",
       "    <tr>\n",
       "      <th>8643</th>\n",
       "      <td>942</td>\n",
       "      <td>199</td>\n",
       "      <td>4.904483</td>\n",
       "      <td>Bridge on the River Kwai, The (1957)</td>\n",
       "      <td>Drama|War</td>\n",
       "    </tr>\n",
       "    <tr>\n",
       "      <th>8644</th>\n",
       "      <td>942</td>\n",
       "      <td>408</td>\n",
       "      <td>4.899936</td>\n",
       "      <td>Close Shave, A (1995)</td>\n",
       "      <td>Animation|Comedy|Thriller</td>\n",
       "    </tr>\n",
       "    <tr>\n",
       "      <th>8645</th>\n",
       "      <td>942</td>\n",
       "      <td>134</td>\n",
       "      <td>4.882294</td>\n",
       "      <td>Citizen Kane (1941)</td>\n",
       "      <td>Drama</td>\n",
       "    </tr>\n",
       "    <tr>\n",
       "      <th>8646</th>\n",
       "      <td>942</td>\n",
       "      <td>22</td>\n",
       "      <td>4.856806</td>\n",
       "      <td>Braveheart (1995)</td>\n",
       "      <td>Action|Drama|War</td>\n",
       "    </tr>\n",
       "    <tr>\n",
       "      <th>8647</th>\n",
       "      <td>942</td>\n",
       "      <td>318</td>\n",
       "      <td>4.843826</td>\n",
       "      <td>Schindler's List (1993)</td>\n",
       "      <td>Drama|War</td>\n",
       "    </tr>\n",
       "    <tr>\n",
       "      <th>8648</th>\n",
       "      <td>942</td>\n",
       "      <td>98</td>\n",
       "      <td>4.829553</td>\n",
       "      <td>Silence of the Lambs, The (1991)</td>\n",
       "      <td>Drama|Thriller</td>\n",
       "    </tr>\n",
       "    <tr>\n",
       "      <th>8649</th>\n",
       "      <td>942</td>\n",
       "      <td>127</td>\n",
       "      <td>4.816751</td>\n",
       "      <td>Godfather, The (1972)</td>\n",
       "      <td>Action|Crime|Drama</td>\n",
       "    </tr>\n",
       "    <tr>\n",
       "      <th>6800</th>\n",
       "      <td>941</td>\n",
       "      <td>318</td>\n",
       "      <td>4.911155</td>\n",
       "      <td>Schindler's List (1993)</td>\n",
       "      <td>Drama|War</td>\n",
       "    </tr>\n",
       "    <tr>\n",
       "      <th>6801</th>\n",
       "      <td>941</td>\n",
       "      <td>480</td>\n",
       "      <td>4.804025</td>\n",
       "      <td>North by Northwest (1959)</td>\n",
       "      <td>Comedy|Thriller</td>\n",
       "    </tr>\n",
       "    <tr>\n",
       "      <th>6802</th>\n",
       "      <td>941</td>\n",
       "      <td>427</td>\n",
       "      <td>4.798622</td>\n",
       "      <td>To Kill a Mockingbird (1962)</td>\n",
       "      <td>Drama</td>\n",
       "    </tr>\n",
       "    <tr>\n",
       "      <th>6803</th>\n",
       "      <td>941</td>\n",
       "      <td>603</td>\n",
       "      <td>4.797966</td>\n",
       "      <td>Rear Window (1954)</td>\n",
       "      <td>Mystery|Thriller</td>\n",
       "    </tr>\n",
       "    <tr>\n",
       "      <th>6804</th>\n",
       "      <td>941</td>\n",
       "      <td>483</td>\n",
       "      <td>4.785010</td>\n",
       "      <td>Casablanca (1942)</td>\n",
       "      <td>Drama|Romance|War</td>\n",
       "    </tr>\n",
       "    <tr>\n",
       "      <th>6805</th>\n",
       "      <td>941</td>\n",
       "      <td>272</td>\n",
       "      <td>4.781688</td>\n",
       "      <td>Good Will Hunting (1997)</td>\n",
       "      <td>Drama</td>\n",
       "    </tr>\n",
       "    <tr>\n",
       "      <th>6806</th>\n",
       "      <td>941</td>\n",
       "      <td>513</td>\n",
       "      <td>4.765335</td>\n",
       "      <td>Third Man, The (1949)</td>\n",
       "      <td>Mystery|Thriller</td>\n",
       "    </tr>\n",
       "    <tr>\n",
       "      <th>6807</th>\n",
       "      <td>941</td>\n",
       "      <td>498</td>\n",
       "      <td>4.762141</td>\n",
       "      <td>African Queen, The (1951)</td>\n",
       "      <td>Action|Adventure|Romance|War</td>\n",
       "    </tr>\n",
       "    <tr>\n",
       "      <th>6808</th>\n",
       "      <td>941</td>\n",
       "      <td>169</td>\n",
       "      <td>4.749491</td>\n",
       "      <td>Wrong Trousers, The (1993)</td>\n",
       "      <td>Animation|Comedy</td>\n",
       "    </tr>\n",
       "    <tr>\n",
       "      <th>6809</th>\n",
       "      <td>941</td>\n",
       "      <td>50</td>\n",
       "      <td>4.702918</td>\n",
       "      <td>Star Wars (1977)</td>\n",
       "      <td>Action|Adventure|Romance|Sci-Fi|War</td>\n",
       "    </tr>\n",
       "  </tbody>\n",
       "</table>\n",
       "</div>"
      ],
      "text/plain": [
       "      UserId  MovieId  prediction  \\\n",
       "7310     943      483    4.478840   \n",
       "7311     943      169    4.464947   \n",
       "7312     943      408    4.417659   \n",
       "7313     943      134    4.373812   \n",
       "7314     943      114    4.345226   \n",
       "7315     943      479    4.297452   \n",
       "7316     943      480    4.256416   \n",
       "7317     943      272    4.250051   \n",
       "7318     943      603    4.217871   \n",
       "7319     943      651    4.203549   \n",
       "8640     942      483    4.960640   \n",
       "8641     942      169    4.951046   \n",
       "8642     942      603    4.936332   \n",
       "8643     942      199    4.904483   \n",
       "8644     942      408    4.899936   \n",
       "8645     942      134    4.882294   \n",
       "8646     942       22    4.856806   \n",
       "8647     942      318    4.843826   \n",
       "8648     942       98    4.829553   \n",
       "8649     942      127    4.816751   \n",
       "6800     941      318    4.911155   \n",
       "6801     941      480    4.804025   \n",
       "6802     941      427    4.798622   \n",
       "6803     941      603    4.797966   \n",
       "6804     941      483    4.785010   \n",
       "6805     941      272    4.781688   \n",
       "6806     941      513    4.765335   \n",
       "6807     941      498    4.762141   \n",
       "6808     941      169    4.749491   \n",
       "6809     941       50    4.702918   \n",
       "\n",
       "                                                  title  \\\n",
       "7310                                  Casablanca (1942)   \n",
       "7311                         Wrong Trousers, The (1993)   \n",
       "7312                              Close Shave, A (1995)   \n",
       "7313                                Citizen Kane (1941)   \n",
       "7314  Wallace & Gromit: The Best of Aardman Animatio...   \n",
       "7315                                     Vertigo (1958)   \n",
       "7316                          North by Northwest (1959)   \n",
       "7317                           Good Will Hunting (1997)   \n",
       "7318                                 Rear Window (1954)   \n",
       "7319                                       Glory (1989)   \n",
       "8640                                  Casablanca (1942)   \n",
       "8641                         Wrong Trousers, The (1993)   \n",
       "8642                                 Rear Window (1954)   \n",
       "8643               Bridge on the River Kwai, The (1957)   \n",
       "8644                              Close Shave, A (1995)   \n",
       "8645                                Citizen Kane (1941)   \n",
       "8646                                  Braveheart (1995)   \n",
       "8647                            Schindler's List (1993)   \n",
       "8648                   Silence of the Lambs, The (1991)   \n",
       "8649                              Godfather, The (1972)   \n",
       "6800                            Schindler's List (1993)   \n",
       "6801                          North by Northwest (1959)   \n",
       "6802                       To Kill a Mockingbird (1962)   \n",
       "6803                                 Rear Window (1954)   \n",
       "6804                                  Casablanca (1942)   \n",
       "6805                           Good Will Hunting (1997)   \n",
       "6806                              Third Man, The (1949)   \n",
       "6807                          African Queen, The (1951)   \n",
       "6808                         Wrong Trousers, The (1993)   \n",
       "6809                                   Star Wars (1977)   \n",
       "\n",
       "                                   genres  \n",
       "7310                    Drama|Romance|War  \n",
       "7311                     Animation|Comedy  \n",
       "7312            Animation|Comedy|Thriller  \n",
       "7313                                Drama  \n",
       "7314                            Animation  \n",
       "7315                     Mystery|Thriller  \n",
       "7316                      Comedy|Thriller  \n",
       "7317                                Drama  \n",
       "7318                     Mystery|Thriller  \n",
       "7319                     Action|Drama|War  \n",
       "8640                    Drama|Romance|War  \n",
       "8641                     Animation|Comedy  \n",
       "8642                     Mystery|Thriller  \n",
       "8643                            Drama|War  \n",
       "8644            Animation|Comedy|Thriller  \n",
       "8645                                Drama  \n",
       "8646                     Action|Drama|War  \n",
       "8647                            Drama|War  \n",
       "8648                       Drama|Thriller  \n",
       "8649                   Action|Crime|Drama  \n",
       "6800                            Drama|War  \n",
       "6801                      Comedy|Thriller  \n",
       "6802                                Drama  \n",
       "6803                     Mystery|Thriller  \n",
       "6804                    Drama|Romance|War  \n",
       "6805                                Drama  \n",
       "6806                     Mystery|Thriller  \n",
       "6807         Action|Adventure|Romance|War  \n",
       "6808                     Animation|Comedy  \n",
       "6809  Action|Adventure|Romance|Sci-Fi|War  "
      ]
     },
     "metadata": {},
     "output_type": "display_data"
    }
   ],
   "source": [
    "top_k_with_info = (top_k_pd.join(data_full_new[['MovieId', 'title', 'genres']].drop_duplicates().set_index('MovieId'), \n",
    "                                on='MovieId', \n",
    "                                how='inner').sort_values(by=['UserId', 'prediction'], ascending=False))\n",
    "display(top_k_with_info.head(30))"
   ]
  },
  {
   "cell_type": "code",
   "execution_count": 30,
   "id": "8cbe3e48-c451-44ea-97d9-f169265bcdff",
   "metadata": {},
   "outputs": [],
   "source": [
    "top_k_with_info.to_csv(\"wd_topk_visual_results.csv\", index = False)"
   ]
  },
  {
   "cell_type": "markdown",
   "id": "852a8672-cc9b-4dca-8bc7-37d8233dc4e4",
   "metadata": {
    "tags": []
   },
   "source": [
    "### Rating - using their way"
   ]
  },
  {
   "cell_type": "code",
   "execution_count": 36,
   "id": "b1d2f59a-4438-4921-b85f-22a80cc04d3e",
   "metadata": {},
   "outputs": [
    {
     "name": "stdout",
     "output_type": "stream",
     "text": [
      "INFO:tensorflow:Calling model_fn.\n",
      "INFO:tensorflow:Done calling model_fn.\n",
      "INFO:tensorflow:Graph was finalized.\n",
      "INFO:tensorflow:Restoring parameters from /scratch/1288347.1.academic-gpu/tmps7fntgag/model.ckpt-50000\n",
      "INFO:tensorflow:Running local_init_op.\n",
      "INFO:tensorflow:Done running local_init_op.\n"
     ]
    },
    {
     "data": {
      "application/scrapbook.scrap.json+json": {
       "data": 0.9516662983205283,
       "encoder": "json",
       "name": "rmse",
       "version": 1
      }
     },
     "metadata": {
      "scrapbook": {
       "data": true,
       "display": false,
       "name": "rmse"
      }
     },
     "output_type": "display_data"
    },
    {
     "data": {
      "application/scrapbook.scrap.json+json": {
       "data": 0.7558373137438297,
       "encoder": "json",
       "name": "mae",
       "version": 1
      }
     },
     "metadata": {
      "scrapbook": {
       "data": true,
       "display": false,
       "name": "mae"
      }
     },
     "output_type": "display_data"
    },
    {
     "name": "stdout",
     "output_type": "stream",
     "text": [
      "{'rmse': 0.9516662983205283, 'mae': 0.7558373137438297}\n"
     ]
    }
   ],
   "source": [
    "if len(RATING_METRICS) > 0:\n",
    "    predictions = list(model.predict(input_fn=tf_utils.pandas_input_fn(df=test)))\n",
    "    prediction_df = test.drop(RATING_COL, axis=1)\n",
    "    prediction_df[PREDICT_COL] = [p['predictions'][0] for p in predictions]\n",
    "    \n",
    "    rating_results = {}\n",
    "    for m in RATING_METRICS:\n",
    "        result = evaluator.metrics[m](test, prediction_df, **cols)\n",
    "        sb.glue(m, result)\n",
    "        rating_results[m] = result\n",
    "    print(rating_results)"
   ]
  },
  {
   "cell_type": "markdown",
   "id": "27d90a45-cb9c-4395-8bf6-759797ec497c",
   "metadata": {},
   "source": [
    "### Ranking - using their way"
   ]
  },
  {
   "cell_type": "code",
   "execution_count": 37,
   "id": "c8f62d18-5b5f-4305-8d08-8f3bee704933",
   "metadata": {},
   "outputs": [
    {
     "name": "stdout",
     "output_type": "stream",
     "text": [
      "INFO:tensorflow:Calling model_fn.\n",
      "INFO:tensorflow:Done calling model_fn.\n",
      "INFO:tensorflow:Graph was finalized.\n",
      "INFO:tensorflow:Restoring parameters from /scratch/1288347.1.academic-gpu/tmps7fntgag/model.ckpt-50000\n",
      "INFO:tensorflow:Running local_init_op.\n",
      "INFO:tensorflow:Done running local_init_op.\n"
     ]
    },
    {
     "data": {
      "application/scrapbook.scrap.json+json": {
       "data": 0.09103324768088135,
       "encoder": "json",
       "name": "ndcg_at_k",
       "version": 1
      }
     },
     "metadata": {
      "scrapbook": {
       "data": true,
       "display": false,
       "name": "ndcg_at_k"
      }
     },
     "output_type": "display_data"
    },
    {
     "data": {
      "application/scrapbook.scrap.json+json": {
       "data": 0.08382820784729587,
       "encoder": "json",
       "name": "precision_at_k",
       "version": 1
      }
     },
     "metadata": {
      "scrapbook": {
       "data": true,
       "display": false,
       "name": "precision_at_k"
      }
     },
     "output_type": "display_data"
    },
    {
     "data": {
      "application/scrapbook.scrap.json+json": {
       "data": 0.06031416542234978,
       "encoder": "json",
       "name": "recall_at_k",
       "version": 1
      }
     },
     "metadata": {
      "scrapbook": {
       "data": true,
       "display": false,
       "name": "recall_at_k"
      }
     },
     "output_type": "display_data"
    },
    {
     "name": "stdout",
     "output_type": "stream",
     "text": [
      "{'ndcg_at_k': 0.09103324768088135, 'precision_at_k': 0.08382820784729587, 'recall_at_k': 0.06031416542234978}\n"
     ]
    }
   ],
   "source": [
    "if len(RANKING_METRICS) > 0:\n",
    "    predictions = list(model.predict(input_fn=tf_utils.pandas_input_fn(df=ranking_pool)))\n",
    "    prediction_df = ranking_pool.copy()\n",
    "    prediction_df[PREDICT_COL] = [p['predictions'][0] for p in predictions]\n",
    "\n",
    "    ranking_results = {}\n",
    "    for m in RANKING_METRICS:\n",
    "        result = evaluator.metrics[m](test, prediction_df, **{**cols, 'k': TOP_K})\n",
    "        sb.glue(m, result)\n",
    "        ranking_results[m] = result\n",
    "    print(ranking_results)"
   ]
  },
  {
   "cell_type": "markdown",
   "id": "f6b8b30f-8bdf-4214-9782-c4f51026c7b1",
   "metadata": {},
   "source": [
    "### Diversity, Rating, Ranking - using our methods"
   ]
  },
  {
   "cell_type": "code",
   "execution_count": 51,
   "id": "4f9c9896-5834-4951-bcff-4e14c2a6beac",
   "metadata": {},
   "outputs": [],
   "source": [
    "diversity_collaborative, diversity_content, ranking, rating = fun.get_metrics(train_df_spark, test_df_spark, top_k_reco, top_all, feature_data, top_k = TOP_K)"
   ]
  },
  {
   "cell_type": "code",
   "execution_count": 52,
   "id": "78b6445c-7021-42a5-be13-42c482cf7970",
   "metadata": {
    "tags": []
   },
   "outputs": [
    {
     "data": {
      "text/html": [
       "<div>\n",
       "<style scoped>\n",
       "    .dataframe tbody tr th:only-of-type {\n",
       "        vertical-align: middle;\n",
       "    }\n",
       "\n",
       "    .dataframe tbody tr th {\n",
       "        vertical-align: top;\n",
       "    }\n",
       "\n",
       "    .dataframe thead th {\n",
       "        text-align: right;\n",
       "    }\n",
       "</style>\n",
       "<table border=\"1\" class=\"dataframe\">\n",
       "  <thead>\n",
       "    <tr style=\"text-align: right;\">\n",
       "      <th></th>\n",
       "      <th>Metric</th>\n",
       "      <th>Score</th>\n",
       "      <th>Range</th>\n",
       "      <th>Criteria</th>\n",
       "    </tr>\n",
       "  </thead>\n",
       "  <tbody>\n",
       "    <tr>\n",
       "      <th>0</th>\n",
       "      <td>Collaborative Diversity</td>\n",
       "      <td>0.717454</td>\n",
       "      <td>[0,1]</td>\n",
       "      <td>The closer to 1 the better</td>\n",
       "    </tr>\n",
       "    <tr>\n",
       "      <th>1</th>\n",
       "      <td>Collaborative Serendipity</td>\n",
       "      <td>0.793943</td>\n",
       "      <td>[0,1]</td>\n",
       "      <td>The closer to 1 the better</td>\n",
       "    </tr>\n",
       "    <tr>\n",
       "      <th>2</th>\n",
       "      <td>Collaborative Novelty</td>\n",
       "      <td>9.188981</td>\n",
       "      <td>&gt;=0</td>\n",
       "      <td>Inverse popularity. The higher the better</td>\n",
       "    </tr>\n",
       "    <tr>\n",
       "      <th>3</th>\n",
       "      <td>Content Diversity</td>\n",
       "      <td>0.883584</td>\n",
       "      <td>[0,1]</td>\n",
       "      <td>The closer to 1 the better</td>\n",
       "    </tr>\n",
       "    <tr>\n",
       "      <th>4</th>\n",
       "      <td>Content Serendipity</td>\n",
       "      <td>0.889802</td>\n",
       "      <td>[0,1]</td>\n",
       "      <td>The closer to 1 the better</td>\n",
       "    </tr>\n",
       "    <tr>\n",
       "      <th>5</th>\n",
       "      <td>Content Novelty</td>\n",
       "      <td>9.188981</td>\n",
       "      <td>&gt;=0</td>\n",
       "      <td>Inverse popularity. The higher the better</td>\n",
       "    </tr>\n",
       "    <tr>\n",
       "      <th>6</th>\n",
       "      <td>RMSE</td>\n",
       "      <td>0.951666</td>\n",
       "      <td>&gt;0</td>\n",
       "      <td>The smaller the better</td>\n",
       "    </tr>\n",
       "    <tr>\n",
       "      <th>7</th>\n",
       "      <td>MAE</td>\n",
       "      <td>0.755837</td>\n",
       "      <td>&gt;=0</td>\n",
       "      <td>The smaller the better</td>\n",
       "    </tr>\n",
       "    <tr>\n",
       "      <th>8</th>\n",
       "      <td>R Squared</td>\n",
       "      <td>0.290805</td>\n",
       "      <td>&lt;=1</td>\n",
       "      <td>The closer to 1 the better</td>\n",
       "    </tr>\n",
       "    <tr>\n",
       "      <th>9</th>\n",
       "      <td>Precision@k</td>\n",
       "      <td>0.083828</td>\n",
       "      <td>[0,1]</td>\n",
       "      <td>The closer to 1 the better. Grows with k</td>\n",
       "    </tr>\n",
       "    <tr>\n",
       "      <th>10</th>\n",
       "      <td>Recall@k</td>\n",
       "      <td>0.060314</td>\n",
       "      <td>[0,1]</td>\n",
       "      <td>The closer to 1 the better. Grows with k</td>\n",
       "    </tr>\n",
       "  </tbody>\n",
       "</table>\n",
       "</div>"
      ],
      "text/plain": [
       "                       Metric     Score  Range  \\\n",
       "0     Collaborative Diversity  0.717454  [0,1]   \n",
       "1   Collaborative Serendipity  0.793943  [0,1]   \n",
       "2       Collaborative Novelty  9.188981    >=0   \n",
       "3           Content Diversity  0.883584  [0,1]   \n",
       "4         Content Serendipity  0.889802  [0,1]   \n",
       "5             Content Novelty  9.188981    >=0   \n",
       "6                        RMSE  0.951666     >0   \n",
       "7                         MAE  0.755837    >=0   \n",
       "8                   R Squared  0.290805    <=1   \n",
       "9                 Precision@k  0.083828  [0,1]   \n",
       "10                   Recall@k  0.060314  [0,1]   \n",
       "\n",
       "                                     Criteria  \n",
       "0                  The closer to 1 the better  \n",
       "1                  The closer to 1 the better  \n",
       "2   Inverse popularity. The higher the better  \n",
       "3                  The closer to 1 the better  \n",
       "4                  The closer to 1 the better  \n",
       "5   Inverse popularity. The higher the better  \n",
       "6                      The smaller the better  \n",
       "7                      The smaller the better  \n",
       "8                  The closer to 1 the better  \n",
       "9    The closer to 1 the better. Grows with k  \n",
       "10   The closer to 1 the better. Grows with k  "
      ]
     },
     "execution_count": 52,
     "metadata": {},
     "output_type": "execute_result"
    }
   ],
   "source": [
    "metrics = fun. display_metrics(diversity_collaborative, diversity_content, ranking, rating)\n",
    "metrics"
   ]
  },
  {
   "cell_type": "code",
   "execution_count": 53,
   "id": "52291510-bbac-4212-a0c3-967d8f7b4a91",
   "metadata": {},
   "outputs": [],
   "source": [
    "metrics.to_csv(\"wide_deep_20k_results.csv\", index = False)"
   ]
  },
  {
   "cell_type": "code",
   "execution_count": null,
   "id": "389e001d-8a7f-436a-84ba-6d17e01dc8c0",
   "metadata": {},
   "outputs": [],
   "source": []
  }
 ],
 "metadata": {
  "kernelspec": {
   "display_name": "condarec",
   "language": "python",
   "name": "condarec"
  },
  "language_info": {
   "codemirror_mode": {
    "name": "ipython",
    "version": 3
   },
   "file_extension": ".py",
   "mimetype": "text/x-python",
   "name": "python",
   "nbconvert_exporter": "python",
   "pygments_lexer": "ipython3",
   "version": "3.7.0"
  }
 },
 "nbformat": 4,
 "nbformat_minor": 5
}
