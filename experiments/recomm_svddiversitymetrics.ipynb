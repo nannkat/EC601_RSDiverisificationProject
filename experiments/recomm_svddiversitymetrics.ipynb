{
 "cells": [
  {
   "cell_type": "markdown",
   "id": "90051b83-519e-4322-b290-952cbdf6c8e8",
   "metadata": {},
   "source": [
    "# SVD\n",
    "https://github.com/microsoft/recommenders/blob/main/examples/02_model_collaborative_filtering/surprise_svd_deep_dive.ipynb"
   ]
  },
  {
   "cell_type": "markdown",
   "id": "11a886ae-5102-4285-96fb-a92e34e0c842",
   "metadata": {
    "tags": []
   },
   "source": [
    "## Goal: try to combine the approach for ALS with a new dataset"
   ]
  },
  {
   "cell_type": "markdown",
   "id": "e3dcad7e-6d7d-478d-b847-ac6749d6397d",
   "metadata": {
    "tags": []
   },
   "source": [
    "## Imports + setup"
   ]
  },
  {
   "cell_type": "code",
   "execution_count": 1,
   "id": "8e156c00-fad6-48c7-a471-3e75b9839fde",
   "metadata": {},
   "outputs": [
    {
     "name": "stdout",
     "output_type": "stream",
     "text": [
      "System version: 3.7.0 (default, Oct  9 2018, 10:31:47) \n",
      "[GCC 7.3.0]\n",
      "Surprise version: 1.1.1\n",
      "Spark version: 2.4.8\n"
     ]
    }
   ],
   "source": [
    "# set the environment path to find Recommenders\n",
    "%load_ext autoreload\n",
    "%autoreload 2\n",
    "\n",
    "import sys\n",
    "import os\n",
    "import numpy as np\n",
    "import surprise\n",
    "import papermill as pm\n",
    "import scrapbook as sb\n",
    "import pandas as pd\n",
    "\n",
    "\n",
    "import pyspark\n",
    "from pyspark.ml.recommendation import ALS\n",
    "import pyspark.sql.functions as F\n",
    "from pyspark.sql import SparkSession\n",
    "from pyspark.sql.types import StringType, FloatType, IntegerType, LongType, StructType, StructField\n",
    "from pyspark.ml.feature import Tokenizer, RegexTokenizer, StopWordsRemover\n",
    "from pyspark.ml.feature import HashingTF, CountVectorizer, VectorAssembler\n",
    "from pyspark.sql.window import Window\n",
    "import pyspark.sql.functions as F\n",
    "\n",
    "from recommenders.utils.timer import Timer\n",
    "from recommenders.datasets import movielens\n",
    "from recommenders.utils.notebook_utils import is_jupyter\n",
    "from recommenders.datasets.python_splitters import python_random_split\n",
    "from recommenders.datasets.spark_splitters import spark_random_split\n",
    "from recommenders.evaluation.python_evaluation import (rmse, mae, rsquared, exp_var, map_at_k, ndcg_at_k, precision_at_k, \n",
    "                                                     recall_at_k, get_top_k_items)\n",
    "from recommenders.models.surprise.surprise_utils import predict, compute_ranking_predictions\n",
    "from recommenders.evaluation.spark_evaluation import SparkRatingEvaluation, SparkRankingEvaluation, SparkDiversityEvaluation\n",
    "from recommenders.utils.spark_utils import start_or_get_spark\n",
    "\n",
    "print(\"System version: {}\".format(sys.version))\n",
    "print(\"Surprise version: {}\".format(surprise.__version__))\n",
    "print(\"Spark version: {}\".format(pyspark.__version__))"
   ]
  },
  {
   "cell_type": "code",
   "execution_count": 2,
   "id": "2f81ec97-151c-4d07-b62b-c4e848a32895",
   "metadata": {
    "tags": []
   },
   "outputs": [],
   "source": [
    "# Select MovieLens data size: 100k, 1m, 10m, or 20m\n",
    "MOVIELENS_DATA_SIZE = '100k'\n",
    "\n",
    "# topk, user, item column names\n",
    "TOP_K = 20\n",
    "COL_USER=\"UserId\"\n",
    "COL_ITEM=\"MovieId\"\n",
    "COL_RATING=\"Rating\"\n"
   ]
  },
  {
   "cell_type": "code",
   "execution_count": 3,
   "id": "4fbb81e1-8526-46d0-9102-816bec5afc09",
   "metadata": {},
   "outputs": [
    {
     "data": {
      "text/html": [
       "\n",
       "            <div>\n",
       "                <p><b>SparkSession - in-memory</b></p>\n",
       "                \n",
       "        <div>\n",
       "            <p><b>SparkContext</b></p>\n",
       "\n",
       "            <p><a href=\"http://scc-ge4.scc.bu.edu:4041\">Spark UI</a></p>\n",
       "\n",
       "            <dl>\n",
       "              <dt>Version</dt>\n",
       "                <dd><code>v2.4.8</code></dd>\n",
       "              <dt>Master</dt>\n",
       "                <dd><code>local[*]</code></dd>\n",
       "              <dt>AppName</dt>\n",
       "                <dd><code>ALS PySpark</code></dd>\n",
       "            </dl>\n",
       "        </div>\n",
       "        \n",
       "            </div>\n",
       "        "
      ],
      "text/plain": [
       "<pyspark.sql.session.SparkSession at 0x2b5310acd9b0>"
      ]
     },
     "execution_count": 3,
     "metadata": {},
     "output_type": "execute_result"
    }
   ],
   "source": [
    "spark = start_or_get_spark(\"ALS PySpark\", memory=\"16g\")\n",
    "spark"
   ]
  },
  {
   "cell_type": "code",
   "execution_count": 4,
   "id": "578cc24e-8d5a-4b79-8ceb-301b49c231a5",
   "metadata": {},
   "outputs": [],
   "source": [
    "spark.conf.set(\"spark.sql.crossJoin.enabled\", \"true\")"
   ]
  },
  {
   "cell_type": "markdown",
   "id": "fd389363-4245-429a-b7e5-7a1f468fe433",
   "metadata": {},
   "source": [
    "## Load Data"
   ]
  },
  {
   "cell_type": "markdown",
   "id": "59cf7763-1c2a-47c1-b160-b6094fd03b75",
   "metadata": {},
   "source": [
    "Load data in full format for it to work with diversity metrics"
   ]
  },
  {
   "cell_type": "code",
   "execution_count": 5,
   "id": "5e5bdfd4-9a11-475c-872b-5fd8be6e69a3",
   "metadata": {
    "tags": []
   },
   "outputs": [
    {
     "name": "stderr",
     "output_type": "stream",
     "text": [
      "100%|██████████| 4.81k/4.81k [00:00<00:00, 7.04kKB/s]\n"
     ]
    },
    {
     "data": {
      "text/html": [
       "<div>\n",
       "<style scoped>\n",
       "    .dataframe tbody tr th:only-of-type {\n",
       "        vertical-align: middle;\n",
       "    }\n",
       "\n",
       "    .dataframe tbody tr th {\n",
       "        vertical-align: top;\n",
       "    }\n",
       "\n",
       "    .dataframe thead th {\n",
       "        text-align: right;\n",
       "    }\n",
       "</style>\n",
       "<table border=\"1\" class=\"dataframe\">\n",
       "  <thead>\n",
       "    <tr style=\"text-align: right;\">\n",
       "      <th></th>\n",
       "      <th>UserId</th>\n",
       "      <th>MovieId</th>\n",
       "      <th>Rating</th>\n",
       "      <th>Timestamp</th>\n",
       "      <th>title</th>\n",
       "      <th>genres</th>\n",
       "    </tr>\n",
       "  </thead>\n",
       "  <tbody>\n",
       "    <tr>\n",
       "      <th>0</th>\n",
       "      <td>196</td>\n",
       "      <td>242</td>\n",
       "      <td>3.0</td>\n",
       "      <td>881250949</td>\n",
       "      <td>Kolya (1996)</td>\n",
       "      <td>Comedy</td>\n",
       "    </tr>\n",
       "    <tr>\n",
       "      <th>1</th>\n",
       "      <td>63</td>\n",
       "      <td>242</td>\n",
       "      <td>3.0</td>\n",
       "      <td>875747190</td>\n",
       "      <td>Kolya (1996)</td>\n",
       "      <td>Comedy</td>\n",
       "    </tr>\n",
       "    <tr>\n",
       "      <th>2</th>\n",
       "      <td>226</td>\n",
       "      <td>242</td>\n",
       "      <td>5.0</td>\n",
       "      <td>883888671</td>\n",
       "      <td>Kolya (1996)</td>\n",
       "      <td>Comedy</td>\n",
       "    </tr>\n",
       "    <tr>\n",
       "      <th>3</th>\n",
       "      <td>154</td>\n",
       "      <td>242</td>\n",
       "      <td>3.0</td>\n",
       "      <td>879138235</td>\n",
       "      <td>Kolya (1996)</td>\n",
       "      <td>Comedy</td>\n",
       "    </tr>\n",
       "    <tr>\n",
       "      <th>4</th>\n",
       "      <td>306</td>\n",
       "      <td>242</td>\n",
       "      <td>5.0</td>\n",
       "      <td>876503793</td>\n",
       "      <td>Kolya (1996)</td>\n",
       "      <td>Comedy</td>\n",
       "    </tr>\n",
       "  </tbody>\n",
       "</table>\n",
       "</div>"
      ],
      "text/plain": [
       "   UserId  MovieId  Rating  Timestamp         title  genres\n",
       "0     196      242     3.0  881250949  Kolya (1996)  Comedy\n",
       "1      63      242     3.0  875747190  Kolya (1996)  Comedy\n",
       "2     226      242     5.0  883888671  Kolya (1996)  Comedy\n",
       "3     154      242     3.0  879138235  Kolya (1996)  Comedy\n",
       "4     306      242     5.0  876503793  Kolya (1996)  Comedy"
      ]
     },
     "execution_count": 5,
     "metadata": {},
     "output_type": "execute_result"
    }
   ],
   "source": [
    "data_full = movielens.load_pandas_df(\n",
    "    size=MOVIELENS_DATA_SIZE,\n",
    "    header=['UserId', 'MovieId', 'Rating', 'Timestamp'],\n",
    "    title_col='title',\n",
    "    genres_col='genres'\n",
    ")\n",
    "\n",
    "data_full.head()"
   ]
  },
  {
   "cell_type": "markdown",
   "id": "0baa2008-e92d-4eeb-9edb-031f987d214c",
   "metadata": {},
   "source": [
    "Filter out columns used by surprise"
   ]
  },
  {
   "cell_type": "code",
   "execution_count": 6,
   "id": "4d02a3dc-a335-4b8a-ac7a-fdc72aae2101",
   "metadata": {},
   "outputs": [
    {
     "data": {
      "text/html": [
       "<div>\n",
       "<style scoped>\n",
       "    .dataframe tbody tr th:only-of-type {\n",
       "        vertical-align: middle;\n",
       "    }\n",
       "\n",
       "    .dataframe tbody tr th {\n",
       "        vertical-align: top;\n",
       "    }\n",
       "\n",
       "    .dataframe thead th {\n",
       "        text-align: right;\n",
       "    }\n",
       "</style>\n",
       "<table border=\"1\" class=\"dataframe\">\n",
       "  <thead>\n",
       "    <tr style=\"text-align: right;\">\n",
       "      <th></th>\n",
       "      <th>UserId</th>\n",
       "      <th>MovieId</th>\n",
       "      <th>Rating</th>\n",
       "    </tr>\n",
       "  </thead>\n",
       "  <tbody>\n",
       "    <tr>\n",
       "      <th>0</th>\n",
       "      <td>196</td>\n",
       "      <td>242</td>\n",
       "      <td>3.0</td>\n",
       "    </tr>\n",
       "    <tr>\n",
       "      <th>1</th>\n",
       "      <td>63</td>\n",
       "      <td>242</td>\n",
       "      <td>3.0</td>\n",
       "    </tr>\n",
       "    <tr>\n",
       "      <th>2</th>\n",
       "      <td>226</td>\n",
       "      <td>242</td>\n",
       "      <td>5.0</td>\n",
       "    </tr>\n",
       "    <tr>\n",
       "      <th>3</th>\n",
       "      <td>154</td>\n",
       "      <td>242</td>\n",
       "      <td>3.0</td>\n",
       "    </tr>\n",
       "    <tr>\n",
       "      <th>4</th>\n",
       "      <td>306</td>\n",
       "      <td>242</td>\n",
       "      <td>5.0</td>\n",
       "    </tr>\n",
       "  </tbody>\n",
       "</table>\n",
       "</div>"
      ],
      "text/plain": [
       "   UserId  MovieId  Rating\n",
       "0     196      242     3.0\n",
       "1      63      242     3.0\n",
       "2     226      242     5.0\n",
       "3     154      242     3.0\n",
       "4     306      242     5.0"
      ]
     },
     "execution_count": 6,
     "metadata": {},
     "output_type": "execute_result"
    }
   ],
   "source": [
    "data = data_full[['UserId', 'MovieId', 'Rating']]\n",
    "data.head()"
   ]
  },
  {
   "cell_type": "markdown",
   "id": "76578b67-546d-43bd-8941-bbb100a4d6bb",
   "metadata": {},
   "source": [
    "Make pyspark version of data"
   ]
  },
  {
   "cell_type": "code",
   "execution_count": 7,
   "id": "bfdfb2dd-050d-4966-b68a-1aae7a9b3633",
   "metadata": {},
   "outputs": [
    {
     "name": "stdout",
     "output_type": "stream",
     "text": [
      "root\n",
      " |-- UserId: long (nullable = true)\n",
      " |-- MovieId: long (nullable = true)\n",
      " |-- Rating: double (nullable = true)\n",
      " |-- Timestamp: long (nullable = true)\n",
      " |-- title: string (nullable = true)\n",
      " |-- genres: string (nullable = true)\n",
      "\n",
      "+------+-------+------+---------+------------+------+\n",
      "|UserId|MovieId|Rating|Timestamp|       title|genres|\n",
      "+------+-------+------+---------+------------+------+\n",
      "|   196|    242|   3.0|881250949|Kolya (1996)|Comedy|\n",
      "|    63|    242|   3.0|875747190|Kolya (1996)|Comedy|\n",
      "|   226|    242|   5.0|883888671|Kolya (1996)|Comedy|\n",
      "|   154|    242|   3.0|879138235|Kolya (1996)|Comedy|\n",
      "|   306|    242|   5.0|876503793|Kolya (1996)|Comedy|\n",
      "+------+-------+------+---------+------------+------+\n",
      "only showing top 5 rows\n",
      "\n"
     ]
    }
   ],
   "source": [
    "data_spark=spark.createDataFrame(data_full) \n",
    "data_spark.printSchema()\n",
    "data_spark.show(5)"
   ]
  },
  {
   "cell_type": "markdown",
   "id": "d2295ca1-cffe-4944-98b7-62de651d0385",
   "metadata": {},
   "source": [
    "## Train with surprise - copy paste from recommenders"
   ]
  },
  {
   "cell_type": "markdown",
   "id": "3d1f50af-18aa-4492-bbd9-7fec5711277e",
   "metadata": {},
   "source": [
    "Note that Surprise has a lot of built-in support for cross-validation or also grid search inspired scikit-learn, but we will here use the provided tools instead.\n",
    "\n",
    "We start by splitting our data into trainset and testset with the python_random_split function."
   ]
  },
  {
   "cell_type": "code",
   "execution_count": 8,
   "id": "8e683dec-e798-445f-ad5b-7dad2afc6b74",
   "metadata": {
    "tags": []
   },
   "outputs": [],
   "source": [
    "train, test = python_random_split(data, 0.75)"
   ]
  },
  {
   "cell_type": "markdown",
   "id": "336f5703-28f4-4129-839c-ea3bac8664c0",
   "metadata": {},
   "source": [
    "Surprise needs to build an internal model of the data. We here use the load_from_df method to build a Dataset object, and then indicate that we want to train on all the samples of this dataset by using the build_full_trainset method."
   ]
  },
  {
   "cell_type": "code",
   "execution_count": 9,
   "id": "1d6ba8ea-2fd3-47f4-8dcc-037ab84f168b",
   "metadata": {
    "tags": []
   },
   "outputs": [
    {
     "data": {
      "text/plain": [
       "<surprise.trainset.Trainset at 0x2b53127e0ba8>"
      ]
     },
     "execution_count": 9,
     "metadata": {},
     "output_type": "execute_result"
    }
   ],
   "source": [
    "# 'reader' is being used to get rating scale (for MovieLens, the scale is [1, 5]).\n",
    "# 'rating_scale' parameter can be used instead for the later version of surprise lib:\n",
    "# https://github.com/NicolasHug/Surprise/blob/master/surprise/dataset.py\n",
    "train_set = surprise.Dataset.load_from_df(train, reader=surprise.Reader('ml-100k')).build_full_trainset()\n",
    "train_set"
   ]
  },
  {
   "cell_type": "markdown",
   "id": "439bec1b-e212-4966-856f-6f1fdf89cf80",
   "metadata": {},
   "source": [
    "The SVD has a lot of parameters. The most important ones are:\n",
    "\n",
    "n_factors, which controls the dimension of the latent space (i.e. the size of the vectors $p_u$ and $q_i$). Usually, the quality of the training set predictions grows with as n_factors gets higher.\n",
    "n_epochs, which defines the number of iteration of the SGD procedure.\n",
    "Note that both parameter also affect the training time.\n",
    "\n",
    "We will here set n_factors to 200 and n_epochs to 30. To train the model, we simply need to call the fit() method."
   ]
  },
  {
   "cell_type": "code",
   "execution_count": 10,
   "id": "5d8d2e5f-e4d2-42d6-bcc0-51f4f9a0b8a7",
   "metadata": {},
   "outputs": [
    {
     "name": "stdout",
     "output_type": "stream",
     "text": [
      "Processing epoch 0\n",
      "Processing epoch 1\n",
      "Processing epoch 2\n",
      "Processing epoch 3\n",
      "Processing epoch 4\n",
      "Processing epoch 5\n",
      "Processing epoch 6\n",
      "Processing epoch 7\n",
      "Processing epoch 8\n",
      "Processing epoch 9\n",
      "Processing epoch 10\n",
      "Processing epoch 11\n",
      "Processing epoch 12\n",
      "Processing epoch 13\n",
      "Processing epoch 14\n",
      "Processing epoch 15\n",
      "Processing epoch 16\n",
      "Processing epoch 17\n",
      "Processing epoch 18\n",
      "Processing epoch 19\n",
      "Processing epoch 20\n",
      "Processing epoch 21\n",
      "Processing epoch 22\n",
      "Processing epoch 23\n",
      "Processing epoch 24\n",
      "Processing epoch 25\n",
      "Processing epoch 26\n",
      "Processing epoch 27\n",
      "Processing epoch 28\n",
      "Processing epoch 29\n",
      "Took 7.270010836422443 seconds for training.\n"
     ]
    }
   ],
   "source": [
    "svd = surprise.SVD(random_state=0, n_factors=200, n_epochs=30, verbose=True)\n",
    "\n",
    "with Timer() as train_time:\n",
    "    svd.fit(train_set)\n",
    "\n",
    "print(\"Took {} seconds for training.\".format(train_time.interval))"
   ]
  },
  {
   "cell_type": "markdown",
   "id": "77ee574f-e6e9-4084-afc1-2d676d39e84f",
   "metadata": {},
   "source": [
    "## Predict with spark top k and surprise"
   ]
  },
  {
   "cell_type": "markdown",
   "id": "c8a2608e-8a52-4147-b763-f4a47f46b3d0",
   "metadata": {},
   "source": [
    "Use cross-join to create all possible user-item pairs with spark"
   ]
  },
  {
   "cell_type": "code",
   "execution_count": 11,
   "id": "6f5bc8c5-16b7-4203-95e0-4ceea440bf07",
   "metadata": {},
   "outputs": [
    {
     "name": "stdout",
     "output_type": "stream",
     "text": [
      "+------+-------+\n",
      "|UserId|MovieId|\n",
      "+------+-------+\n",
      "|    26|     29|\n",
      "|    26|    474|\n",
      "|    26|     26|\n",
      "|    26|    964|\n",
      "|    26|   1677|\n",
      "+------+-------+\n",
      "only showing top 5 rows\n",
      "\n"
     ]
    }
   ],
   "source": [
    "train_df_spark, test_df_spark = spark_random_split(data_spark.select(COL_USER, COL_ITEM, COL_RATING), ratio=0.75, seed=123)\n",
    "users = train_df_spark.select(COL_USER).distinct()\n",
    "items = train_df_spark.select(COL_ITEM).distinct()\n",
    "user_item = users.crossJoin(items)\n",
    "user_item.show(5)"
   ]
  },
  {
   "cell_type": "code",
   "execution_count": 12,
   "id": "812f4c9a-70ce-416f-8659-7309e3cd6c60",
   "metadata": {},
   "outputs": [
    {
     "name": "stdout",
     "output_type": "stream",
     "text": [
      "943\n",
      "1636\n",
      "1542748\n"
     ]
    }
   ],
   "source": [
    "print(users.count())\n",
    "print(items.count())\n",
    "print(user_item.count())"
   ]
  },
  {
   "cell_type": "markdown",
   "id": "d54e3d1c-5586-4b3c-a228-75cf8cd8dce8",
   "metadata": {},
   "source": [
    "Convert user_item to pd df and predict with surprise"
   ]
  },
  {
   "cell_type": "code",
   "execution_count": 13,
   "id": "7baf98e6-6073-40fb-9b0e-b5859a5e0fe9",
   "metadata": {},
   "outputs": [
    {
     "data": {
      "text/html": [
       "<div>\n",
       "<style scoped>\n",
       "    .dataframe tbody tr th:only-of-type {\n",
       "        vertical-align: middle;\n",
       "    }\n",
       "\n",
       "    .dataframe tbody tr th {\n",
       "        vertical-align: top;\n",
       "    }\n",
       "\n",
       "    .dataframe thead th {\n",
       "        text-align: right;\n",
       "    }\n",
       "</style>\n",
       "<table border=\"1\" class=\"dataframe\">\n",
       "  <thead>\n",
       "    <tr style=\"text-align: right;\">\n",
       "      <th></th>\n",
       "      <th>UserId</th>\n",
       "      <th>MovieId</th>\n",
       "    </tr>\n",
       "  </thead>\n",
       "  <tbody>\n",
       "    <tr>\n",
       "      <th>0</th>\n",
       "      <td>26</td>\n",
       "      <td>29</td>\n",
       "    </tr>\n",
       "    <tr>\n",
       "      <th>1</th>\n",
       "      <td>26</td>\n",
       "      <td>474</td>\n",
       "    </tr>\n",
       "    <tr>\n",
       "      <th>2</th>\n",
       "      <td>26</td>\n",
       "      <td>26</td>\n",
       "    </tr>\n",
       "    <tr>\n",
       "      <th>3</th>\n",
       "      <td>26</td>\n",
       "      <td>964</td>\n",
       "    </tr>\n",
       "    <tr>\n",
       "      <th>4</th>\n",
       "      <td>26</td>\n",
       "      <td>1677</td>\n",
       "    </tr>\n",
       "  </tbody>\n",
       "</table>\n",
       "</div>"
      ],
      "text/plain": [
       "   UserId  MovieId\n",
       "0      26       29\n",
       "1      26      474\n",
       "2      26       26\n",
       "3      26      964\n",
       "4      26     1677"
      ]
     },
     "execution_count": 13,
     "metadata": {},
     "output_type": "execute_result"
    }
   ],
   "source": [
    "user_item_pd = user_item.toPandas()\n",
    "user_item_pd.head()"
   ]
  },
  {
   "cell_type": "code",
   "execution_count": 14,
   "id": "feae098b-4a5d-48e3-b9be-46e0ed616239",
   "metadata": {},
   "outputs": [
    {
     "data": {
      "text/html": [
       "<div>\n",
       "<style scoped>\n",
       "    .dataframe tbody tr th:only-of-type {\n",
       "        vertical-align: middle;\n",
       "    }\n",
       "\n",
       "    .dataframe tbody tr th {\n",
       "        vertical-align: top;\n",
       "    }\n",
       "\n",
       "    .dataframe thead th {\n",
       "        text-align: right;\n",
       "    }\n",
       "</style>\n",
       "<table border=\"1\" class=\"dataframe\">\n",
       "  <thead>\n",
       "    <tr style=\"text-align: right;\">\n",
       "      <th></th>\n",
       "      <th>UserId</th>\n",
       "      <th>MovieId</th>\n",
       "      <th>prediction</th>\n",
       "    </tr>\n",
       "  </thead>\n",
       "  <tbody>\n",
       "    <tr>\n",
       "      <th>0</th>\n",
       "      <td>26</td>\n",
       "      <td>29</td>\n",
       "      <td>2.412635</td>\n",
       "    </tr>\n",
       "    <tr>\n",
       "      <th>1</th>\n",
       "      <td>26</td>\n",
       "      <td>474</td>\n",
       "      <td>3.729531</td>\n",
       "    </tr>\n",
       "    <tr>\n",
       "      <th>2</th>\n",
       "      <td>26</td>\n",
       "      <td>26</td>\n",
       "      <td>2.828721</td>\n",
       "    </tr>\n",
       "    <tr>\n",
       "      <th>3</th>\n",
       "      <td>26</td>\n",
       "      <td>964</td>\n",
       "      <td>3.157108</td>\n",
       "    </tr>\n",
       "    <tr>\n",
       "      <th>4</th>\n",
       "      <td>26</td>\n",
       "      <td>1677</td>\n",
       "      <td>3.127901</td>\n",
       "    </tr>\n",
       "  </tbody>\n",
       "</table>\n",
       "</div>"
      ],
      "text/plain": [
       "   UserId  MovieId  prediction\n",
       "0      26       29    2.412635\n",
       "1      26      474    3.729531\n",
       "2      26       26    2.828721\n",
       "3      26      964    3.157108\n",
       "4      26     1677    3.127901"
      ]
     },
     "execution_count": 14,
     "metadata": {},
     "output_type": "execute_result"
    }
   ],
   "source": [
    "predictions = predict(svd, user_item_pd, usercol='UserId', itemcol='MovieId')\n",
    "predictions.head()"
   ]
  },
  {
   "cell_type": "markdown",
   "id": "087af7a1-ead2-4cc7-9717-21b138fa8f57",
   "metadata": {},
   "source": [
    "Convert user item predictions back to spark for further analysis"
   ]
  },
  {
   "cell_type": "code",
   "execution_count": 15,
   "id": "a7356cae-5a8c-4ac9-91ab-3cae03e67cb7",
   "metadata": {
    "tags": []
   },
   "outputs": [
    {
     "name": "stdout",
     "output_type": "stream",
     "text": [
      "root\n",
      " |-- UserId: long (nullable = true)\n",
      " |-- MovieId: long (nullable = true)\n",
      " |-- prediction: double (nullable = true)\n",
      "\n",
      "+------+-------+------------------+\n",
      "|UserId|MovieId|        prediction|\n",
      "+------+-------+------------------+\n",
      "|    26|     29|2.4126350802716225|\n",
      "|    26|    474|3.7295314050140655|\n",
      "|    26|     26| 2.828721184303861|\n",
      "|    26|    964|  3.15710797823856|\n",
      "|    26|   1677| 3.127900808925026|\n",
      "+------+-------+------------------+\n",
      "only showing top 5 rows\n",
      "\n"
     ]
    }
   ],
   "source": [
    "dfs_pred=spark.createDataFrame(predictions) \n",
    "dfs_pred.printSchema()\n",
    "dfs_pred.show(5)"
   ]
  },
  {
   "cell_type": "markdown",
   "id": "67c03641-df50-4a6b-b08a-2559b20a9e25",
   "metadata": {},
   "source": [
    "## Get top K"
   ]
  },
  {
   "cell_type": "code",
   "execution_count": 16,
   "id": "55857052-53ca-4ecf-a730-f75a838bf9df",
   "metadata": {},
   "outputs": [
    {
     "name": "stdout",
     "output_type": "stream",
     "text": [
      "1467632\n",
      "18860\n",
      "+------+-------+------------------+\n",
      "|UserId|MovieId|        prediction|\n",
      "+------+-------+------------------+\n",
      "|    26|    100| 4.722966097416943|\n",
      "|    26|     98| 4.447861951589148|\n",
      "|    26|    127| 4.412481083524716|\n",
      "|    26|    169| 4.368625041008343|\n",
      "|    26|    483| 4.343002776784539|\n",
      "|    26|    272| 4.316561844743819|\n",
      "|    26|    318|  4.22089996249464|\n",
      "|    26|     22| 4.170004295248998|\n",
      "|    26|     50|4.1654411384184025|\n",
      "|    26|    183| 4.158751781269825|\n",
      "|    26|     64| 4.132351259430597|\n",
      "|    26|    408| 4.125565516468394|\n",
      "|    26|    427| 4.116743294473558|\n",
      "|    26|    114| 4.077805546156425|\n",
      "|    26|    513| 4.055861117290725|\n",
      "|    26|    132| 4.047984543408269|\n",
      "|    26|    187| 4.039850247665109|\n",
      "|    26|     89| 4.035442825815474|\n",
      "|    26|    199|4.0301437840058005|\n",
      "|    26|    173| 4.002678974547844|\n",
      "+------+-------+------------------+\n",
      "only showing top 20 rows\n",
      "\n"
     ]
    }
   ],
   "source": [
    "# Remove seen items - Remember we only used training data to create user_item\n",
    "dfs_pred_exclude_train = dfs_pred.alias(\"pred\").join(\n",
    "    train_df_spark.alias(\"train\"),\n",
    "    (dfs_pred[COL_USER] == train_df_spark[COL_USER]) & (dfs_pred[COL_ITEM] == train_df_spark[COL_ITEM]),\n",
    "    how='outer'\n",
    ")\n",
    "\n",
    "top_all = dfs_pred_exclude_train.filter(dfs_pred_exclude_train[\"train.Rating\"].isNull()) \\\n",
    "    .select('pred.' + COL_USER, 'pred.' + COL_ITEM, 'pred.' + \"prediction\")\n",
    "\n",
    "print(top_all.count())\n",
    "\n",
    "window = Window.partitionBy(COL_USER).orderBy(F.col(\"prediction\").desc())\n",
    "top_k_reco = top_all.select(\"*\", F.row_number().over(window).alias(\"rank\")).filter(F.col(\"rank\") <= TOP_K).drop(\"rank\")\n",
    " \n",
    "print(top_k_reco.count())\n",
    "top_k_reco.show()"
   ]
  },
  {
   "cell_type": "markdown",
   "id": "ff6420e5-e482-4893-81c9-268963ae2e37",
   "metadata": {},
   "source": [
    "## Generate content based version"
   ]
  },
  {
   "cell_type": "markdown",
   "id": "90c3df0b-ffd7-4708-8afc-992bf4e25c4f",
   "metadata": {},
   "source": [
    "convert text input into feature vectors"
   ]
  },
  {
   "cell_type": "code",
   "execution_count": 17,
   "id": "5544441c-52db-437a-bc5a-5f0c2f3075fa",
   "metadata": {},
   "outputs": [
    {
     "name": "stdout",
     "output_type": "stream",
     "text": [
      "+-------+--------------------+--------------------+\n",
      "|MovieId|               title|              genres|\n",
      "+-------+--------------------+--------------------+\n",
      "|   1240|Ghost in the Shel...| [Animation, Sci-Fi]|\n",
      "|    133| Gone with the Wind |[Drama, Romance, ...|\n",
      "|    468|               Rudy |             [Drama]|\n",
      "|    497|   Bringing Up Baby |            [Comedy]|\n",
      "|    294|          Liar Liar |            [Comedy]|\n",
      "+-------+--------------------+--------------------+\n",
      "only showing top 5 rows\n",
      "\n"
     ]
    }
   ],
   "source": [
    "# Get movie features \"title\" and \"genres\"\n",
    "movies = (\n",
    "    data_spark.groupBy(\"MovieId\", \"title\", \"genres\").count()\n",
    "    .na.drop()  # remove rows with null values\n",
    "    .withColumn(\"genres\", F.split(F.col(\"genres\"), \"\\|\"))  # convert to array of genres\n",
    "    .withColumn(\"title\", F.regexp_replace(F.col(\"title\"), \"[\\(),:^0-9]\", \"\"))  # remove year from title\n",
    "    .drop(\"count\")  # remove unused columns\n",
    ")\n",
    "movies.show(5)"
   ]
  },
  {
   "cell_type": "markdown",
   "id": "7a7ebabd-bead-435c-acd3-c7d7ce5d8ede",
   "metadata": {},
   "source": [
    "tokenize title and remove stop words"
   ]
  },
  {
   "cell_type": "code",
   "execution_count": 18,
   "id": "3eb2c577-babd-44ac-bb6f-0cdb605bb154",
   "metadata": {
    "tags": []
   },
   "outputs": [],
   "source": [
    "# tokenize \"title\" column\n",
    "title_tokenizer = Tokenizer(inputCol=\"title\", outputCol=\"title_words\")\n",
    "tokenized_data = title_tokenizer.transform(movies)\n",
    "\n",
    "\n",
    "# remove stop words\n",
    "remover = StopWordsRemover(inputCol=\"title_words\", outputCol=\"text\")\n",
    "clean_data = remover.transform(tokenized_data).drop(\"title\", \"title_words\")"
   ]
  },
  {
   "cell_type": "markdown",
   "id": "90acf1ed-d265-45c0-877e-c684f666e0b4",
   "metadata": {},
   "source": [
    "convert text input into feature vectors"
   ]
  },
  {
   "cell_type": "code",
   "execution_count": 19,
   "id": "a9976e69-3c5d-4d5f-87d2-8de882779e84",
   "metadata": {},
   "outputs": [
    {
     "name": "stdout",
     "output_type": "stream",
     "text": [
      "+-------+--------------------+--------------------+--------------------+\n",
      "|MovieId|              genres|                text|       text_features|\n",
      "+-------+--------------------+--------------------+--------------------+\n",
      "|   1240| [Animation, Sci-Fi]|[ghost, shell, ko...|(1024,[308,321,52...|\n",
      "|    133|[Drama, Romance, ...|        [gone, wind]|(1024,[224,462],[...|\n",
      "|    468|             [Drama]|              [rudy]|  (1024,[774],[1.0])|\n",
      "|    497|            [Comedy]|    [bringing, baby]|(1024,[408,868],[...|\n",
      "|    294|            [Comedy]|        [liar, liar]|  (1024,[657],[2.0])|\n",
      "+-------+--------------------+--------------------+--------------------+\n",
      "only showing top 5 rows\n",
      "\n",
      "+-------+--------------------+--------------------+--------------------+--------------------+\n",
      "|MovieId|              genres|                text|       text_features|     genres_features|\n",
      "+-------+--------------------+--------------------+--------------------+--------------------+\n",
      "|   1240| [Animation, Sci-Fi]|[ghost, shell, ko...|(1024,[308,321,52...|(19,[8,14],[1.0,1...|\n",
      "|    133|[Drama, Romance, ...|        [gone, wind]|(1024,[224,462],[...|(19,[0,4,10],[1.0...|\n",
      "|    468|             [Drama]|              [rudy]|  (1024,[774],[1.0])|      (19,[0],[1.0])|\n",
      "|    497|            [Comedy]|    [bringing, baby]|(1024,[408,868],[...|      (19,[1],[1.0])|\n",
      "|    294|            [Comedy]|        [liar, liar]|  (1024,[657],[2.0])|      (19,[1],[1.0])|\n",
      "+-------+--------------------+--------------------+--------------------+--------------------+\n",
      "only showing top 5 rows\n",
      "\n",
      "root\n",
      " |-- MovieId: integer (nullable = true)\n",
      " |-- features: vector (nullable = true)\n",
      "\n",
      "+-------+---------------------------------------------------------------------+\n",
      "|MovieId|features                                                             |\n",
      "+-------+---------------------------------------------------------------------+\n",
      "|1240   |(1043,[308,321,529,947,1032,1038],[1.0,1.0,1.0,1.0,1.0,1.0])         |\n",
      "|133    |(1043,[224,462,1024,1028,1034],[1.0,1.0,1.0,1.0,1.0])                |\n",
      "|468    |(1043,[774,1024],[1.0,1.0])                                          |\n",
      "|497    |(1043,[408,868,1025],[1.0,1.0,1.0])                                  |\n",
      "|294    |(1043,[657,1025],[2.0,1.0])                                          |\n",
      "|1267   |(1043,[536,1024],[1.0,1.0])                                          |\n",
      "|249    |(1043,[255,342,662,669,955,1025],[1.0,1.0,1.0,1.0,1.0,1.0])          |\n",
      "|225    |(1043,[348,446,1025,1030],[1.0,1.0,1.0,1.0])                         |\n",
      "|449    |(1043,[322,405,600,816,1026,1029,1032],[1.0,1.0,1.0,1.0,1.0,1.0,1.0])|\n",
      "|1095   |(1043,[191,852,1025],[1.0,2.0,1.0])                                  |\n",
      "+-------+---------------------------------------------------------------------+\n",
      "only showing top 10 rows\n",
      "\n"
     ]
    }
   ],
   "source": [
    "# step 1: perform HashingTF on column \"text\"\n",
    "text_hasher = HashingTF(inputCol=\"text\", outputCol=\"text_features\", numFeatures=1024)\n",
    "hashed_data = text_hasher.transform(clean_data)\n",
    "hashed_data.show(5)\n",
    "\n",
    "# step 2: fit a CountVectorizerModel from column \"genres\".\n",
    "count_vectorizer = CountVectorizer(inputCol=\"genres\", outputCol=\"genres_features\")\n",
    "count_vectorizer_model = count_vectorizer.fit(hashed_data)\n",
    "vectorized_data = count_vectorizer_model.transform(hashed_data)\n",
    "vectorized_data.show(5)\n",
    "\n",
    "# step 3: assemble features into a single vector\n",
    "assembler = VectorAssembler(\n",
    "    inputCols=[\"text_features\", \"genres_features\"],\n",
    "    outputCol=\"features\",\n",
    ")\n",
    "\n",
    "feature_data = assembler.transform(vectorized_data).select(\"MovieId\", \"features\")\n",
    "feature_data = feature_data.withColumn(\"MovieId\",F.col(\"MovieId\").cast(\"integer\"))\n",
    "feature_data.printSchema()\n",
    "feature_data.show(10, False)"
   ]
  },
  {
   "cell_type": "markdown",
   "id": "1d6e0470-fb90-4af6-81a7-c1ef13252bd2",
   "metadata": {},
   "source": [
    "## Evaluation Metrics definitions"
   ]
  },
  {
   "cell_type": "code",
   "execution_count": 20,
   "id": "72b6ac2f-5e81-4afe-ae0b-7dc62ddd0f2c",
   "metadata": {},
   "outputs": [],
   "source": [
    "def get_ranking_results(ranking_eval):\n",
    "    metrics = {\n",
    "        \"Precision@k\": ranking_eval.precision_at_k(),\n",
    "        \"Recall@k\": ranking_eval.recall_at_k(),\n",
    "        \"NDCG@k\": ranking_eval.ndcg_at_k(),\n",
    "        \"Mean average precision\": ranking_eval.map_at_k()\n",
    "      \n",
    "    }\n",
    "    return metrics  \n",
    "\n",
    "def get_diversity_results(diversity_eval):\n",
    "    metrics = {\n",
    "        \"catalog_coverage\":diversity_eval.catalog_coverage(),\n",
    "        \"distributional_coverage\":diversity_eval.distributional_coverage(), \n",
    "        \"novelty\": diversity_eval.novelty(), \n",
    "        \"diversity\": diversity_eval.diversity(), \n",
    "        \"serendipity\": diversity_eval.serendipity()\n",
    "    }\n",
    "    return metrics\n",
    "\n",
    "def get_rating_results(rating_eval):\n",
    "    metrics = {\n",
    "     'rmse': rating_eval.rmse(),\n",
    "     'mean absolute error' : rating_eval.mae(),\n",
    "     'R squared': rating_eval.rsquared(),\n",
    "     'explained variance': rating_eval.exp_var()\n",
    "    }\n",
    "    return metrics\n",
    "\n",
    "def generate_summary(data, algo, k, ranking_metrics, diversity_metrics):\n",
    "    summary = {\"Data\": data, \"Algo\": algo, \"K\": k}\n",
    "\n",
    "    if ranking_metrics is None:\n",
    "        ranking_metrics = {           \n",
    "            \"Precision@k\": np.nan,\n",
    "            \"Recall@k\": np.nan,            \n",
    "            \"nDCG@k\": np.nan,\n",
    "            \"MAP\": np.nan,\n",
    "        }\n",
    "        #update just adds to the back of the dictionary.\n",
    "    summary.update(ranking_metrics)\n",
    "    summary.update(diversity_metrics)\n",
    "    return summary\n",
    "\n",
    "diversity_cols = [\"catalog_coverage\", \"distributional_coverage\",\"novelty\", \"diversity\", \"serendipity\"]\n",
    "ranking_cols = [ \"Precision@k\", \"Recall@k\", \"NDCG@k\", \"Mean average precision\"]\n",
    "rating_cols = ['rmse', 'mean absolute error', 'R squared','explained variance']"
   ]
  },
  {
   "cell_type": "markdown",
   "id": "c07d3a11-4b4c-46ca-874e-0f964357be63",
   "metadata": {},
   "source": [
    "## Evaluation - collaborative based"
   ]
  },
  {
   "cell_type": "markdown",
   "id": "2a18c97e-2528-47ec-b608-ea8c02fd8f94",
   "metadata": {},
   "source": [
    "### Diversity"
   ]
  },
  {
   "cell_type": "code",
   "execution_count": 21,
   "id": "d45de091-46c8-483f-b47f-6e5594f2138a",
   "metadata": {},
   "outputs": [
    {
     "data": {
      "text/html": [
       "<div>\n",
       "<style scoped>\n",
       "    .dataframe tbody tr th:only-of-type {\n",
       "        vertical-align: middle;\n",
       "    }\n",
       "\n",
       "    .dataframe tbody tr th {\n",
       "        vertical-align: top;\n",
       "    }\n",
       "\n",
       "    .dataframe thead th {\n",
       "        text-align: right;\n",
       "    }\n",
       "</style>\n",
       "<table border=\"1\" class=\"dataframe\">\n",
       "  <thead>\n",
       "    <tr style=\"text-align: right;\">\n",
       "      <th></th>\n",
       "      <th>catalog_coverage</th>\n",
       "      <th>distributional_coverage</th>\n",
       "      <th>novelty</th>\n",
       "      <th>diversity</th>\n",
       "      <th>serendipity</th>\n",
       "    </tr>\n",
       "  </thead>\n",
       "  <tbody>\n",
       "    <tr>\n",
       "      <th>1</th>\n",
       "      <td>0.339853</td>\n",
       "      <td>7.533735</td>\n",
       "      <td>9.419237</td>\n",
       "      <td>0.740317</td>\n",
       "      <td>0.798199</td>\n",
       "    </tr>\n",
       "  </tbody>\n",
       "</table>\n",
       "</div>"
      ],
      "text/plain": [
       "   catalog_coverage  distributional_coverage   novelty  diversity  serendipity\n",
       "1          0.339853                 7.533735  9.419237   0.740317     0.798199"
      ]
     },
     "execution_count": 21,
     "metadata": {},
     "output_type": "execute_result"
    }
   ],
   "source": [
    "#calculate\n",
    "svd_diversity_eval = SparkDiversityEvaluation(\n",
    "    train_df = train_df_spark, \n",
    "    reco_df = top_k_reco,\n",
    "    col_user = COL_USER, \n",
    "    col_item = COL_ITEM\n",
    ")\n",
    "\n",
    "svd_diversity_metrics = get_diversity_results(svd_diversity_eval)\n",
    "\n",
    "#display\n",
    "diversity_results = pd.DataFrame(columns=diversity_cols)\n",
    "diversity_results.loc[1] = svd_diversity_metrics\n",
    "diversity_results.head()\n",
    "\n"
   ]
  },
  {
   "cell_type": "markdown",
   "id": "b7b42866-f834-41bf-b3ae-c956cfb99127",
   "metadata": {},
   "source": [
    "### Ranking"
   ]
  },
  {
   "cell_type": "code",
   "execution_count": 22,
   "id": "967a7120-be33-4759-bee2-4a2f2dfcfcbe",
   "metadata": {
    "tags": []
   },
   "outputs": [
    {
     "data": {
      "text/html": [
       "<div>\n",
       "<style scoped>\n",
       "    .dataframe tbody tr th:only-of-type {\n",
       "        vertical-align: middle;\n",
       "    }\n",
       "\n",
       "    .dataframe tbody tr th {\n",
       "        vertical-align: top;\n",
       "    }\n",
       "\n",
       "    .dataframe thead th {\n",
       "        text-align: right;\n",
       "    }\n",
       "</style>\n",
       "<table border=\"1\" class=\"dataframe\">\n",
       "  <thead>\n",
       "    <tr style=\"text-align: right;\">\n",
       "      <th></th>\n",
       "      <th>Precision@k</th>\n",
       "      <th>Recall@k</th>\n",
       "      <th>NDCG@k</th>\n",
       "      <th>Mean average precision</th>\n",
       "    </tr>\n",
       "  </thead>\n",
       "  <tbody>\n",
       "    <tr>\n",
       "      <th>1</th>\n",
       "      <td>0.157067</td>\n",
       "      <td>0.121627</td>\n",
       "      <td>0.208343</td>\n",
       "      <td>0.057682</td>\n",
       "    </tr>\n",
       "  </tbody>\n",
       "</table>\n",
       "</div>"
      ],
      "text/plain": [
       "   Precision@k  Recall@k    NDCG@k  Mean average precision\n",
       "1     0.157067  0.121627  0.208343                0.057682"
      ]
     },
     "execution_count": 22,
     "metadata": {},
     "output_type": "execute_result"
    }
   ],
   "source": [
    "#calculate\n",
    "svd_ranking_eval = SparkRankingEvaluation(\n",
    "    test_df_spark, \n",
    "    top_all, \n",
    "    k = TOP_K, \n",
    "    col_user=\"UserId\", \n",
    "    col_item=\"MovieId\",\n",
    "    col_rating=\"Rating\", \n",
    "    col_prediction=\"prediction\",\n",
    "    relevancy_method=\"top_k\"\n",
    ")\n",
    "\n",
    "svd_ranking_metrics = get_ranking_results(svd_ranking_eval)\n",
    "\n",
    "#display\n",
    "ranking_results = pd.DataFrame(columns=ranking_cols)\n",
    "ranking_results.loc[1] = svd_ranking_metrics\n",
    "ranking_results.head()"
   ]
  },
  {
   "cell_type": "markdown",
   "id": "f8b2d091-6822-408f-a8c6-18ae64388f25",
   "metadata": {},
   "source": [
    "### Rating"
   ]
  },
  {
   "cell_type": "code",
   "execution_count": 23,
   "id": "9e3a199b-82ed-4179-834e-118ee1ae5a12",
   "metadata": {},
   "outputs": [
    {
     "data": {
      "text/html": [
       "<div>\n",
       "<style scoped>\n",
       "    .dataframe tbody tr th:only-of-type {\n",
       "        vertical-align: middle;\n",
       "    }\n",
       "\n",
       "    .dataframe tbody tr th {\n",
       "        vertical-align: top;\n",
       "    }\n",
       "\n",
       "    .dataframe thead th {\n",
       "        text-align: right;\n",
       "    }\n",
       "</style>\n",
       "<table border=\"1\" class=\"dataframe\">\n",
       "  <thead>\n",
       "    <tr style=\"text-align: right;\">\n",
       "      <th></th>\n",
       "      <th>rmse</th>\n",
       "      <th>mean absolute error</th>\n",
       "      <th>R squared</th>\n",
       "      <th>explained variance</th>\n",
       "    </tr>\n",
       "  </thead>\n",
       "  <tbody>\n",
       "    <tr>\n",
       "      <th>1</th>\n",
       "      <td>0.584161</td>\n",
       "      <td>0.424652</td>\n",
       "      <td>0.72836</td>\n",
       "      <td>0.728374</td>\n",
       "    </tr>\n",
       "  </tbody>\n",
       "</table>\n",
       "</div>"
      ],
      "text/plain": [
       "       rmse  mean absolute error  R squared  explained variance\n",
       "1  0.584161             0.424652    0.72836            0.728374"
      ]
     },
     "execution_count": 23,
     "metadata": {},
     "output_type": "execute_result"
    }
   ],
   "source": [
    "#calculate\n",
    "svd_rating_eval = SparkRatingEvaluation(\n",
    "    test_df_spark, \n",
    "    top_all,  \n",
    "    col_user=\"UserId\", \n",
    "    col_item=\"MovieId\",\n",
    "    col_rating=\"Rating\", \n",
    "    col_prediction=\"prediction\")\n",
    "\n",
    "svd_rating_results = get_rating_results(svd_rating_eval)\n",
    "\n",
    "#display\n",
    "rating_res = pd.DataFrame(columns=rating_cols)\n",
    "rating_res.loc[1] = svd_rating_results\n",
    "rating_res.head()"
   ]
  },
  {
   "cell_type": "markdown",
   "id": "e9579211-f286-4814-9ef0-89ffd9a68aba",
   "metadata": {},
   "source": [
    "## Evaluation - content based"
   ]
  },
  {
   "cell_type": "markdown",
   "id": "2d2d0ac6-ed1f-4b20-a57b-da9ea40da45f",
   "metadata": {},
   "source": [
    "### Diversity"
   ]
  },
  {
   "cell_type": "code",
   "execution_count": 24,
   "id": "da72dddd-2f4d-46b1-9afe-235ca356f476",
   "metadata": {},
   "outputs": [
    {
     "data": {
      "text/html": [
       "<div>\n",
       "<style scoped>\n",
       "    .dataframe tbody tr th:only-of-type {\n",
       "        vertical-align: middle;\n",
       "    }\n",
       "\n",
       "    .dataframe tbody tr th {\n",
       "        vertical-align: top;\n",
       "    }\n",
       "\n",
       "    .dataframe thead th {\n",
       "        text-align: right;\n",
       "    }\n",
       "</style>\n",
       "<table border=\"1\" class=\"dataframe\">\n",
       "  <thead>\n",
       "    <tr style=\"text-align: right;\">\n",
       "      <th></th>\n",
       "      <th>catalog_coverage</th>\n",
       "      <th>distributional_coverage</th>\n",
       "      <th>novelty</th>\n",
       "      <th>diversity</th>\n",
       "      <th>serendipity</th>\n",
       "    </tr>\n",
       "  </thead>\n",
       "  <tbody>\n",
       "    <tr>\n",
       "      <th>1</th>\n",
       "      <td>0.339853</td>\n",
       "      <td>7.533735</td>\n",
       "      <td>9.419237</td>\n",
       "      <td>0.877599</td>\n",
       "      <td>0.884189</td>\n",
       "    </tr>\n",
       "  </tbody>\n",
       "</table>\n",
       "</div>"
      ],
      "text/plain": [
       "   catalog_coverage  distributional_coverage   novelty  diversity  serendipity\n",
       "1          0.339853                 7.533735  9.419237   0.877599     0.884189"
      ]
     },
     "execution_count": 24,
     "metadata": {},
     "output_type": "execute_result"
    }
   ],
   "source": [
    "#calculate\n",
    "svd_diversityContent_eval = SparkDiversityEvaluation(\n",
    "    train_df = train_df_spark, \n",
    "    reco_df = top_k_reco,\n",
    "    item_feature_df = feature_data, \n",
    "    item_sim_measure=\"item_feature_vector\",\n",
    "    col_user = COL_USER, \n",
    "    col_item = COL_ITEM\n",
    ")\n",
    "\n",
    "svd_diversityContent_results = get_diversity_results(svd_diversityContent_eval)\n",
    "\n",
    "#display\n",
    "content_diversity_results = pd.DataFrame(columns=diversity_cols)\n",
    "content_diversity_results.loc[1] = svd_diversityContent_results\n",
    "content_diversity_results.head()"
   ]
  },
  {
   "cell_type": "code",
   "execution_count": 25,
   "id": "76ca0891-ae14-46ef-87e2-623968fe3376",
   "metadata": {},
   "outputs": [
    {
     "name": "stdout",
     "output_type": "stream",
     "text": [
      "Content-based diversity\n"
     ]
    },
    {
     "data": {
      "text/html": [
       "<div>\n",
       "<style scoped>\n",
       "    .dataframe tbody tr th:only-of-type {\n",
       "        vertical-align: middle;\n",
       "    }\n",
       "\n",
       "    .dataframe tbody tr th {\n",
       "        vertical-align: top;\n",
       "    }\n",
       "\n",
       "    .dataframe thead th {\n",
       "        text-align: right;\n",
       "    }\n",
       "</style>\n",
       "<table border=\"1\" class=\"dataframe\">\n",
       "  <thead>\n",
       "    <tr style=\"text-align: right;\">\n",
       "      <th></th>\n",
       "      <th>catalog_coverage</th>\n",
       "      <th>distributional_coverage</th>\n",
       "      <th>novelty</th>\n",
       "      <th>diversity</th>\n",
       "      <th>serendipity</th>\n",
       "    </tr>\n",
       "  </thead>\n",
       "  <tbody>\n",
       "    <tr>\n",
       "      <th>1</th>\n",
       "      <td>0.339853</td>\n",
       "      <td>7.533735</td>\n",
       "      <td>9.419237</td>\n",
       "      <td>0.877599</td>\n",
       "      <td>0.884189</td>\n",
       "    </tr>\n",
       "  </tbody>\n",
       "</table>\n",
       "</div>"
      ],
      "text/plain": [
       "   catalog_coverage  distributional_coverage   novelty  diversity  serendipity\n",
       "1          0.339853                 7.533735  9.419237   0.877599     0.884189"
      ]
     },
     "execution_count": 25,
     "metadata": {},
     "output_type": "execute_result"
    }
   ],
   "source": [
    "print('Content-based diversity')\n",
    "content_diversity_results.head()"
   ]
  },
  {
   "cell_type": "markdown",
   "id": "f0f6ebef-9bf3-489f-8fd9-ef44e1f9839d",
   "metadata": {},
   "source": [
    "## Display all results"
   ]
  },
  {
   "cell_type": "code",
   "execution_count": 26,
   "id": "6d5ed0d4-08c2-4b78-92ca-89e7cd50d74e",
   "metadata": {},
   "outputs": [
    {
     "name": "stdout",
     "output_type": "stream",
     "text": [
      "Results for K=20 of the Movielens size:100k \n",
      "\n"
     ]
    }
   ],
   "source": [
    "print(\"Results for K={} of the Movielens size:{} \".format(TOP_K,MOVIELENS_DATA_SIZE))\n",
    "print()"
   ]
  },
  {
   "cell_type": "code",
   "execution_count": 27,
   "id": "ee1ebd7a-2906-4a99-b00a-8a710fd4dfdf",
   "metadata": {
    "tags": []
   },
   "outputs": [
    {
     "name": "stdout",
     "output_type": "stream",
     "text": [
      "DIVERSITY METRICS - COLLABORATIVE\n",
      "\n"
     ]
    },
    {
     "data": {
      "text/html": [
       "<div>\n",
       "<style scoped>\n",
       "    .dataframe tbody tr th:only-of-type {\n",
       "        vertical-align: middle;\n",
       "    }\n",
       "\n",
       "    .dataframe tbody tr th {\n",
       "        vertical-align: top;\n",
       "    }\n",
       "\n",
       "    .dataframe thead th {\n",
       "        text-align: right;\n",
       "    }\n",
       "</style>\n",
       "<table border=\"1\" class=\"dataframe\">\n",
       "  <thead>\n",
       "    <tr style=\"text-align: right;\">\n",
       "      <th></th>\n",
       "      <th>catalog_coverage</th>\n",
       "      <th>distributional_coverage</th>\n",
       "      <th>novelty</th>\n",
       "      <th>diversity</th>\n",
       "      <th>serendipity</th>\n",
       "    </tr>\n",
       "  </thead>\n",
       "  <tbody>\n",
       "    <tr>\n",
       "      <th>1</th>\n",
       "      <td>0.339853</td>\n",
       "      <td>7.533735</td>\n",
       "      <td>9.419237</td>\n",
       "      <td>0.740317</td>\n",
       "      <td>0.798199</td>\n",
       "    </tr>\n",
       "  </tbody>\n",
       "</table>\n",
       "</div>"
      ],
      "text/plain": [
       "   catalog_coverage  distributional_coverage   novelty  diversity  serendipity\n",
       "1          0.339853                 7.533735  9.419237   0.740317     0.798199"
      ]
     },
     "execution_count": 27,
     "metadata": {},
     "output_type": "execute_result"
    }
   ],
   "source": [
    "print(\"DIVERSITY METRICS - COLLABORATIVE\")\n",
    "print()\n",
    "diversity_results.head()"
   ]
  },
  {
   "cell_type": "code",
   "execution_count": 28,
   "id": "93cd2baa-af20-495d-9c19-88a65ff84d5e",
   "metadata": {
    "tags": []
   },
   "outputs": [
    {
     "name": "stdout",
     "output_type": "stream",
     "text": [
      "DIVERSITY METRICS - CONTENT BASED\n",
      "\n"
     ]
    },
    {
     "data": {
      "text/html": [
       "<div>\n",
       "<style scoped>\n",
       "    .dataframe tbody tr th:only-of-type {\n",
       "        vertical-align: middle;\n",
       "    }\n",
       "\n",
       "    .dataframe tbody tr th {\n",
       "        vertical-align: top;\n",
       "    }\n",
       "\n",
       "    .dataframe thead th {\n",
       "        text-align: right;\n",
       "    }\n",
       "</style>\n",
       "<table border=\"1\" class=\"dataframe\">\n",
       "  <thead>\n",
       "    <tr style=\"text-align: right;\">\n",
       "      <th></th>\n",
       "      <th>catalog_coverage</th>\n",
       "      <th>distributional_coverage</th>\n",
       "      <th>novelty</th>\n",
       "      <th>diversity</th>\n",
       "      <th>serendipity</th>\n",
       "    </tr>\n",
       "  </thead>\n",
       "  <tbody>\n",
       "    <tr>\n",
       "      <th>1</th>\n",
       "      <td>0.339853</td>\n",
       "      <td>7.533735</td>\n",
       "      <td>9.419237</td>\n",
       "      <td>0.877599</td>\n",
       "      <td>0.884189</td>\n",
       "    </tr>\n",
       "  </tbody>\n",
       "</table>\n",
       "</div>"
      ],
      "text/plain": [
       "   catalog_coverage  distributional_coverage   novelty  diversity  serendipity\n",
       "1          0.339853                 7.533735  9.419237   0.877599     0.884189"
      ]
     },
     "execution_count": 28,
     "metadata": {},
     "output_type": "execute_result"
    }
   ],
   "source": [
    "print(\"DIVERSITY METRICS - CONTENT BASED\")\n",
    "print()\n",
    "content_diversity_results.head()"
   ]
  },
  {
   "cell_type": "code",
   "execution_count": 29,
   "id": "d86b8437-ccc6-4706-920d-157dee730661",
   "metadata": {},
   "outputs": [
    {
     "name": "stdout",
     "output_type": "stream",
     "text": [
      "RATING METRICS\n",
      "\n"
     ]
    },
    {
     "data": {
      "text/html": [
       "<div>\n",
       "<style scoped>\n",
       "    .dataframe tbody tr th:only-of-type {\n",
       "        vertical-align: middle;\n",
       "    }\n",
       "\n",
       "    .dataframe tbody tr th {\n",
       "        vertical-align: top;\n",
       "    }\n",
       "\n",
       "    .dataframe thead th {\n",
       "        text-align: right;\n",
       "    }\n",
       "</style>\n",
       "<table border=\"1\" class=\"dataframe\">\n",
       "  <thead>\n",
       "    <tr style=\"text-align: right;\">\n",
       "      <th></th>\n",
       "      <th>rmse</th>\n",
       "      <th>mean absolute error</th>\n",
       "      <th>R squared</th>\n",
       "      <th>explained variance</th>\n",
       "    </tr>\n",
       "  </thead>\n",
       "  <tbody>\n",
       "    <tr>\n",
       "      <th>1</th>\n",
       "      <td>0.584161</td>\n",
       "      <td>0.424652</td>\n",
       "      <td>0.72836</td>\n",
       "      <td>0.728374</td>\n",
       "    </tr>\n",
       "  </tbody>\n",
       "</table>\n",
       "</div>"
      ],
      "text/plain": [
       "       rmse  mean absolute error  R squared  explained variance\n",
       "1  0.584161             0.424652    0.72836            0.728374"
      ]
     },
     "execution_count": 29,
     "metadata": {},
     "output_type": "execute_result"
    }
   ],
   "source": [
    "print(\"RATING METRICS\")\n",
    "print()\n",
    "rating_res.head()"
   ]
  },
  {
   "cell_type": "code",
   "execution_count": 30,
   "id": "bb1dffcf-17a4-4f0b-8c59-ff5569176939",
   "metadata": {},
   "outputs": [
    {
     "name": "stdout",
     "output_type": "stream",
     "text": [
      "RANKING METRICS\n",
      "\n"
     ]
    },
    {
     "data": {
      "text/html": [
       "<div>\n",
       "<style scoped>\n",
       "    .dataframe tbody tr th:only-of-type {\n",
       "        vertical-align: middle;\n",
       "    }\n",
       "\n",
       "    .dataframe tbody tr th {\n",
       "        vertical-align: top;\n",
       "    }\n",
       "\n",
       "    .dataframe thead th {\n",
       "        text-align: right;\n",
       "    }\n",
       "</style>\n",
       "<table border=\"1\" class=\"dataframe\">\n",
       "  <thead>\n",
       "    <tr style=\"text-align: right;\">\n",
       "      <th></th>\n",
       "      <th>Precision@k</th>\n",
       "      <th>Recall@k</th>\n",
       "      <th>NDCG@k</th>\n",
       "      <th>Mean average precision</th>\n",
       "    </tr>\n",
       "  </thead>\n",
       "  <tbody>\n",
       "    <tr>\n",
       "      <th>1</th>\n",
       "      <td>0.157067</td>\n",
       "      <td>0.121627</td>\n",
       "      <td>0.208343</td>\n",
       "      <td>0.057682</td>\n",
       "    </tr>\n",
       "  </tbody>\n",
       "</table>\n",
       "</div>"
      ],
      "text/plain": [
       "   Precision@k  Recall@k    NDCG@k  Mean average precision\n",
       "1     0.157067  0.121627  0.208343                0.057682"
      ]
     },
     "execution_count": 30,
     "metadata": {},
     "output_type": "execute_result"
    }
   ],
   "source": [
    "print(\"RANKING METRICS\")\n",
    "print()\n",
    "ranking_results.head()"
   ]
  },
  {
   "cell_type": "code",
   "execution_count": null,
   "id": "71b71a13-853d-432c-a949-11678c739e96",
   "metadata": {},
   "outputs": [],
   "source": []
  }
 ],
 "metadata": {
  "kernelspec": {
   "display_name": "condarec",
   "language": "python",
   "name": "condarec"
  },
  "language_info": {
   "codemirror_mode": {
    "name": "ipython",
    "version": 3
   },
   "file_extension": ".py",
   "mimetype": "text/x-python",
   "name": "python",
   "nbconvert_exporter": "python",
   "pygments_lexer": "ipython3",
   "version": "3.7.0"
  }
 },
 "nbformat": 4,
 "nbformat_minor": 5
}
