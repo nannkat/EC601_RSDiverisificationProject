{
 "cells": [
  {
   "cell_type": "markdown",
   "id": "7d08629f-3de0-4fcd-a25c-c9f6384085f4",
   "metadata": {},
   "source": [
    "# LightGCN\n",
    "https://github.com/microsoft/recommenders/blob/main/examples/02_model_collaborative_filtering/lightgcn_deep_dive.ipynb"
   ]
  },
  {
   "cell_type": "markdown",
   "id": "2a41abf6-2dec-44d6-a56f-e4bd2d2b63c1",
   "metadata": {},
   "source": [
    "## Setup"
   ]
  },
  {
   "cell_type": "code",
   "execution_count": 1,
   "id": "02e0807a-96e9-4acb-bf22-97c6d984178b",
   "metadata": {},
   "outputs": [
    {
     "name": "stdout",
     "output_type": "stream",
     "text": [
      "System version: 3.7.0 (default, Oct  9 2018, 10:31:47) \n",
      "[GCC 7.3.0]\n",
      "Pandas version: 1.1.5\n",
      "Tensorflow version: 1.15.5\n"
     ]
    }
   ],
   "source": [
    "import sys\n",
    "import os\n",
    "import papermill as pm\n",
    "import scrapbook as sb\n",
    "import pandas as pd\n",
    "import numpy as np\n",
    "import tensorflow as tf\n",
    "tf.get_logger().setLevel('ERROR') # only show error messages\n",
    "\n",
    "from recommenders.utils.timer import Timer\n",
    "from recommenders.models.deeprec.models.graphrec.lightgcn import LightGCN\n",
    "from recommenders.models.deeprec.DataModel.ImplicitCF import ImplicitCF\n",
    "from recommenders.datasets import movielens\n",
    "from recommenders.datasets.python_splitters import python_stratified_split\n",
    "from recommenders.evaluation.python_evaluation import map_at_k, ndcg_at_k, precision_at_k, recall_at_k\n",
    "from recommenders.utils.constants import SEED as DEFAULT_SEED\n",
    "from recommenders.models.deeprec.deeprec_utils import prepare_hparams\n",
    "\n",
    "print(\"System version: {}\".format(sys.version))\n",
    "print(\"Pandas version: {}\".format(pd.__version__))\n",
    "print(\"Tensorflow version: {}\".format(tf.__version__))"
   ]
  },
  {
   "cell_type": "code",
   "execution_count": 31,
   "id": "b2d6f8ea-51a1-4845-9790-cf134e0f12d3",
   "metadata": {},
   "outputs": [],
   "source": [
    "import fun\n",
    "from pyspark.sql.types import StringType, FloatType, IntegerType, LongType, StructType, StructField\n",
    "from recommenders.evaluation.spark_evaluation import SparkRatingEvaluation, SparkRankingEvaluation, SparkDiversityEvaluation"
   ]
  },
  {
   "cell_type": "code",
   "execution_count": 24,
   "id": "a6292f6e-7d56-47a3-821d-adef128b9211",
   "metadata": {},
   "outputs": [],
   "source": [
    "# top k items to recommend\n",
    "TOP_K = 20\n",
    "\n",
    "# Select MovieLens data size: 100k, 1m, 10m, or 20m\n",
    "MOVIELENS_DATA_SIZE = '100k'\n",
    "\n",
    "# Model parameters\n",
    "EPOCHS = 50\n",
    "BATCH_SIZE = 1024\n",
    "\n",
    "SEED = DEFAULT_SEED  # Set None for non-deterministic results\n",
    "\n",
    "yaml_file = \"lightgcn.yaml\"\n",
    "user_file = \"../../tests/resources/deeprec/lightgcn/user_embeddings.csv\"\n",
    "item_file = \"../../tests/resources/deeprec/lightgcn/item_embeddings.csv\""
   ]
  },
  {
   "cell_type": "markdown",
   "id": "bc0094d8-9c07-48ed-b300-76d04899f441",
   "metadata": {},
   "source": [
    "## Import and prepare Data"
   ]
  },
  {
   "cell_type": "code",
   "execution_count": 6,
   "id": "7d2739e9-c5aa-46ed-8a30-cfe67f8da6a9",
   "metadata": {},
   "outputs": [
    {
     "name": "stderr",
     "output_type": "stream",
     "text": [
      "100%|██████████| 4.81k/4.81k [00:00<00:00, 14.7kKB/s]\n"
     ]
    },
    {
     "data": {
      "text/html": [
       "<div>\n",
       "<style scoped>\n",
       "    .dataframe tbody tr th:only-of-type {\n",
       "        vertical-align: middle;\n",
       "    }\n",
       "\n",
       "    .dataframe tbody tr th {\n",
       "        vertical-align: top;\n",
       "    }\n",
       "\n",
       "    .dataframe thead th {\n",
       "        text-align: right;\n",
       "    }\n",
       "</style>\n",
       "<table border=\"1\" class=\"dataframe\">\n",
       "  <thead>\n",
       "    <tr style=\"text-align: right;\">\n",
       "      <th></th>\n",
       "      <th>userID</th>\n",
       "      <th>itemID</th>\n",
       "      <th>rating</th>\n",
       "      <th>timestamp</th>\n",
       "      <th>title</th>\n",
       "      <th>genres</th>\n",
       "    </tr>\n",
       "  </thead>\n",
       "  <tbody>\n",
       "    <tr>\n",
       "      <th>0</th>\n",
       "      <td>196</td>\n",
       "      <td>242</td>\n",
       "      <td>3.0</td>\n",
       "      <td>881250949</td>\n",
       "      <td>Kolya (1996)</td>\n",
       "      <td>Comedy</td>\n",
       "    </tr>\n",
       "    <tr>\n",
       "      <th>1</th>\n",
       "      <td>63</td>\n",
       "      <td>242</td>\n",
       "      <td>3.0</td>\n",
       "      <td>875747190</td>\n",
       "      <td>Kolya (1996)</td>\n",
       "      <td>Comedy</td>\n",
       "    </tr>\n",
       "    <tr>\n",
       "      <th>2</th>\n",
       "      <td>226</td>\n",
       "      <td>242</td>\n",
       "      <td>5.0</td>\n",
       "      <td>883888671</td>\n",
       "      <td>Kolya (1996)</td>\n",
       "      <td>Comedy</td>\n",
       "    </tr>\n",
       "    <tr>\n",
       "      <th>3</th>\n",
       "      <td>154</td>\n",
       "      <td>242</td>\n",
       "      <td>3.0</td>\n",
       "      <td>879138235</td>\n",
       "      <td>Kolya (1996)</td>\n",
       "      <td>Comedy</td>\n",
       "    </tr>\n",
       "    <tr>\n",
       "      <th>4</th>\n",
       "      <td>306</td>\n",
       "      <td>242</td>\n",
       "      <td>5.0</td>\n",
       "      <td>876503793</td>\n",
       "      <td>Kolya (1996)</td>\n",
       "      <td>Comedy</td>\n",
       "    </tr>\n",
       "  </tbody>\n",
       "</table>\n",
       "</div>"
      ],
      "text/plain": [
       "   userID  itemID  rating  timestamp         title  genres\n",
       "0     196     242     3.0  881250949  Kolya (1996)  Comedy\n",
       "1      63     242     3.0  875747190  Kolya (1996)  Comedy\n",
       "2     226     242     5.0  883888671  Kolya (1996)  Comedy\n",
       "3     154     242     3.0  879138235  Kolya (1996)  Comedy\n",
       "4     306     242     5.0  876503793  Kolya (1996)  Comedy"
      ]
     },
     "execution_count": 6,
     "metadata": {},
     "output_type": "execute_result"
    }
   ],
   "source": [
    "data_full = movielens.load_pandas_df(size=MOVIELENS_DATA_SIZE, title_col='title',\n",
    "    genres_col='genres')\n",
    "data_full.head()"
   ]
  },
  {
   "cell_type": "code",
   "execution_count": 7,
   "id": "5e260848-0a68-4e96-b4bc-0e95188f9faf",
   "metadata": {},
   "outputs": [
    {
     "data": {
      "text/html": [
       "<div>\n",
       "<style scoped>\n",
       "    .dataframe tbody tr th:only-of-type {\n",
       "        vertical-align: middle;\n",
       "    }\n",
       "\n",
       "    .dataframe tbody tr th {\n",
       "        vertical-align: top;\n",
       "    }\n",
       "\n",
       "    .dataframe thead th {\n",
       "        text-align: right;\n",
       "    }\n",
       "</style>\n",
       "<table border=\"1\" class=\"dataframe\">\n",
       "  <thead>\n",
       "    <tr style=\"text-align: right;\">\n",
       "      <th></th>\n",
       "      <th>userID</th>\n",
       "      <th>itemID</th>\n",
       "      <th>rating</th>\n",
       "      <th>timestamp</th>\n",
       "    </tr>\n",
       "  </thead>\n",
       "  <tbody>\n",
       "    <tr>\n",
       "      <th>0</th>\n",
       "      <td>196</td>\n",
       "      <td>242</td>\n",
       "      <td>3.0</td>\n",
       "      <td>881250949</td>\n",
       "    </tr>\n",
       "    <tr>\n",
       "      <th>1</th>\n",
       "      <td>63</td>\n",
       "      <td>242</td>\n",
       "      <td>3.0</td>\n",
       "      <td>875747190</td>\n",
       "    </tr>\n",
       "    <tr>\n",
       "      <th>2</th>\n",
       "      <td>226</td>\n",
       "      <td>242</td>\n",
       "      <td>5.0</td>\n",
       "      <td>883888671</td>\n",
       "    </tr>\n",
       "    <tr>\n",
       "      <th>3</th>\n",
       "      <td>154</td>\n",
       "      <td>242</td>\n",
       "      <td>3.0</td>\n",
       "      <td>879138235</td>\n",
       "    </tr>\n",
       "    <tr>\n",
       "      <th>4</th>\n",
       "      <td>306</td>\n",
       "      <td>242</td>\n",
       "      <td>5.0</td>\n",
       "      <td>876503793</td>\n",
       "    </tr>\n",
       "  </tbody>\n",
       "</table>\n",
       "</div>"
      ],
      "text/plain": [
       "   userID  itemID  rating  timestamp\n",
       "0     196     242     3.0  881250949\n",
       "1      63     242     3.0  875747190\n",
       "2     226     242     5.0  883888671\n",
       "3     154     242     3.0  879138235\n",
       "4     306     242     5.0  876503793"
      ]
     },
     "execution_count": 7,
     "metadata": {},
     "output_type": "execute_result"
    }
   ],
   "source": [
    "df = data_full[['userID', 'itemID', 'rating', 'timestamp']]\n",
    "df.head()"
   ]
  },
  {
   "cell_type": "code",
   "execution_count": 9,
   "id": "417bddbe-982b-45a7-be85-f8cd973754bc",
   "metadata": {},
   "outputs": [
    {
     "name": "stdout",
     "output_type": "stream",
     "text": [
      "Spark df created, info: \n",
      "\n",
      "root\n",
      " |-- UserId: integer (nullable = true)\n",
      " |-- MovieId: integer (nullable = true)\n",
      " |-- Rating: float (nullable = true)\n",
      " |-- Timestamp: long (nullable = true)\n",
      " |-- title: string (nullable = true)\n",
      " |-- genres: string (nullable = true)\n",
      "\n",
      "+------+-------+------+---------+------------+------+\n",
      "|UserId|MovieId|Rating|Timestamp|       title|genres|\n",
      "+------+-------+------+---------+------------+------+\n",
      "|   196|    242|   3.0|881250949|Kolya (1996)|Comedy|\n",
      "|    63|    242|   3.0|875747190|Kolya (1996)|Comedy|\n",
      "|   226|    242|   5.0|883888671|Kolya (1996)|Comedy|\n",
      "|   154|    242|   3.0|879138235|Kolya (1996)|Comedy|\n",
      "|   306|    242|   5.0|876503793|Kolya (1996)|Comedy|\n",
      "+------+-------+------+---------+------------+------+\n",
      "only showing top 5 rows\n",
      "\n"
     ]
    }
   ],
   "source": [
    "data_full_spark = fun.movielens_to_spark(data_full, schema = fun.get_movielens_schema())"
   ]
  },
  {
   "cell_type": "code",
   "execution_count": 10,
   "id": "7079c106-5c00-4db9-b191-ca72da9a0b08",
   "metadata": {},
   "outputs": [],
   "source": [
    "feature_data = fun.create_feature_data(data_full_spark)"
   ]
  },
  {
   "cell_type": "code",
   "execution_count": 15,
   "id": "dcdd4f7e-6e25-4c6d-8b99-d814bf7f84b4",
   "metadata": {
    "tags": []
   },
   "outputs": [
    {
     "data": {
      "text/html": [
       "<div>\n",
       "<style scoped>\n",
       "    .dataframe tbody tr th:only-of-type {\n",
       "        vertical-align: middle;\n",
       "    }\n",
       "\n",
       "    .dataframe tbody tr th {\n",
       "        vertical-align: top;\n",
       "    }\n",
       "\n",
       "    .dataframe thead th {\n",
       "        text-align: right;\n",
       "    }\n",
       "</style>\n",
       "<table border=\"1\" class=\"dataframe\">\n",
       "  <thead>\n",
       "    <tr style=\"text-align: right;\">\n",
       "      <th></th>\n",
       "      <th>userID</th>\n",
       "      <th>itemID</th>\n",
       "      <th>rating</th>\n",
       "      <th>timestamp</th>\n",
       "    </tr>\n",
       "  </thead>\n",
       "  <tbody>\n",
       "    <tr>\n",
       "      <th>10732</th>\n",
       "      <td>1</td>\n",
       "      <td>232</td>\n",
       "      <td>3.0</td>\n",
       "      <td>878543196</td>\n",
       "    </tr>\n",
       "    <tr>\n",
       "      <th>43023</th>\n",
       "      <td>1</td>\n",
       "      <td>66</td>\n",
       "      <td>4.0</td>\n",
       "      <td>878543030</td>\n",
       "    </tr>\n",
       "    <tr>\n",
       "      <th>30062</th>\n",
       "      <td>1</td>\n",
       "      <td>106</td>\n",
       "      <td>4.0</td>\n",
       "      <td>875241390</td>\n",
       "    </tr>\n",
       "    <tr>\n",
       "      <th>46315</th>\n",
       "      <td>1</td>\n",
       "      <td>97</td>\n",
       "      <td>3.0</td>\n",
       "      <td>875073128</td>\n",
       "    </tr>\n",
       "    <tr>\n",
       "      <th>69919</th>\n",
       "      <td>1</td>\n",
       "      <td>73</td>\n",
       "      <td>3.0</td>\n",
       "      <td>876892774</td>\n",
       "    </tr>\n",
       "  </tbody>\n",
       "</table>\n",
       "</div>"
      ],
      "text/plain": [
       "       userID  itemID  rating  timestamp\n",
       "10732       1     232     3.0  878543196\n",
       "43023       1      66     4.0  878543030\n",
       "30062       1     106     4.0  875241390\n",
       "46315       1      97     3.0  875073128\n",
       "69919       1      73     3.0  876892774"
      ]
     },
     "execution_count": 15,
     "metadata": {},
     "output_type": "execute_result"
    }
   ],
   "source": [
    "train, test = python_stratified_split(df, ratio=0.75)\n",
    "train.head()"
   ]
  },
  {
   "cell_type": "code",
   "execution_count": 18,
   "id": "bbf8c34c-2d10-47c5-86f3-f9207d95b563",
   "metadata": {},
   "outputs": [],
   "source": [
    " traintestschema = StructType(\n",
    "    (StructField(\"UserId\", IntegerType()),\n",
    "    StructField(\"MovieId\", IntegerType()),\n",
    "    StructField(\"Rating\", FloatType()),\n",
    "    StructField(\"Timestamp\", LongType())))"
   ]
  },
  {
   "cell_type": "code",
   "execution_count": 20,
   "id": "0d94de55-63f0-40e3-8f45-5139b9fea314",
   "metadata": {},
   "outputs": [
    {
     "name": "stdout",
     "output_type": "stream",
     "text": [
      "Spark df created, info: \n",
      "\n",
      "root\n",
      " |-- UserId: integer (nullable = true)\n",
      " |-- MovieId: integer (nullable = true)\n",
      " |-- Rating: float (nullable = true)\n",
      " |-- Timestamp: long (nullable = true)\n",
      "\n",
      "+------+-------+------+---------+\n",
      "|UserId|MovieId|Rating|Timestamp|\n",
      "+------+-------+------+---------+\n",
      "|     1|    232|   3.0|878543196|\n",
      "|     1|     66|   4.0|878543030|\n",
      "|     1|    106|   4.0|875241390|\n",
      "|     1|     97|   3.0|875073128|\n",
      "|     1|     73|   3.0|876892774|\n",
      "+------+-------+------+---------+\n",
      "only showing top 5 rows\n",
      "\n",
      "Spark df created, info: \n",
      "\n",
      "root\n",
      " |-- UserId: integer (nullable = true)\n",
      " |-- MovieId: integer (nullable = true)\n",
      " |-- Rating: float (nullable = true)\n",
      " |-- Timestamp: long (nullable = true)\n",
      "\n",
      "+------+-------+------+---------+\n",
      "|UserId|MovieId|Rating|Timestamp|\n",
      "+------+-------+------+---------+\n",
      "|     1|     49|   3.0|878542478|\n",
      "|     1|     69|   3.0|875072262|\n",
      "|     1|    221|   5.0|887431921|\n",
      "|     1|      5|   3.0|889751712|\n",
      "|     1|    139|   3.0|878543216|\n",
      "+------+-------+------+---------+\n",
      "only showing top 5 rows\n",
      "\n"
     ]
    }
   ],
   "source": [
    "train_df_spark = fun.movielens_to_spark(train, schema = traintestschema)\n",
    "test_df_spark = fun.movielens_to_spark(test, schema = traintestschema)"
   ]
  },
  {
   "cell_type": "markdown",
   "id": "1c2ad884-bf7a-46a7-9bf9-1707a6f1d3e2",
   "metadata": {},
   "source": [
    "## Train and predict LightGCN"
   ]
  },
  {
   "cell_type": "code",
   "execution_count": 25,
   "id": "1695502d-c846-4ba6-a5ae-4c25d219fa5b",
   "metadata": {
    "tags": []
   },
   "outputs": [],
   "source": [
    "data = ImplicitCF(train=train, test=test, seed=SEED)\n",
    "hparams = prepare_hparams(yaml_file,\n",
    "                          n_layers=3,\n",
    "                          batch_size=BATCH_SIZE,\n",
    "                          epochs=EPOCHS,\n",
    "                          learning_rate=0.005,\n",
    "                          eval_epoch=5,\n",
    "                          top_k=TOP_K,\n",
    "                         )"
   ]
  },
  {
   "cell_type": "code",
   "execution_count": 26,
   "id": "1ff671c5-3d85-456a-8282-2b3167b41bac",
   "metadata": {
    "tags": []
   },
   "outputs": [
    {
     "name": "stdout",
     "output_type": "stream",
     "text": [
      "Already create adjacency matrix.\n",
      "Already normalize adjacency matrix.\n",
      "Using xavier initialization.\n"
     ]
    }
   ],
   "source": [
    "model = LightGCN(hparams, data, seed=SEED)"
   ]
  },
  {
   "cell_type": "code",
   "execution_count": 27,
   "id": "438b08ac-feac-4a38-9ba6-79e70386916b",
   "metadata": {
    "tags": []
   },
   "outputs": [
    {
     "name": "stdout",
     "output_type": "stream",
     "text": [
      "Epoch 1 (train)3.8s: train loss = 0.46603 = (mf)0.46579 + (embed)0.00025\n",
      "Epoch 2 (train)3.2s: train loss = 0.27655 = (mf)0.27590 + (embed)0.00065\n",
      "Epoch 3 (train)3.2s: train loss = 0.24837 = (mf)0.24756 + (embed)0.00081\n",
      "Epoch 4 (train)3.4s: train loss = 0.23141 = (mf)0.23043 + (embed)0.00098\n",
      "Epoch 5 (train)3.3s + (eval)0.3s: train loss = 0.22196 = (mf)0.22085 + (embed)0.00111, recall = 0.22025, ndcg = 0.29547, precision = 0.22450, map = 0.09192\n",
      "Epoch 6 (train)3.4s: train loss = 0.21733 = (mf)0.21612 + (embed)0.00121\n",
      "Epoch 7 (train)3.4s: train loss = 0.21148 = (mf)0.21018 + (embed)0.00130\n",
      "Epoch 8 (train)3.4s: train loss = 0.20132 = (mf)0.19991 + (embed)0.00141\n",
      "Epoch 9 (train)3.4s: train loss = 0.19043 = (mf)0.18887 + (embed)0.00156\n",
      "Epoch 10 (train)3.3s + (eval)0.2s: train loss = 0.18149 = (mf)0.17975 + (embed)0.00173, recall = 0.25896, ndcg = 0.33969, precision = 0.26448, map = 0.11191\n",
      "Epoch 11 (train)3.4s: train loss = 0.17338 = (mf)0.17149 + (embed)0.00189\n",
      "Epoch 12 (train)3.3s: train loss = 0.16790 = (mf)0.16585 + (embed)0.00205\n",
      "Epoch 13 (train)3.2s: train loss = 0.16513 = (mf)0.16295 + (embed)0.00218\n",
      "Epoch 14 (train)3.3s: train loss = 0.16267 = (mf)0.16037 + (embed)0.00230\n",
      "Epoch 15 (train)3.3s + (eval)0.2s: train loss = 0.15904 = (mf)0.15666 + (embed)0.00238, recall = 0.26972, ndcg = 0.35268, precision = 0.27227, map = 0.11918\n",
      "Epoch 16 (train)3.3s: train loss = 0.15626 = (mf)0.15377 + (embed)0.00249\n",
      "Epoch 17 (train)3.3s: train loss = 0.15328 = (mf)0.15069 + (embed)0.00259\n",
      "Epoch 18 (train)3.2s: train loss = 0.15185 = (mf)0.14917 + (embed)0.00268\n",
      "Epoch 19 (train)3.4s: train loss = 0.15176 = (mf)0.14898 + (embed)0.00277\n",
      "Epoch 20 (train)3.4s + (eval)0.2s: train loss = 0.14940 = (mf)0.14652 + (embed)0.00288, recall = 0.27919, ndcg = 0.36628, precision = 0.28171, map = 0.12723\n",
      "Epoch 21 (train)3.2s: train loss = 0.14583 = (mf)0.14286 + (embed)0.00298\n",
      "Epoch 22 (train)3.3s: train loss = 0.14239 = (mf)0.13929 + (embed)0.00309\n",
      "Epoch 23 (train)3.3s: train loss = 0.13964 = (mf)0.13643 + (embed)0.00321\n",
      "Epoch 24 (train)3.3s: train loss = 0.13573 = (mf)0.13241 + (embed)0.00332\n",
      "Epoch 25 (train)3.4s + (eval)0.2s: train loss = 0.13906 = (mf)0.13563 + (embed)0.00343, recall = 0.29167, ndcg = 0.38404, precision = 0.29152, map = 0.13826\n",
      "Epoch 26 (train)3.4s: train loss = 0.13174 = (mf)0.12821 + (embed)0.00353\n",
      "Epoch 27 (train)3.4s: train loss = 0.13121 = (mf)0.12756 + (embed)0.00365\n",
      "Epoch 28 (train)3.4s: train loss = 0.12833 = (mf)0.12457 + (embed)0.00377\n",
      "Epoch 29 (train)3.4s: train loss = 0.12945 = (mf)0.12557 + (embed)0.00389\n",
      "Epoch 30 (train)3.4s + (eval)0.2s: train loss = 0.12604 = (mf)0.12205 + (embed)0.00398, recall = 0.29713, ndcg = 0.39721, precision = 0.29735, map = 0.14717\n",
      "Epoch 31 (train)3.5s: train loss = 0.12606 = (mf)0.12194 + (embed)0.00411\n",
      "Epoch 32 (train)3.4s: train loss = 0.12419 = (mf)0.11995 + (embed)0.00424\n",
      "Epoch 33 (train)3.4s: train loss = 0.11846 = (mf)0.11411 + (embed)0.00434\n",
      "Epoch 34 (train)3.4s: train loss = 0.11768 = (mf)0.11321 + (embed)0.00447\n",
      "Epoch 35 (train)3.4s + (eval)0.2s: train loss = 0.11633 = (mf)0.11175 + (embed)0.00458, recall = 0.30360, ndcg = 0.40535, precision = 0.30265, map = 0.15266\n",
      "Epoch 36 (train)3.4s: train loss = 0.11637 = (mf)0.11167 + (embed)0.00470\n",
      "Epoch 37 (train)3.4s: train loss = 0.11502 = (mf)0.11020 + (embed)0.00482\n",
      "Epoch 38 (train)3.5s: train loss = 0.11236 = (mf)0.10743 + (embed)0.00493\n",
      "Epoch 39 (train)3.5s: train loss = 0.11160 = (mf)0.10654 + (embed)0.00506\n",
      "Epoch 40 (train)3.5s + (eval)0.2s: train loss = 0.10990 = (mf)0.10472 + (embed)0.00517, recall = 0.30905, ndcg = 0.41259, precision = 0.30806, map = 0.15743\n",
      "Epoch 41 (train)3.4s: train loss = 0.11042 = (mf)0.10513 + (embed)0.00529\n",
      "Epoch 42 (train)3.5s: train loss = 0.10643 = (mf)0.10102 + (embed)0.00541\n",
      "Epoch 43 (train)3.5s: train loss = 0.10310 = (mf)0.09758 + (embed)0.00553\n",
      "Epoch 44 (train)3.5s: train loss = 0.10234 = (mf)0.09667 + (embed)0.00567\n",
      "Epoch 45 (train)3.4s + (eval)0.2s: train loss = 0.10201 = (mf)0.09622 + (embed)0.00579, recall = 0.31221, ndcg = 0.41440, precision = 0.31055, map = 0.15764\n",
      "Epoch 46 (train)3.4s: train loss = 0.10023 = (mf)0.09430 + (embed)0.00593\n",
      "Epoch 47 (train)3.3s: train loss = 0.10182 = (mf)0.09577 + (embed)0.00605\n",
      "Epoch 48 (train)3.4s: train loss = 0.10048 = (mf)0.09431 + (embed)0.00617\n",
      "Epoch 49 (train)3.4s: train loss = 0.09863 = (mf)0.09234 + (embed)0.00629\n",
      "Epoch 50 (train)3.4s + (eval)0.2s: train loss = 0.09532 = (mf)0.08889 + (embed)0.00643, recall = 0.31594, ndcg = 0.42061, precision = 0.31479, map = 0.16081\n",
      "Took 171.3805738016963 seconds for training.\n"
     ]
    }
   ],
   "source": [
    "with Timer() as train_time:\n",
    "    model.fit()\n",
    "\n",
    "print(\"Took {} seconds for training.\".format(train_time.interval))"
   ]
  },
  {
   "cell_type": "code",
   "execution_count": 28,
   "id": "b391820e-a3f4-4593-b690-0faa79a0acab",
   "metadata": {
    "tags": []
   },
   "outputs": [
    {
     "name": "stdout",
     "output_type": "stream",
     "text": [
      "<class 'pandas.core.frame.DataFrame'>\n"
     ]
    },
    {
     "data": {
      "text/html": [
       "<div>\n",
       "<style scoped>\n",
       "    .dataframe tbody tr th:only-of-type {\n",
       "        vertical-align: middle;\n",
       "    }\n",
       "\n",
       "    .dataframe tbody tr th {\n",
       "        vertical-align: top;\n",
       "    }\n",
       "\n",
       "    .dataframe thead th {\n",
       "        text-align: right;\n",
       "    }\n",
       "</style>\n",
       "<table border=\"1\" class=\"dataframe\">\n",
       "  <thead>\n",
       "    <tr style=\"text-align: right;\">\n",
       "      <th></th>\n",
       "      <th>userID</th>\n",
       "      <th>itemID</th>\n",
       "      <th>prediction</th>\n",
       "    </tr>\n",
       "  </thead>\n",
       "  <tbody>\n",
       "    <tr>\n",
       "      <th>0</th>\n",
       "      <td>1</td>\n",
       "      <td>98</td>\n",
       "      <td>5.605151</td>\n",
       "    </tr>\n",
       "    <tr>\n",
       "      <th>1</th>\n",
       "      <td>1</td>\n",
       "      <td>423</td>\n",
       "      <td>5.212590</td>\n",
       "    </tr>\n",
       "    <tr>\n",
       "      <th>2</th>\n",
       "      <td>1</td>\n",
       "      <td>69</td>\n",
       "      <td>5.202886</td>\n",
       "    </tr>\n",
       "    <tr>\n",
       "      <th>3</th>\n",
       "      <td>1</td>\n",
       "      <td>919</td>\n",
       "      <td>5.160752</td>\n",
       "    </tr>\n",
       "    <tr>\n",
       "      <th>4</th>\n",
       "      <td>1</td>\n",
       "      <td>408</td>\n",
       "      <td>5.160678</td>\n",
       "    </tr>\n",
       "  </tbody>\n",
       "</table>\n",
       "</div>"
      ],
      "text/plain": [
       "   userID  itemID  prediction\n",
       "0       1      98    5.605151\n",
       "1       1     423    5.212590\n",
       "2       1      69    5.202886\n",
       "3       1     919    5.160752\n",
       "4       1     408    5.160678"
      ]
     },
     "execution_count": 28,
     "metadata": {},
     "output_type": "execute_result"
    }
   ],
   "source": [
    "topk_scores = model.recommend_k_items(test, top_k=TOP_K, remove_seen=True)\n",
    "print(type(topk_scores))\n",
    "topk_scores.head()"
   ]
  },
  {
   "cell_type": "markdown",
   "id": "fe213607-872a-44ab-9a82-88d689ac8683",
   "metadata": {},
   "source": [
    "## Evaluate"
   ]
  },
  {
   "cell_type": "markdown",
   "id": "48d00db7-9910-4add-a14c-aa45dee2ab78",
   "metadata": {},
   "source": [
    "### Use recommenders example approach for precision and recall"
   ]
  },
  {
   "cell_type": "markdown",
   "id": "617e860e-f836-491d-8ac6-4908bfda5256",
   "metadata": {},
   "source": [
    "eval_precision = precision_at_k(test, topk_scores, k=TOP_K)\n",
    "eval_recall = recall_at_k(test, topk_scores, k=TOP_K)\n",
    "\n",
    "print(\"Precision@K:\\t%f\" % eval_precision,\n",
    "      \"Recall@K:\\t%f\" % eval_recall, sep='\\n')"
   ]
  },
  {
   "cell_type": "markdown",
   "id": "4e984594-a5b4-431a-8797-1d25d0d3a82c",
   "metadata": {},
   "source": [
    "### Use our methods for diversity metrics,leave ratings as NA"
   ]
  },
  {
   "cell_type": "code",
   "execution_count": 30,
   "id": "d62803c5-18af-4d78-99d8-eae3152be275",
   "metadata": {},
   "outputs": [
    {
     "name": "stdout",
     "output_type": "stream",
     "text": [
      "Spark df created, info: \n",
      "\n",
      "root\n",
      " |-- UserId: integer (nullable = true)\n",
      " |-- MovieId: integer (nullable = true)\n",
      " |-- prediction: float (nullable = true)\n",
      "\n",
      "+------+-------+----------+\n",
      "|UserId|MovieId|prediction|\n",
      "+------+-------+----------+\n",
      "|     1|     98| 5.6051507|\n",
      "|     1|    423| 5.2125897|\n",
      "|     1|     69|  5.202886|\n",
      "|     1|    919|  5.160752|\n",
      "|     1|    408|  5.160678|\n",
      "+------+-------+----------+\n",
      "only showing top 5 rows\n",
      "\n"
     ]
    }
   ],
   "source": [
    "topk_spark = fun.movielens_to_spark(topk_scores, schema = fun.get_predictions_schema())"
   ]
  },
  {
   "cell_type": "code",
   "execution_count": 33,
   "id": "e91be7ae-c11d-4a6e-be14-d4bde55a5bfa",
   "metadata": {},
   "outputs": [],
   "source": [
    "def get_diversity_results(diversity_eval):\n",
    "    metrics = {\n",
    "        \"catalog_coverage\":diversity_eval.catalog_coverage(),\n",
    "        \"distributional_coverage\":diversity_eval.distributional_coverage(), \n",
    "        \"novelty\": diversity_eval.novelty(), \n",
    "        \"diversity\": diversity_eval.diversity(), \n",
    "        \"serendipity\": diversity_eval.serendipity()\n",
    "    }\n",
    "    return metrics"
   ]
  },
  {
   "cell_type": "markdown",
   "id": "6a95bb76-faad-4791-8139-acf5948c0042",
   "metadata": {},
   "source": [
    "Collaborative"
   ]
  },
  {
   "cell_type": "code",
   "execution_count": 34,
   "id": "bf162171-227f-4f33-9ca6-acd14a965199",
   "metadata": {
    "tags": []
   },
   "outputs": [],
   "source": [
    "collaborative_diversity_eval = SparkDiversityEvaluation(\n",
    "        train_df = train_df_spark, \n",
    "        reco_df = topk_spark,\n",
    "        col_user = \"UserId\", \n",
    "        col_item = \"MovieId\"\n",
    "    )\n",
    "diversity_collaborative = get_diversity_results(collaborative_diversity_eval)"
   ]
  },
  {
   "cell_type": "code",
   "execution_count": 37,
   "id": "2947752b-2965-47a8-8ede-d8e57025f91d",
   "metadata": {},
   "outputs": [
    {
     "name": "stdout",
     "output_type": "stream",
     "text": [
      "Collaborative diversity:\t0.673293\n",
      "Collaborative serendipity:\t0.725411\n",
      "Collaborative novelty:\t8.863385\n"
     ]
    }
   ],
   "source": [
    "print(\"Collaborative diversity:\\t%f\" % diversity_collaborative['diversity'],\n",
    "      \"Collaborative serendipity:\\t%f\" % diversity_collaborative['serendipity'], \n",
    "     \"Collaborative novelty:\\t%f\" % diversity_collaborative['novelty'], sep='\\n')"
   ]
  },
  {
   "cell_type": "markdown",
   "id": "a64a3796-2a82-4f83-844b-3c83901b4c64",
   "metadata": {},
   "source": [
    "Content"
   ]
  },
  {
   "cell_type": "code",
   "execution_count": 36,
   "id": "c2b18565-be19-433f-9891-d2ccaf58b0c0",
   "metadata": {
    "tags": []
   },
   "outputs": [],
   "source": [
    "content_diversity_eval = SparkDiversityEvaluation(\n",
    "        train_df = train_df_spark, \n",
    "        reco_df = topk_spark,\n",
    "        item_feature_df = feature_data, \n",
    "        item_sim_measure=\"item_feature_vector\",\n",
    "        col_user = \"UserId\", \n",
    "        col_item = \"MovieId\"\n",
    "    )\n",
    "diversity_content = get_diversity_results(content_diversity_eval)"
   ]
  },
  {
   "cell_type": "code",
   "execution_count": 38,
   "id": "2e5171f5-0e81-432d-a7ec-afb2f283a258",
   "metadata": {},
   "outputs": [
    {
     "name": "stdout",
     "output_type": "stream",
     "text": [
      "Content diversity:\t0.845239\n",
      "Content serendipity:\t0.857982\n",
      "Content novelty:\t8.863385\n"
     ]
    }
   ],
   "source": [
    "print(\"Content diversity:\\t%f\" % diversity_content['diversity'],\n",
    "      \"Content serendipity:\\t%f\" % diversity_content['serendipity'], \n",
    "     \"Content novelty:\\t%f\" % diversity_content['novelty'], sep='\\n')"
   ]
  },
  {
   "cell_type": "code",
   "execution_count": null,
   "id": "5d829e91-85c9-4632-8292-00cace9825f4",
   "metadata": {},
   "outputs": [],
   "source": []
  }
 ],
 "metadata": {
  "kernelspec": {
   "display_name": "condarec",
   "language": "python",
   "name": "condarec"
  },
  "language_info": {
   "codemirror_mode": {
    "name": "ipython",
    "version": 3
   },
   "file_extension": ".py",
   "mimetype": "text/x-python",
   "name": "python",
   "nbconvert_exporter": "python",
   "pygments_lexer": "ipython3",
   "version": "3.7.0"
  }
 },
 "nbformat": 4,
 "nbformat_minor": 5
}
