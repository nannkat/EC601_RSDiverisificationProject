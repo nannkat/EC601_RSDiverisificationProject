{
 "cells": [
  {
   "cell_type": "code",
   "execution_count": 1,
   "id": "c51b787b-19eb-4222-afa9-e0576e9b21df",
   "metadata": {},
   "outputs": [],
   "source": [
    "%load_ext autoreload\n",
    "%autoreload 2\n",
    "\n",
    "import sys\n",
    "import os\n",
    "import numpy as np\n",
    "import surprise\n",
    "import papermill as pm\n",
    "import scrapbook as sb\n",
    "import pandas as pd\n",
    "\n",
    "\n",
    "import pyspark\n",
    "from pyspark.ml.recommendation import ALS\n",
    "import pyspark.sql.functions as F\n",
    "from pyspark.sql import SparkSession\n",
    "from pyspark.sql.types import StringType, FloatType, IntegerType, LongType, StructType, StructField\n",
    "from pyspark.ml.feature import Tokenizer, RegexTokenizer, StopWordsRemover\n",
    "from pyspark.ml.feature import HashingTF, CountVectorizer, VectorAssembler\n",
    "from pyspark.sql.window import Window\n",
    "import pyspark.sql.functions as F\n",
    "\n",
    "from recommenders.utils.timer import Timer\n",
    "from recommenders.datasets import movielens\n",
    "from recommenders.utils.notebook_utils import is_jupyter\n",
    "from recommenders.datasets.python_splitters import python_random_split\n",
    "from recommenders.datasets.spark_splitters import spark_random_split\n",
    "from recommenders.evaluation.python_evaluation import (rmse, mae, rsquared, exp_var, map_at_k, ndcg_at_k, precision_at_k, \n",
    "                                                     recall_at_k, get_top_k_items)\n",
    "from recommenders.models.surprise.surprise_utils import predict, compute_ranking_predictions\n",
    "from recommenders.evaluation.spark_evaluation import SparkRatingEvaluation, SparkRankingEvaluation, SparkDiversityEvaluation\n",
    "from recommenders.utils.spark_utils import start_or_get_spark"
   ]
  },
  {
   "cell_type": "code",
   "execution_count": 13,
   "id": "6f0f6b8c-d8fa-48ec-8d72-b75e652ba4e7",
   "metadata": {},
   "outputs": [],
   "source": [
    "import fun"
   ]
  },
  {
   "cell_type": "code",
   "execution_count": 3,
   "id": "e396f61f-c68d-45e5-b6dc-b80cbbb8dc94",
   "metadata": {},
   "outputs": [],
   "source": [
    "#constants\n",
    "COL_USER= \"UserId\"\n",
    "COL_ITEM= \"MovieId\"\n",
    "COL_RATING= \"Rating\"\n",
    "COL_TITLE = \"title\"\n",
    "COL_GENRES =\"genres\"\n",
    "TOP_K = 10"
   ]
  },
  {
   "cell_type": "code",
   "execution_count": 4,
   "id": "44067a03-c77b-4ad6-9b36-e657f831f99f",
   "metadata": {},
   "outputs": [
    {
     "name": "stderr",
     "output_type": "stream",
     "text": [
      "100%|██████████| 4.81k/4.81k [00:00<00:00, 14.6kKB/s]\n"
     ]
    },
    {
     "data": {
      "text/html": [
       "<div>\n",
       "<style scoped>\n",
       "    .dataframe tbody tr th:only-of-type {\n",
       "        vertical-align: middle;\n",
       "    }\n",
       "\n",
       "    .dataframe tbody tr th {\n",
       "        vertical-align: top;\n",
       "    }\n",
       "\n",
       "    .dataframe thead th {\n",
       "        text-align: right;\n",
       "    }\n",
       "</style>\n",
       "<table border=\"1\" class=\"dataframe\">\n",
       "  <thead>\n",
       "    <tr style=\"text-align: right;\">\n",
       "      <th></th>\n",
       "      <th>UserId</th>\n",
       "      <th>MovieId</th>\n",
       "      <th>Rating</th>\n",
       "      <th>Timestamp</th>\n",
       "      <th>title</th>\n",
       "      <th>genres</th>\n",
       "    </tr>\n",
       "  </thead>\n",
       "  <tbody>\n",
       "    <tr>\n",
       "      <th>0</th>\n",
       "      <td>196</td>\n",
       "      <td>242</td>\n",
       "      <td>3.0</td>\n",
       "      <td>881250949</td>\n",
       "      <td>Kolya (1996)</td>\n",
       "      <td>Comedy</td>\n",
       "    </tr>\n",
       "    <tr>\n",
       "      <th>1</th>\n",
       "      <td>63</td>\n",
       "      <td>242</td>\n",
       "      <td>3.0</td>\n",
       "      <td>875747190</td>\n",
       "      <td>Kolya (1996)</td>\n",
       "      <td>Comedy</td>\n",
       "    </tr>\n",
       "    <tr>\n",
       "      <th>2</th>\n",
       "      <td>226</td>\n",
       "      <td>242</td>\n",
       "      <td>5.0</td>\n",
       "      <td>883888671</td>\n",
       "      <td>Kolya (1996)</td>\n",
       "      <td>Comedy</td>\n",
       "    </tr>\n",
       "    <tr>\n",
       "      <th>3</th>\n",
       "      <td>154</td>\n",
       "      <td>242</td>\n",
       "      <td>3.0</td>\n",
       "      <td>879138235</td>\n",
       "      <td>Kolya (1996)</td>\n",
       "      <td>Comedy</td>\n",
       "    </tr>\n",
       "    <tr>\n",
       "      <th>4</th>\n",
       "      <td>306</td>\n",
       "      <td>242</td>\n",
       "      <td>5.0</td>\n",
       "      <td>876503793</td>\n",
       "      <td>Kolya (1996)</td>\n",
       "      <td>Comedy</td>\n",
       "    </tr>\n",
       "  </tbody>\n",
       "</table>\n",
       "</div>"
      ],
      "text/plain": [
       "   UserId  MovieId  Rating  Timestamp         title  genres\n",
       "0     196      242     3.0  881250949  Kolya (1996)  Comedy\n",
       "1      63      242     3.0  875747190  Kolya (1996)  Comedy\n",
       "2     226      242     5.0  883888671  Kolya (1996)  Comedy\n",
       "3     154      242     3.0  879138235  Kolya (1996)  Comedy\n",
       "4     306      242     5.0  876503793  Kolya (1996)  Comedy"
      ]
     },
     "execution_count": 4,
     "metadata": {},
     "output_type": "execute_result"
    }
   ],
   "source": [
    "MOVIELENS_DATA_SIZE = '100k'\n",
    "\n",
    "# topk, user, item column names\n",
    "TOP_K = 10\n",
    "\n",
    "spark = start_or_get_spark(\"ALS PySpark\", memory=\"16g\")\n",
    "spark.conf.set(\"spark.sql.crossJoin.enabled\", \"true\")\n",
    "spark\n",
    "\n",
    "data_full = movielens.load_pandas_df(\n",
    "    size=MOVIELENS_DATA_SIZE,\n",
    "    header=['UserId', 'MovieId', 'Rating', 'Timestamp'],\n",
    "    title_col='title',\n",
    "    genres_col='genres'\n",
    ")\n",
    "\n",
    "data_full.head()"
   ]
  },
  {
   "cell_type": "markdown",
   "id": "b400ba40-7061-472a-83db-5af72c44e06c",
   "metadata": {},
   "source": [
    "## Dataset conversion"
   ]
  },
  {
   "cell_type": "code",
   "execution_count": 5,
   "id": "1a4e3fdf-deb0-4e9c-be17-316811068c2c",
   "metadata": {},
   "outputs": [
    {
     "name": "stdout",
     "output_type": "stream",
     "text": [
      "Spark df created, info: \n",
      "\n",
      "root\n",
      " |-- UserId: integer (nullable = true)\n",
      " |-- MovieId: integer (nullable = true)\n",
      " |-- Rating: float (nullable = true)\n",
      " |-- Timestamp: long (nullable = true)\n",
      " |-- title: string (nullable = true)\n",
      " |-- genres: string (nullable = true)\n",
      "\n",
      "+------+-------+------+---------+------------+------+\n",
      "|UserId|MovieId|Rating|Timestamp|       title|genres|\n",
      "+------+-------+------+---------+------------+------+\n",
      "|   196|    242|   3.0|881250949|Kolya (1996)|Comedy|\n",
      "|    63|    242|   3.0|875747190|Kolya (1996)|Comedy|\n",
      "|   226|    242|   5.0|883888671|Kolya (1996)|Comedy|\n",
      "|   154|    242|   3.0|879138235|Kolya (1996)|Comedy|\n",
      "|   306|    242|   5.0|876503793|Kolya (1996)|Comedy|\n",
      "+------+-------+------+---------+------------+------+\n",
      "only showing top 5 rows\n",
      "\n"
     ]
    }
   ],
   "source": [
    "data_full_spark = fun.movielens_to_spark(data_full, schema = fun.get_movielens_schema())"
   ]
  },
  {
   "cell_type": "code",
   "execution_count": 10,
   "id": "420406e5-14c8-43c1-bbd4-033196d88e47",
   "metadata": {},
   "outputs": [],
   "source": [
    "data_full_reversed = fun.movielens_to_pandas(data_full_spark)"
   ]
  },
  {
   "cell_type": "code",
   "execution_count": 11,
   "id": "08002339-cc83-485b-a6bd-ef71d5db0f14",
   "metadata": {},
   "outputs": [
    {
     "data": {
      "text/html": [
       "<div>\n",
       "<style scoped>\n",
       "    .dataframe tbody tr th:only-of-type {\n",
       "        vertical-align: middle;\n",
       "    }\n",
       "\n",
       "    .dataframe tbody tr th {\n",
       "        vertical-align: top;\n",
       "    }\n",
       "\n",
       "    .dataframe thead th {\n",
       "        text-align: right;\n",
       "    }\n",
       "</style>\n",
       "<table border=\"1\" class=\"dataframe\">\n",
       "  <thead>\n",
       "    <tr style=\"text-align: right;\">\n",
       "      <th></th>\n",
       "      <th>UserId</th>\n",
       "      <th>MovieId</th>\n",
       "      <th>Rating</th>\n",
       "      <th>Timestamp</th>\n",
       "      <th>title</th>\n",
       "      <th>genres</th>\n",
       "    </tr>\n",
       "  </thead>\n",
       "  <tbody>\n",
       "    <tr>\n",
       "      <th>0</th>\n",
       "      <td>196</td>\n",
       "      <td>242</td>\n",
       "      <td>3.0</td>\n",
       "      <td>881250949</td>\n",
       "      <td>Kolya (1996)</td>\n",
       "      <td>Comedy</td>\n",
       "    </tr>\n",
       "    <tr>\n",
       "      <th>1</th>\n",
       "      <td>63</td>\n",
       "      <td>242</td>\n",
       "      <td>3.0</td>\n",
       "      <td>875747190</td>\n",
       "      <td>Kolya (1996)</td>\n",
       "      <td>Comedy</td>\n",
       "    </tr>\n",
       "    <tr>\n",
       "      <th>2</th>\n",
       "      <td>226</td>\n",
       "      <td>242</td>\n",
       "      <td>5.0</td>\n",
       "      <td>883888671</td>\n",
       "      <td>Kolya (1996)</td>\n",
       "      <td>Comedy</td>\n",
       "    </tr>\n",
       "    <tr>\n",
       "      <th>3</th>\n",
       "      <td>154</td>\n",
       "      <td>242</td>\n",
       "      <td>3.0</td>\n",
       "      <td>879138235</td>\n",
       "      <td>Kolya (1996)</td>\n",
       "      <td>Comedy</td>\n",
       "    </tr>\n",
       "    <tr>\n",
       "      <th>4</th>\n",
       "      <td>306</td>\n",
       "      <td>242</td>\n",
       "      <td>5.0</td>\n",
       "      <td>876503793</td>\n",
       "      <td>Kolya (1996)</td>\n",
       "      <td>Comedy</td>\n",
       "    </tr>\n",
       "  </tbody>\n",
       "</table>\n",
       "</div>"
      ],
      "text/plain": [
       "   UserId  MovieId  Rating  Timestamp         title  genres\n",
       "0     196      242     3.0  881250949  Kolya (1996)  Comedy\n",
       "1      63      242     3.0  875747190  Kolya (1996)  Comedy\n",
       "2     226      242     5.0  883888671  Kolya (1996)  Comedy\n",
       "3     154      242     3.0  879138235  Kolya (1996)  Comedy\n",
       "4     306      242     5.0  876503793  Kolya (1996)  Comedy"
      ]
     },
     "execution_count": 11,
     "metadata": {},
     "output_type": "execute_result"
    }
   ],
   "source": [
    "data_full_reversed.head(5)"
   ]
  },
  {
   "cell_type": "code",
   "execution_count": 6,
   "id": "6a1f5465-b7f5-48d4-bf71-c2ffd1dcf0c0",
   "metadata": {},
   "outputs": [],
   "source": [
    "feature_data = fun.create_feature_data(data_full_spark)"
   ]
  },
  {
   "cell_type": "code",
   "execution_count": 26,
   "id": "2069eacb-f595-4137-bd22-5004d07d6227",
   "metadata": {},
   "outputs": [
    {
     "name": "stdout",
     "output_type": "stream",
     "text": [
      "+-------+--------------------+\n",
      "|MovieId|            features|\n",
      "+-------+--------------------+\n",
      "|    673|(1043,[169,690,10...|\n",
      "|    879|(1043,[909,1026,1...|\n",
      "|     66|(1043,[256,1025,1...|\n",
      "|      9|(1043,[11,342,101...|\n",
      "|    605|(1043,[754,848,94...|\n",
      "+-------+--------------------+\n",
      "only showing top 5 rows\n",
      "\n"
     ]
    }
   ],
   "source": [
    "feature_data.show(5)"
   ]
  },
  {
   "cell_type": "markdown",
   "id": "ec7b4fc5-b366-4ba8-ae80-a1ac6f55c261",
   "metadata": {},
   "source": [
    "## Suprise Train"
   ]
  },
  {
   "cell_type": "code",
   "execution_count": 7,
   "id": "5e2c2264-5506-4a1e-9d69-0ed7cf72f1a3",
   "metadata": {
    "tags": []
   },
   "outputs": [
    {
     "name": "stdout",
     "output_type": "stream",
     "text": [
      "Processing epoch 0\n",
      "Processing epoch 1\n",
      "Processing epoch 2\n",
      "Processing epoch 3\n",
      "Processing epoch 4\n",
      "Processing epoch 5\n",
      "Processing epoch 6\n",
      "Processing epoch 7\n",
      "Processing epoch 8\n",
      "Processing epoch 9\n",
      "Processing epoch 10\n",
      "Processing epoch 11\n",
      "Processing epoch 12\n",
      "Processing epoch 13\n",
      "Processing epoch 14\n",
      "Processing epoch 15\n",
      "Processing epoch 16\n",
      "Processing epoch 17\n",
      "Processing epoch 18\n",
      "Processing epoch 19\n",
      "Processing epoch 20\n",
      "Processing epoch 21\n",
      "Processing epoch 22\n",
      "Processing epoch 23\n",
      "Processing epoch 24\n",
      "Processing epoch 25\n",
      "Processing epoch 26\n",
      "Processing epoch 27\n",
      "Processing epoch 28\n",
      "Processing epoch 29\n",
      "Took 7.443470682948828 seconds for training.\n"
     ]
    }
   ],
   "source": [
    "data = data_full[['UserId', 'MovieId', 'Rating']]\n",
    "train, test = python_random_split(data, 0.75)\n",
    "train_set = surprise.Dataset.load_from_df(train, reader=surprise.Reader('ml-100k')).build_full_trainset()\n",
    "svd = surprise.SVD(random_state=0, n_factors=200, n_epochs=30, verbose=True)\n",
    "\n",
    "with Timer() as train_time:\n",
    "    svd.fit(train_set)\n",
    "\n",
    "print(\"Took {} seconds for training.\".format(train_time.interval))"
   ]
  },
  {
   "cell_type": "code",
   "execution_count": 8,
   "id": "edef9779-0fdf-4938-a0f1-bc00ff9e3a2a",
   "metadata": {},
   "outputs": [
    {
     "name": "stdout",
     "output_type": "stream",
     "text": [
      "Spark df created, info: \n",
      "\n",
      "root\n",
      " |-- UserId: integer (nullable = true)\n",
      " |-- MovieId: integer (nullable = true)\n",
      " |-- prediction: float (nullable = true)\n",
      "\n",
      "+------+-------+----------+\n",
      "|UserId|MovieId|prediction|\n",
      "+------+-------+----------+\n",
      "|   148|    496| 3.4756436|\n",
      "|   148|    471| 3.4078066|\n",
      "|   148|    463|  4.163447|\n",
      "|   148|    148| 3.0047324|\n",
      "|   148|   1342| 3.2007117|\n",
      "+------+-------+----------+\n",
      "only showing top 5 rows\n",
      "\n",
      "+------+-------+----------+\n",
      "|UserId|MovieId|prediction|\n",
      "+------+-------+----------+\n",
      "|   148|    496| 3.4756436|\n",
      "|   148|    471| 3.4078066|\n",
      "|   148|    463|  4.163447|\n",
      "|   148|    148| 3.0047324|\n",
      "|   148|   1342| 3.2007117|\n",
      "+------+-------+----------+\n",
      "only showing top 5 rows\n",
      "\n"
     ]
    }
   ],
   "source": [
    "train_df_spark, test_df_spark, user_item = fun.split_spark(data_full_spark)\n",
    "user_item_pd = fun.movielens_to_pandas(user_item)\n",
    "predictions = predict(svd, user_item_pd, usercol='UserId', itemcol='MovieId')\n",
    "pred_spark = fun.movielens_to_spark(predictions, schema = fun.get_predictions_schema())\n",
    "pred_spark.show(5)"
   ]
  },
  {
   "cell_type": "markdown",
   "id": "ef724278-2674-4c4f-9f9f-6c88c7c2449e",
   "metadata": {},
   "source": [
    "## Create Top K"
   ]
  },
  {
   "cell_type": "code",
   "execution_count": 9,
   "id": "240f1f83-5c1b-4f3e-8c4a-667175f65f66",
   "metadata": {
    "tags": []
   },
   "outputs": [
    {
     "name": "stdout",
     "output_type": "stream",
     "text": [
      "+------+-------+----------+\n",
      "|UserId|MovieId|prediction|\n",
      "+------+-------+----------+\n",
      "|   148|    124|       5.0|\n",
      "|   148|    129| 4.9517055|\n",
      "|   148|     71| 4.6859555|\n",
      "|   148|    511|  4.666545|\n",
      "|   148|     12| 4.6350036|\n",
      "|   148|    170|  4.633393|\n",
      "|   148|   1240| 4.5800695|\n",
      "|   148|    523| 4.5740476|\n",
      "|   148|    199|  4.559443|\n",
      "|   148|     64|  4.517385|\n",
      "|   463|    183| 4.3592577|\n",
      "|   463|     98| 4.3387527|\n",
      "|   463|    887|  4.316803|\n",
      "|   463|    511|  4.290304|\n",
      "|   463|    275|  4.266462|\n",
      "|   463|    515| 4.1848965|\n",
      "|   463|    202| 4.1561847|\n",
      "|   463|    199|    4.1174|\n",
      "|   463|    169| 4.0986457|\n",
      "|   463|    272|  4.072341|\n",
      "+------+-------+----------+\n",
      "only showing top 20 rows\n",
      "\n"
     ]
    }
   ],
   "source": [
    "top_k, top_all = fun.create_topk_topall(pred_df_spark = pred_spark , train_df_spark = train_df_spark,top_k = TOP_K )\n",
    "top_k.show()"
   ]
  },
  {
   "cell_type": "markdown",
   "id": "c2af1b22-e7fc-4f71-9db3-0b0aec48dc5b",
   "metadata": {},
   "source": [
    "## Get metrics"
   ]
  },
  {
   "cell_type": "code",
   "execution_count": 10,
   "id": "37e0bb08-9344-4db2-8c15-d45e73d7980d",
   "metadata": {},
   "outputs": [],
   "source": [
    "diversity_collaborative, diversity_content, ranking, rating = fun.get_metrics(train_df_spark, test_df_spark, top_k, top_all, feature_data, top_k = TOP_K)"
   ]
  },
  {
   "cell_type": "markdown",
   "id": "7c0db55e-8443-4e74-bdd2-efa53515ce1a",
   "metadata": {
    "tags": []
   },
   "source": [
    "## Display metrics"
   ]
  },
  {
   "cell_type": "code",
   "execution_count": 14,
   "id": "0f5c3b45-9578-4748-bb76-ad8c4d9f6d6b",
   "metadata": {},
   "outputs": [],
   "source": [
    "met_res = fun.display_metrics(diversity_collaborative, diversity_content, ranking, rating)"
   ]
  },
  {
   "cell_type": "code",
   "execution_count": 15,
   "id": "bac19841-5a2b-464a-b2f1-e66e79a0708b",
   "metadata": {},
   "outputs": [
    {
     "data": {
      "text/html": [
       "<div>\n",
       "<style scoped>\n",
       "    .dataframe tbody tr th:only-of-type {\n",
       "        vertical-align: middle;\n",
       "    }\n",
       "\n",
       "    .dataframe tbody tr th {\n",
       "        vertical-align: top;\n",
       "    }\n",
       "\n",
       "    .dataframe thead th {\n",
       "        text-align: right;\n",
       "    }\n",
       "</style>\n",
       "<table border=\"1\" class=\"dataframe\">\n",
       "  <thead>\n",
       "    <tr style=\"text-align: right;\">\n",
       "      <th></th>\n",
       "      <th>Metric</th>\n",
       "      <th>Score</th>\n",
       "      <th>Range</th>\n",
       "      <th>Criteria</th>\n",
       "    </tr>\n",
       "  </thead>\n",
       "  <tbody>\n",
       "    <tr>\n",
       "      <th>0</th>\n",
       "      <td>Collaborative Diversity</td>\n",
       "      <td>0.722865</td>\n",
       "      <td>[0,1]</td>\n",
       "      <td>The closer to 1 the better</td>\n",
       "    </tr>\n",
       "    <tr>\n",
       "      <th>1</th>\n",
       "      <td>Collaborative Serendipity</td>\n",
       "      <td>0.789840</td>\n",
       "      <td>[0,1]</td>\n",
       "      <td>The closer to 1 the better</td>\n",
       "    </tr>\n",
       "    <tr>\n",
       "      <th>2</th>\n",
       "      <td>Collaborative Novelty</td>\n",
       "      <td>9.261110</td>\n",
       "      <td>&gt;=0</td>\n",
       "      <td>Inverse popularity. The higher the better</td>\n",
       "    </tr>\n",
       "    <tr>\n",
       "      <th>3</th>\n",
       "      <td>Content Diversity</td>\n",
       "      <td>0.869231</td>\n",
       "      <td>[0,1]</td>\n",
       "      <td>The closer to 1 the better</td>\n",
       "    </tr>\n",
       "    <tr>\n",
       "      <th>4</th>\n",
       "      <td>Content Serendipity</td>\n",
       "      <td>0.880999</td>\n",
       "      <td>[0,1]</td>\n",
       "      <td>The closer to 1 the better</td>\n",
       "    </tr>\n",
       "    <tr>\n",
       "      <th>5</th>\n",
       "      <td>Content Novelty</td>\n",
       "      <td>9.261110</td>\n",
       "      <td>&gt;=0</td>\n",
       "      <td>Inverse popularity. The higher the better</td>\n",
       "    </tr>\n",
       "    <tr>\n",
       "      <th>6</th>\n",
       "      <td>RMSE</td>\n",
       "      <td>0.584161</td>\n",
       "      <td>&gt;0</td>\n",
       "      <td>The smaller the better</td>\n",
       "    </tr>\n",
       "    <tr>\n",
       "      <th>7</th>\n",
       "      <td>MAE</td>\n",
       "      <td>0.424652</td>\n",
       "      <td>&gt;=0</td>\n",
       "      <td>The smaller the better</td>\n",
       "    </tr>\n",
       "    <tr>\n",
       "      <th>8</th>\n",
       "      <td>R Squared</td>\n",
       "      <td>0.728360</td>\n",
       "      <td>&lt;=1</td>\n",
       "      <td>The closer to 1 the better</td>\n",
       "    </tr>\n",
       "    <tr>\n",
       "      <th>9</th>\n",
       "      <td>Precision@k</td>\n",
       "      <td>0.205101</td>\n",
       "      <td>[0,1]</td>\n",
       "      <td>The closer to 1 the better. Grows with k</td>\n",
       "    </tr>\n",
       "    <tr>\n",
       "      <th>10</th>\n",
       "      <td>Recall@k</td>\n",
       "      <td>0.081707</td>\n",
       "      <td>[0,1]</td>\n",
       "      <td>The closer to 1 the better. Grows with k</td>\n",
       "    </tr>\n",
       "  </tbody>\n",
       "</table>\n",
       "</div>"
      ],
      "text/plain": [
       "                       Metric     Score  Range  \\\n",
       "0     Collaborative Diversity  0.722865  [0,1]   \n",
       "1   Collaborative Serendipity  0.789840  [0,1]   \n",
       "2       Collaborative Novelty  9.261110    >=0   \n",
       "3           Content Diversity  0.869231  [0,1]   \n",
       "4         Content Serendipity  0.880999  [0,1]   \n",
       "5             Content Novelty  9.261110    >=0   \n",
       "6                        RMSE  0.584161     >0   \n",
       "7                         MAE  0.424652    >=0   \n",
       "8                   R Squared  0.728360    <=1   \n",
       "9                 Precision@k  0.205101  [0,1]   \n",
       "10                   Recall@k  0.081707  [0,1]   \n",
       "\n",
       "                                     Criteria  \n",
       "0                  The closer to 1 the better  \n",
       "1                  The closer to 1 the better  \n",
       "2   Inverse popularity. The higher the better  \n",
       "3                  The closer to 1 the better  \n",
       "4                  The closer to 1 the better  \n",
       "5   Inverse popularity. The higher the better  \n",
       "6                      The smaller the better  \n",
       "7                      The smaller the better  \n",
       "8                  The closer to 1 the better  \n",
       "9    The closer to 1 the better. Grows with k  \n",
       "10   The closer to 1 the better. Grows with k  "
      ]
     },
     "execution_count": 15,
     "metadata": {},
     "output_type": "execute_result"
    }
   ],
   "source": [
    "met_res"
   ]
  },
  {
   "cell_type": "code",
   "execution_count": 20,
   "id": "c3400665-c1fe-4960-85a5-f573bfefbcb0",
   "metadata": {},
   "outputs": [],
   "source": [
    "met_res.to_csv(\"svd_20k_results.csv\", index = False)"
   ]
  },
  {
   "cell_type": "code",
   "execution_count": null,
   "id": "96e99f2a-5bae-4522-b627-8d2fc43eb433",
   "metadata": {},
   "outputs": [],
   "source": []
  }
 ],
 "metadata": {
  "kernelspec": {
   "display_name": "condarec",
   "language": "python",
   "name": "condarec"
  },
  "language_info": {
   "codemirror_mode": {
    "name": "ipython",
    "version": 3
   },
   "file_extension": ".py",
   "mimetype": "text/x-python",
   "name": "python",
   "nbconvert_exporter": "python",
   "pygments_lexer": "ipython3",
   "version": "3.7.0"
  }
 },
 "nbformat": 4,
 "nbformat_minor": 5
}
